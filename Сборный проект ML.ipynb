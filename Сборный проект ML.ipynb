{
 "cells": [
  {
   "cell_type": "code",
   "execution_count": null,
   "metadata": {},
   "outputs": [],
   "source": []
  },
  {
   "cell_type": "markdown",
   "metadata": {
    "toc": true
   },
   "source": [
    "<h1>Содержание<span class=\"tocSkip\"></span></h1>\n",
    "<div class=\"toc\"><ul class=\"toc-item\"><li><span><a href=\"#Подготовка-данных\" data-toc-modified-id=\"Подготовка-данных-1\"><span class=\"toc-item-num\">1&nbsp;&nbsp;</span>Подготовка данных</a></span><ul class=\"toc-item\"><li><span><a href=\"#Откроем-данные-и-произведем-необходимые-импорты\" data-toc-modified-id=\"Откроем-данные-и-произведем-необходимые-импорты-1.1\"><span class=\"toc-item-num\">1.1&nbsp;&nbsp;</span>Откроем данные и произведем необходимые импорты</a></span></li><li><span><a href=\"#Проверим,-что-эффективность-обогащения-рассчитана-правильно.\" data-toc-modified-id=\"Проверим,-что-эффективность-обогащения-рассчитана-правильно.-1.2\"><span class=\"toc-item-num\">1.2&nbsp;&nbsp;</span>Проверим, что эффективность обогащения рассчитана правильно.</a></span></li><li><span><a href=\"#Проанализируем-признаки,-недоступные-в-тестовой-выборке.\" data-toc-modified-id=\"Проанализируем-признаки,-недоступные-в-тестовой-выборке.-1.3\"><span class=\"toc-item-num\">1.3&nbsp;&nbsp;</span>Проанализируем признаки, недоступные в тестовой выборке.</a></span></li><li><span><a href=\"#Проведите-предобработку-данных.\" data-toc-modified-id=\"Проведите-предобработку-данных.-1.4\"><span class=\"toc-item-num\">1.4&nbsp;&nbsp;</span>Проведите предобработку данных.</a></span></li></ul></li><li><span><a href=\"#Анализ-данных\" data-toc-modified-id=\"Анализ-данных-2\"><span class=\"toc-item-num\">2&nbsp;&nbsp;</span>Анализ данных</a></span><ul class=\"toc-item\"><li><span><a href=\"#Посмотрим,-как-меняется-концентрация-металлов-(Au,-Ag,-Pb)-на-различных-этапах-очистки.-Опишем-выводы.\" data-toc-modified-id=\"Посмотрим,-как-меняется-концентрация-металлов-(Au,-Ag,-Pb)-на-различных-этапах-очистки.-Опишем-выводы.-2.1\"><span class=\"toc-item-num\">2.1&nbsp;&nbsp;</span>Посмотрим, как меняется концентрация металлов (Au, Ag, Pb) на различных этапах очистки. Опишем выводы.</a></span></li><li><span><a href=\"#Сравним-распределения-размеров-гранул-сырья-на-обучающей-и-тестовой-выборках.-Если-распределения-сильно-отличаются-друг-от-друга,-оценка-модели-будет-неправильной.\" data-toc-modified-id=\"Сравним-распределения-размеров-гранул-сырья-на-обучающей-и-тестовой-выборках.-Если-распределения-сильно-отличаются-друг-от-друга,-оценка-модели-будет-неправильной.-2.2\"><span class=\"toc-item-num\">2.2&nbsp;&nbsp;</span>Сравним распределения размеров гранул сырья на обучающей и тестовой выборках. Если распределения сильно отличаются друг от друга, оценка модели будет неправильной.</a></span></li><li><span><a href=\"#Исследуем-суммарную-концентрацию-всех-веществ-на-разных-стадиях:-в-сырье,-в-черновом-и-финальном-концентратах.\" data-toc-modified-id=\"Исследуем-суммарную-концентрацию-всех-веществ-на-разных-стадиях:-в-сырье,-в-черновом-и-финальном-концентратах.-2.3\"><span class=\"toc-item-num\">2.3&nbsp;&nbsp;</span>Исследуем суммарную концентрацию всех веществ на разных стадиях: в сырье, в черновом и финальном концентратах.</a></span></li></ul></li><li><span><a href=\"#Модель\" data-toc-modified-id=\"Модель-3\"><span class=\"toc-item-num\">3&nbsp;&nbsp;</span>Модель</a></span><ul class=\"toc-item\"><li><span><a href=\"#Финальная-подготовка-данных\" data-toc-modified-id=\"Финальная-подготовка-данных-3.1\"><span class=\"toc-item-num\">3.1&nbsp;&nbsp;</span>Финальная подготовка данных</a></span></li><li><span><a href=\"#Разбивка-на-выборки\" data-toc-modified-id=\"Разбивка-на-выборки-3.2\"><span class=\"toc-item-num\">3.2&nbsp;&nbsp;</span>Разбивка на выборки</a></span></li><li><span><a href=\"#Вычисление-sMAPE\" data-toc-modified-id=\"Вычисление-sMAPE-3.3\"><span class=\"toc-item-num\">3.3&nbsp;&nbsp;</span>Вычисление sMAPE</a></span></li><li><span><a href=\"#Выбор-модели\" data-toc-modified-id=\"Выбор-модели-3.4\"><span class=\"toc-item-num\">3.4&nbsp;&nbsp;</span>Выбор модели</a></span></li><li><span><a href=\"#Проверка-модели-на-тестовых-данных\" data-toc-modified-id=\"Проверка-модели-на-тестовых-данных-3.5\"><span class=\"toc-item-num\">3.5&nbsp;&nbsp;</span>Проверка модели на тестовых данных</a></span></li><li><span><a href=\"#Сравним-результаты-модели-с-константной\" data-toc-modified-id=\"Сравним-результаты-модели-с-константной-3.6\"><span class=\"toc-item-num\">3.6&nbsp;&nbsp;</span>Сравним результаты модели с константной</a></span></li></ul></li><li><span><a href=\"#Вывод\" data-toc-modified-id=\"Вывод-4\"><span class=\"toc-item-num\">4&nbsp;&nbsp;</span>Вывод</a></span></li><li><span><a href=\"#Чек-лист-готовности-проекта\" data-toc-modified-id=\"Чек-лист-готовности-проекта-5\"><span class=\"toc-item-num\">5&nbsp;&nbsp;</span>Чек-лист готовности проекта</a></span></li></ul></div>"
   ]
  },
  {
   "cell_type": "markdown",
   "metadata": {},
   "source": [
    "# Восстановление золота из руды"
   ]
  },
  {
   "cell_type": "markdown",
   "metadata": {},
   "source": [
    "Необходимо подготовить прототип модели машинного обучения. Компания разрабатывает решения для эффективной работы промышленных предприятий.\n",
    "\n",
    "Модель должна предсказать коэффициент восстановления золота из золотосодержащей руды на основе данных с параметрами добычи и очистки. \n",
    "\n",
    "Модель поможет оптимизировать производство, чтобы не запускать предприятие с убыточными характеристиками.\n",
    "\n",
    "Задачи:\n",
    "\n",
    "1. Подготовить данные;\n",
    "2. Провести исследовательский анализ данных;\n",
    "3. Построить и обучить модель.\n",
    "\n",
    "Чтобы выполнить проект, обращайтесь к библиотекам *pandas*, *matplotlib* и *sklearn.* "
   ]
  },
  {
   "cell_type": "markdown",
   "metadata": {},
   "source": [
    "## Подготовка данных"
   ]
  },
  {
   "cell_type": "markdown",
   "metadata": {},
   "source": [
    "Общая информация о данных:\n",
    "\n",
    "Наименование признаков должно быть такое:\n",
    "\n",
    "[этап].[тип_параметра].[название_параметра]\n",
    "\n",
    "Пример: rougher.input.feed_ag\n",
    "\n",
    "Возможные значения для блока [этап]:\n",
    "\n",
    "    rougher — флотация\n",
    "    primary_cleaner — первичная очистка\n",
    "    secondary_cleaner — вторичная очистка\n",
    "    final — финальные характеристики\n",
    "    \n",
    "Возможные значения для блока [тип_параметра]:\n",
    "\n",
    "    input — параметры сырья\n",
    "    output — параметры продукта\n",
    "    state — параметры, характеризующие текущее состояние этапа\n",
    "calculation — расчётные характеристики"
   ]
  },
  {
   "cell_type": "markdown",
   "metadata": {},
   "source": [
    "### Задачи этапа\n",
    "Проверить, что эффективность обогащения рассчитана правильно. Вычислить её на обучающей выборке для признака rougher.output.recovery. Найдити MAE между вашими расчётами и значением признака. Описать выводы.\n",
    "\n",
    "    1.3. Проанализируйте признаки, недоступные в тестовой выборке. Что это за параметры? К какому типу относятся?\n",
    "    1.4. Проведите предобработку данных."
   ]
  },
  {
   "cell_type": "markdown",
   "metadata": {},
   "source": [
    "### Откроем данные и произведем необходимые импорты"
   ]
  },
  {
   "cell_type": "code",
   "execution_count": 1,
   "metadata": {},
   "outputs": [],
   "source": [
    "import pandas as pd\n",
    "import matplotlib as mpl\n",
    "import matplotlib.pyplot as plt\n",
    "import numpy as np\n",
    "pd.options.display.max_columns = None\n",
    "from sklearn.metrics import mean_absolute_error\n",
    "import seaborn as sns\n",
    "from matplotlib import pyplot\n",
    "from sklearn.model_selection import train_test_split\n",
    "from sklearn.metrics import make_scorer\n",
    "from sklearn.ensemble import RandomForestRegressor\n",
    "from sklearn.model_selection import cross_val_score\n",
    "from sklearn.linear_model import LinearRegression\n",
    "from sklearn.tree import DecisionTreeRegressor\n",
    "from sklearn.dummy import DummyRegressor\n",
    "\n",
    "data_train = pd.read_csv('gold_recovery_train_new.csv')\n",
    "data_test = pd.read_csv('gold_recovery_test_new.csv')\n",
    "data_full = pd.read_csv('gold_recovery_full_new.csv')\n",
    "\n",
    "import warnings\n",
    "warnings.filterwarnings('ignore')"
   ]
  },
  {
   "cell_type": "markdown",
   "metadata": {},
   "source": [
    "Осмотрим инфомацию о данных"
   ]
  },
  {
   "cell_type": "code",
   "execution_count": 2,
   "metadata": {},
   "outputs": [
    {
     "name": "stdout",
     "output_type": "stream",
     "text": [
      "<class 'pandas.core.frame.DataFrame'>\n",
      "RangeIndex: 14149 entries, 0 to 14148\n",
      "Data columns (total 87 columns):\n",
      " #   Column                                              Non-Null Count  Dtype  \n",
      "---  ------                                              --------------  -----  \n",
      " 0   date                                                14149 non-null  object \n",
      " 1   final.output.concentrate_ag                         14148 non-null  float64\n",
      " 2   final.output.concentrate_pb                         14148 non-null  float64\n",
      " 3   final.output.concentrate_sol                        13938 non-null  float64\n",
      " 4   final.output.concentrate_au                         14149 non-null  float64\n",
      " 5   final.output.recovery                               14149 non-null  float64\n",
      " 6   final.output.tail_ag                                14149 non-null  float64\n",
      " 7   final.output.tail_pb                                14049 non-null  float64\n",
      " 8   final.output.tail_sol                               14144 non-null  float64\n",
      " 9   final.output.tail_au                                14149 non-null  float64\n",
      " 10  primary_cleaner.input.sulfate                       14129 non-null  float64\n",
      " 11  primary_cleaner.input.depressant                    14117 non-null  float64\n",
      " 12  primary_cleaner.input.feed_size                     14149 non-null  float64\n",
      " 13  primary_cleaner.input.xanthate                      14049 non-null  float64\n",
      " 14  primary_cleaner.output.concentrate_ag               14149 non-null  float64\n",
      " 15  primary_cleaner.output.concentrate_pb               14063 non-null  float64\n",
      " 16  primary_cleaner.output.concentrate_sol              13863 non-null  float64\n",
      " 17  primary_cleaner.output.concentrate_au               14149 non-null  float64\n",
      " 18  primary_cleaner.output.tail_ag                      14148 non-null  float64\n",
      " 19  primary_cleaner.output.tail_pb                      14134 non-null  float64\n",
      " 20  primary_cleaner.output.tail_sol                     14103 non-null  float64\n",
      " 21  primary_cleaner.output.tail_au                      14149 non-null  float64\n",
      " 22  primary_cleaner.state.floatbank8_a_air              14145 non-null  float64\n",
      " 23  primary_cleaner.state.floatbank8_a_level            14148 non-null  float64\n",
      " 24  primary_cleaner.state.floatbank8_b_air              14145 non-null  float64\n",
      " 25  primary_cleaner.state.floatbank8_b_level            14148 non-null  float64\n",
      " 26  primary_cleaner.state.floatbank8_c_air              14147 non-null  float64\n",
      " 27  primary_cleaner.state.floatbank8_c_level            14148 non-null  float64\n",
      " 28  primary_cleaner.state.floatbank8_d_air              14146 non-null  float64\n",
      " 29  primary_cleaner.state.floatbank8_d_level            14148 non-null  float64\n",
      " 30  rougher.calculation.sulfate_to_au_concentrate       14148 non-null  float64\n",
      " 31  rougher.calculation.floatbank10_sulfate_to_au_feed  14148 non-null  float64\n",
      " 32  rougher.calculation.floatbank11_sulfate_to_au_feed  14148 non-null  float64\n",
      " 33  rougher.calculation.au_pb_ratio                     14149 non-null  float64\n",
      " 34  rougher.input.feed_ag                               14149 non-null  float64\n",
      " 35  rougher.input.feed_pb                               14049 non-null  float64\n",
      " 36  rougher.input.feed_rate                             14141 non-null  float64\n",
      " 37  rougher.input.feed_size                             14005 non-null  float64\n",
      " 38  rougher.input.feed_sol                              14071 non-null  float64\n",
      " 39  rougher.input.feed_au                               14149 non-null  float64\n",
      " 40  rougher.input.floatbank10_sulfate                   14120 non-null  float64\n",
      " 41  rougher.input.floatbank10_xanthate                  14141 non-null  float64\n",
      " 42  rougher.input.floatbank11_sulfate                   14113 non-null  float64\n",
      " 43  rougher.input.floatbank11_xanthate                  13721 non-null  float64\n",
      " 44  rougher.output.concentrate_ag                       14149 non-null  float64\n",
      " 45  rougher.output.concentrate_pb                       14149 non-null  float64\n",
      " 46  rougher.output.concentrate_sol                      14127 non-null  float64\n",
      " 47  rougher.output.concentrate_au                       14149 non-null  float64\n",
      " 48  rougher.output.recovery                             14149 non-null  float64\n",
      " 49  rougher.output.tail_ag                              14148 non-null  float64\n",
      " 50  rougher.output.tail_pb                              14149 non-null  float64\n",
      " 51  rougher.output.tail_sol                             14149 non-null  float64\n",
      " 52  rougher.output.tail_au                              14149 non-null  float64\n",
      " 53  rougher.state.floatbank10_a_air                     14148 non-null  float64\n",
      " 54  rougher.state.floatbank10_a_level                   14148 non-null  float64\n",
      " 55  rougher.state.floatbank10_b_air                     14148 non-null  float64\n",
      " 56  rougher.state.floatbank10_b_level                   14148 non-null  float64\n",
      " 57  rougher.state.floatbank10_c_air                     14148 non-null  float64\n",
      " 58  rougher.state.floatbank10_c_level                   14148 non-null  float64\n",
      " 59  rougher.state.floatbank10_d_air                     14149 non-null  float64\n",
      " 60  rougher.state.floatbank10_d_level                   14149 non-null  float64\n",
      " 61  rougher.state.floatbank10_e_air                     13713 non-null  float64\n",
      " 62  rougher.state.floatbank10_e_level                   14149 non-null  float64\n",
      " 63  rougher.state.floatbank10_f_air                     14149 non-null  float64\n",
      " 64  rougher.state.floatbank10_f_level                   14149 non-null  float64\n",
      " 65  secondary_cleaner.output.tail_ag                    14147 non-null  float64\n",
      " 66  secondary_cleaner.output.tail_pb                    14139 non-null  float64\n",
      " 67  secondary_cleaner.output.tail_sol                   12544 non-null  float64\n",
      " 68  secondary_cleaner.output.tail_au                    14149 non-null  float64\n",
      " 69  secondary_cleaner.state.floatbank2_a_air            13932 non-null  float64\n",
      " 70  secondary_cleaner.state.floatbank2_a_level          14148 non-null  float64\n",
      " 71  secondary_cleaner.state.floatbank2_b_air            14128 non-null  float64\n",
      " 72  secondary_cleaner.state.floatbank2_b_level          14148 non-null  float64\n",
      " 73  secondary_cleaner.state.floatbank3_a_air            14145 non-null  float64\n",
      " 74  secondary_cleaner.state.floatbank3_a_level          14148 non-null  float64\n",
      " 75  secondary_cleaner.state.floatbank3_b_air            14148 non-null  float64\n",
      " 76  secondary_cleaner.state.floatbank3_b_level          14148 non-null  float64\n",
      " 77  secondary_cleaner.state.floatbank4_a_air            14143 non-null  float64\n",
      " 78  secondary_cleaner.state.floatbank4_a_level          14148 non-null  float64\n",
      " 79  secondary_cleaner.state.floatbank4_b_air            14148 non-null  float64\n",
      " 80  secondary_cleaner.state.floatbank4_b_level          14148 non-null  float64\n",
      " 81  secondary_cleaner.state.floatbank5_a_air            14148 non-null  float64\n",
      " 82  secondary_cleaner.state.floatbank5_a_level          14148 non-null  float64\n",
      " 83  secondary_cleaner.state.floatbank5_b_air            14148 non-null  float64\n",
      " 84  secondary_cleaner.state.floatbank5_b_level          14148 non-null  float64\n",
      " 85  secondary_cleaner.state.floatbank6_a_air            14147 non-null  float64\n",
      " 86  secondary_cleaner.state.floatbank6_a_level          14148 non-null  float64\n",
      "dtypes: float64(86), object(1)\n",
      "memory usage: 9.4+ MB\n"
     ]
    }
   ],
   "source": [
    "data_train.info()"
   ]
  },
  {
   "cell_type": "code",
   "execution_count": 3,
   "metadata": {},
   "outputs": [
    {
     "name": "stdout",
     "output_type": "stream",
     "text": [
      "<class 'pandas.core.frame.DataFrame'>\n",
      "RangeIndex: 5290 entries, 0 to 5289\n",
      "Data columns (total 53 columns):\n",
      " #   Column                                      Non-Null Count  Dtype  \n",
      "---  ------                                      --------------  -----  \n",
      " 0   date                                        5290 non-null   object \n",
      " 1   primary_cleaner.input.sulfate               5286 non-null   float64\n",
      " 2   primary_cleaner.input.depressant            5285 non-null   float64\n",
      " 3   primary_cleaner.input.feed_size             5290 non-null   float64\n",
      " 4   primary_cleaner.input.xanthate              5286 non-null   float64\n",
      " 5   primary_cleaner.state.floatbank8_a_air      5290 non-null   float64\n",
      " 6   primary_cleaner.state.floatbank8_a_level    5290 non-null   float64\n",
      " 7   primary_cleaner.state.floatbank8_b_air      5290 non-null   float64\n",
      " 8   primary_cleaner.state.floatbank8_b_level    5290 non-null   float64\n",
      " 9   primary_cleaner.state.floatbank8_c_air      5290 non-null   float64\n",
      " 10  primary_cleaner.state.floatbank8_c_level    5290 non-null   float64\n",
      " 11  primary_cleaner.state.floatbank8_d_air      5290 non-null   float64\n",
      " 12  primary_cleaner.state.floatbank8_d_level    5290 non-null   float64\n",
      " 13  rougher.input.feed_ag                       5290 non-null   float64\n",
      " 14  rougher.input.feed_pb                       5290 non-null   float64\n",
      " 15  rougher.input.feed_rate                     5287 non-null   float64\n",
      " 16  rougher.input.feed_size                     5289 non-null   float64\n",
      " 17  rougher.input.feed_sol                      5269 non-null   float64\n",
      " 18  rougher.input.feed_au                       5290 non-null   float64\n",
      " 19  rougher.input.floatbank10_sulfate           5285 non-null   float64\n",
      " 20  rougher.input.floatbank10_xanthate          5290 non-null   float64\n",
      " 21  rougher.input.floatbank11_sulfate           5282 non-null   float64\n",
      " 22  rougher.input.floatbank11_xanthate          5265 non-null   float64\n",
      " 23  rougher.state.floatbank10_a_air             5290 non-null   float64\n",
      " 24  rougher.state.floatbank10_a_level           5290 non-null   float64\n",
      " 25  rougher.state.floatbank10_b_air             5290 non-null   float64\n",
      " 26  rougher.state.floatbank10_b_level           5290 non-null   float64\n",
      " 27  rougher.state.floatbank10_c_air             5290 non-null   float64\n",
      " 28  rougher.state.floatbank10_c_level           5290 non-null   float64\n",
      " 29  rougher.state.floatbank10_d_air             5290 non-null   float64\n",
      " 30  rougher.state.floatbank10_d_level           5290 non-null   float64\n",
      " 31  rougher.state.floatbank10_e_air             5290 non-null   float64\n",
      " 32  rougher.state.floatbank10_e_level           5290 non-null   float64\n",
      " 33  rougher.state.floatbank10_f_air             5290 non-null   float64\n",
      " 34  rougher.state.floatbank10_f_level           5290 non-null   float64\n",
      " 35  secondary_cleaner.state.floatbank2_a_air    5287 non-null   float64\n",
      " 36  secondary_cleaner.state.floatbank2_a_level  5290 non-null   float64\n",
      " 37  secondary_cleaner.state.floatbank2_b_air    5288 non-null   float64\n",
      " 38  secondary_cleaner.state.floatbank2_b_level  5290 non-null   float64\n",
      " 39  secondary_cleaner.state.floatbank3_a_air    5281 non-null   float64\n",
      " 40  secondary_cleaner.state.floatbank3_a_level  5290 non-null   float64\n",
      " 41  secondary_cleaner.state.floatbank3_b_air    5290 non-null   float64\n",
      " 42  secondary_cleaner.state.floatbank3_b_level  5290 non-null   float64\n",
      " 43  secondary_cleaner.state.floatbank4_a_air    5290 non-null   float64\n",
      " 44  secondary_cleaner.state.floatbank4_a_level  5290 non-null   float64\n",
      " 45  secondary_cleaner.state.floatbank4_b_air    5290 non-null   float64\n",
      " 46  secondary_cleaner.state.floatbank4_b_level  5290 non-null   float64\n",
      " 47  secondary_cleaner.state.floatbank5_a_air    5290 non-null   float64\n",
      " 48  secondary_cleaner.state.floatbank5_a_level  5290 non-null   float64\n",
      " 49  secondary_cleaner.state.floatbank5_b_air    5290 non-null   float64\n",
      " 50  secondary_cleaner.state.floatbank5_b_level  5290 non-null   float64\n",
      " 51  secondary_cleaner.state.floatbank6_a_air    5290 non-null   float64\n",
      " 52  secondary_cleaner.state.floatbank6_a_level  5290 non-null   float64\n",
      "dtypes: float64(52), object(1)\n",
      "memory usage: 2.1+ MB\n"
     ]
    }
   ],
   "source": [
    "data_test.info()"
   ]
  },
  {
   "cell_type": "markdown",
   "metadata": {},
   "source": [
    "Состав датасетов не однородный. Это легко объясняется большим количеством тех. процессов и информации об их состоянии. Для нашей задачи мы не будем использовать такие данные и в дальнейшем приведем данные к виду тестового фрейма. "
   ]
  },
  {
   "cell_type": "markdown",
   "metadata": {},
   "source": [
    "###  Проверим, что эффективность обогащения рассчитана правильно."
   ]
  },
  {
   "cell_type": "markdown",
   "metadata": {},
   "source": [
    "Вычислим её на обучающей выборке для признака rougher.output.recovery. Найдем MAE между расчётами и значением признака. Опишите выводы."
   ]
  },
  {
   "cell_type": "code",
   "execution_count": 4,
   "metadata": {},
   "outputs": [],
   "source": [
    "c = data_train['rougher.output.concentrate_au']\n",
    "f = data_train['rougher.input.feed_au']\n",
    "t = data_train['rougher.output.tail_au']\n",
    "data_train['rougher_recovery_calc'] = c *(f-t) / (f*(c-t)) * 100"
   ]
  },
  {
   "cell_type": "code",
   "execution_count": 5,
   "metadata": {},
   "outputs": [
    {
     "name": "stdout",
     "output_type": "stream",
     "text": [
      "Средняя абсолютная ошибка: 9.73512347450521e-15\n"
     ]
    }
   ],
   "source": [
    "print('Средняя абсолютная ошибка:',mean_absolute_error(data_train['rougher_recovery_calc'],data_train['rougher.output.recovery']))"
   ]
  },
  {
   "cell_type": "markdown",
   "metadata": {},
   "source": [
    "Мы получили иррациональное число, но оно сопоставимо с нулем, следовательно расчеты верны. Проверить: https://allcalc.ru/node/1021"
   ]
  },
  {
   "cell_type": "markdown",
   "metadata": {},
   "source": [
    "### Проанализируем признаки, недоступные в тестовой выборке. \n",
    "\n",
    "Что это за параметры? К какому типу относятся?"
   ]
  },
  {
   "cell_type": "markdown",
   "metadata": {},
   "source": [
    "Напишем цикл для того, что-бы определить какие признаки отсутствуют в тестовой выборке. "
   ]
  },
  {
   "cell_type": "code",
   "execution_count": 6,
   "metadata": {},
   "outputs": [
    {
     "data": {
      "text/plain": [
       "['final.output.concentrate_ag',\n",
       " 'final.output.concentrate_pb',\n",
       " 'final.output.concentrate_sol',\n",
       " 'final.output.concentrate_au',\n",
       " 'final.output.recovery',\n",
       " 'final.output.tail_ag',\n",
       " 'final.output.tail_pb',\n",
       " 'final.output.tail_sol',\n",
       " 'final.output.tail_au',\n",
       " 'primary_cleaner.output.concentrate_ag',\n",
       " 'primary_cleaner.output.concentrate_pb',\n",
       " 'primary_cleaner.output.concentrate_sol',\n",
       " 'primary_cleaner.output.concentrate_au',\n",
       " 'primary_cleaner.output.tail_ag',\n",
       " 'primary_cleaner.output.tail_pb',\n",
       " 'primary_cleaner.output.tail_sol',\n",
       " 'primary_cleaner.output.tail_au',\n",
       " 'rougher.calculation.sulfate_to_au_concentrate',\n",
       " 'rougher.calculation.floatbank10_sulfate_to_au_feed',\n",
       " 'rougher.calculation.floatbank11_sulfate_to_au_feed',\n",
       " 'rougher.calculation.au_pb_ratio',\n",
       " 'rougher.output.concentrate_ag',\n",
       " 'rougher.output.concentrate_pb',\n",
       " 'rougher.output.concentrate_sol',\n",
       " 'rougher.output.concentrate_au',\n",
       " 'rougher.output.recovery',\n",
       " 'rougher.output.tail_ag',\n",
       " 'rougher.output.tail_pb',\n",
       " 'rougher.output.tail_sol',\n",
       " 'rougher.output.tail_au',\n",
       " 'secondary_cleaner.output.tail_ag',\n",
       " 'secondary_cleaner.output.tail_pb',\n",
       " 'secondary_cleaner.output.tail_sol',\n",
       " 'secondary_cleaner.output.tail_au',\n",
       " 'rougher_recovery_calc']"
      ]
     },
     "execution_count": 6,
     "metadata": {},
     "output_type": "execute_result"
    }
   ],
   "source": [
    "train = data_train.columns.to_list()\n",
    "test = data_test.columns.to_list()\n",
    "result = []\n",
    "\n",
    "for i in train:\n",
    "    if i not in test:\n",
    "        result.append(i)\n",
    "\n",
    "result"
   ]
  },
  {
   "cell_type": "markdown",
   "metadata": {},
   "source": [
    "В тестовой выборке недоступны некоторые расчетные и выходные данные (т.к. их невозможно измерить во время тех. процесса). Часть этих данных будет целевыми признаками для будущей модели."
   ]
  },
  {
   "cell_type": "markdown",
   "metadata": {},
   "source": [
    "### Проведите предобработку данных."
   ]
  },
  {
   "cell_type": "markdown",
   "metadata": {},
   "source": [
    "Мы знаем что среда в которой происходят процессы не стабильна, однако данные идентичны в один промежуток времени. Я отсортирую данные по времени и заполню пропуски предыдущими не нулевыми значениями (интерполяция)."
   ]
  },
  {
   "cell_type": "code",
   "execution_count": 7,
   "metadata": {},
   "outputs": [],
   "source": [
    "data_train = data_train.sort_values(by='date').fillna(method='ffill')\n",
    "data_test = data_test.sort_values(by='date').fillna(method='ffill')\n",
    "data_full = data_full.sort_values(by='date').fillna(method='ffill')"
   ]
  },
  {
   "cell_type": "markdown",
   "metadata": {},
   "source": [
    "## Анализ данных"
   ]
  },
  {
   "cell_type": "markdown",
   "metadata": {},
   "source": [
    "2. Задачи этапа: Проанализируйте данные\n",
    "    \n",
    "    2.1. Посмотреть, как меняется концентрация металлов (Au, Ag, Pb) на различных этапах очистки. Описать выводы.\n",
    "    \n",
    "    2.2. Сравнить распределения размеров гранул сырья на обучающей и тестовой выборках. Если распределения сильно отличаются друг от друга, оценка модели будет неправильной.\n",
    "    \n",
    "    2.3. Исследовать суммарную концентрацию всех веществ на разных стадиях: в сырье, в черновом и финальном концентратах."
   ]
  },
  {
   "cell_type": "markdown",
   "metadata": {},
   "source": [
    "### Посмотрим, как меняется концентрация металлов (Au, Ag, Pb) на различных этапах очистки. Опишем выводы."
   ]
  },
  {
   "cell_type": "markdown",
   "metadata": {},
   "source": [
    "Разделим данные и рассмотрим графики концентрации металлов на этапах по отдельности."
   ]
  },
  {
   "cell_type": "code",
   "execution_count": 8,
   "metadata": {},
   "outputs": [],
   "source": [
    "ag = ['rougher.output.concentrate_ag',\n",
    "      'primary_cleaner.output.concentrate_ag',\n",
    "      'final.output.concentrate_ag']\n",
    "pb = ['rougher.output.concentrate_pb',\n",
    "      'primary_cleaner.output.concentrate_pb',\n",
    "      'final.output.concentrate_pb']\n",
    "au =  ['rougher.output.concentrate_au',\n",
    "      'primary_cleaner.output.concentrate_au',\n",
    "      'final.output.concentrate_au']\n",
    "\n",
    "stage = ['Финал','Первичная очистка','Флотация'] #.reverse() это костыль. Иначе не корректно отображаются этапы в легенде\n",
    "metals = ['ag','pb','au']\n"
   ]
  },
  {
   "cell_type": "code",
   "execution_count": 9,
   "metadata": {},
   "outputs": [
    {
     "data": {
      "image/png": "[encoded data removed]",
      "text/plain": [
       "<Figure size 1080x360 with 1 Axes>"
      ]
     },
     "metadata": {
      "needs_background": "light"
     },
     "output_type": "display_data"
    },
    {
     "data": {
      "image/png": "[encoded data removed]",
      "text/plain": [
       "<Figure size 1080x360 with 1 Axes>"
      ]
     },
     "metadata": {
      "needs_background": "light"
     },
     "output_type": "display_data"
    },
    {
     "data": {
      "image/png": "[encoded data removed]",
      "text/plain": [
       "<Figure size 1080x360 with 1 Axes>"
      ]
     },
     "metadata": {
      "needs_background": "light"
     },
     "output_type": "display_data"
    }
   ],
   "source": [
    "for metal in metals:\n",
    "    plt.figure(figsize=(15,5))\n",
    "    plt.title('Концентрация '+ metal)\n",
    "    ax = sns.kdeplot(data = data_full[globals()[metal]], fill = True, legend = False)\n",
    "    ax.set_xlabel(\"Процентное содержание металла\")   \n",
    "    plt.legend(title = 'Этап', loc = 'upper left', labels = stage)"
   ]
  },
  {
   "cell_type": "markdown",
   "metadata": {},
   "source": [
    "На графиках четко видны тенденции концентрации металлов на разных этапах. Рассмотрим столбчатый график медианного содержания. "
   ]
  },
  {
   "cell_type": "code",
   "execution_count": 10,
   "metadata": {},
   "outputs": [
    {
     "data": {
      "image/png": "[encoded data removed]",
      "text/plain": [
       "<Figure size 1080x576 with 1 Axes>"
      ]
     },
     "metadata": {
      "needs_background": "light"
     },
     "output_type": "display_data"
    }
   ],
   "source": [
    "y = ag + pb + au\n",
    "pivot = data_full[y].median().to_frame(name='median')\n",
    "plt.figure(figsize=(15,8))\n",
    "plt.title('Медианная концентрация металлов на каждом этапе')\n",
    "sns.barplot(x = pivot.index,y ='median' ,data=pivot)\n",
    "plt.xticks(rotation = 45)\n",
    "plt.show()"
   ]
  },
  {
   "cell_type": "markdown",
   "metadata": {},
   "source": [
    "На графиках видно, что:\n",
    "\n",
    "    1. Концентрация серебра стабильно и в равных долях уменьшается с каждым этапом очистки.\n",
    "    \n",
    "    2. Концентрация свинца увеличивается после первичной очистки и остается подобным на выходе\n",
    "    \n",
    "    3. Концентрация золота стабильно увеличивается с каждым этапом очистки"
   ]
  },
  {
   "cell_type": "markdown",
   "metadata": {},
   "source": [
    "### Сравним распределения размеров гранул сырья на обучающей и тестовой выборках. Если распределения сильно отличаются друг от друга, оценка модели будет неправильной."
   ]
  },
  {
   "cell_type": "markdown",
   "metadata": {},
   "source": [
    "Сначала сравним медианы"
   ]
  },
  {
   "cell_type": "code",
   "execution_count": 11,
   "metadata": {},
   "outputs": [
    {
     "data": {
      "text/html": [
       "<div>\n",
       "<style scoped>\n",
       "    .dataframe tbody tr th:only-of-type {\n",
       "        vertical-align: middle;\n",
       "    }\n",
       "\n",
       "    .dataframe tbody tr th {\n",
       "        vertical-align: top;\n",
       "    }\n",
       "\n",
       "    .dataframe thead th {\n",
       "        text-align: right;\n",
       "    }\n",
       "</style>\n",
       "<table border=\"1\" class=\"dataframe\">\n",
       "  <thead>\n",
       "    <tr style=\"text-align: right;\">\n",
       "      <th></th>\n",
       "      <th>median</th>\n",
       "    </tr>\n",
       "  </thead>\n",
       "  <tbody>\n",
       "    <tr>\n",
       "      <th>primary_cleaner.input.feed_size</th>\n",
       "      <td>7.290000</td>\n",
       "    </tr>\n",
       "    <tr>\n",
       "      <th>rougher.input.feed_size</th>\n",
       "      <td>55.269784</td>\n",
       "    </tr>\n",
       "  </tbody>\n",
       "</table>\n",
       "</div>"
      ],
      "text/plain": [
       "                                    median\n",
       "primary_cleaner.input.feed_size   7.290000\n",
       "rougher.input.feed_size          55.269784"
      ]
     },
     "metadata": {},
     "output_type": "display_data"
    },
    {
     "data": {
      "text/html": [
       "<div>\n",
       "<style scoped>\n",
       "    .dataframe tbody tr th:only-of-type {\n",
       "        vertical-align: middle;\n",
       "    }\n",
       "\n",
       "    .dataframe tbody tr th {\n",
       "        vertical-align: top;\n",
       "    }\n",
       "\n",
       "    .dataframe thead th {\n",
       "        text-align: right;\n",
       "    }\n",
       "</style>\n",
       "<table border=\"1\" class=\"dataframe\">\n",
       "  <thead>\n",
       "    <tr style=\"text-align: right;\">\n",
       "      <th></th>\n",
       "      <th>median</th>\n",
       "    </tr>\n",
       "  </thead>\n",
       "  <tbody>\n",
       "    <tr>\n",
       "      <th>primary_cleaner.input.feed_size</th>\n",
       "      <td>7.250000</td>\n",
       "    </tr>\n",
       "    <tr>\n",
       "      <th>rougher.input.feed_size</th>\n",
       "      <td>50.846843</td>\n",
       "    </tr>\n",
       "  </tbody>\n",
       "</table>\n",
       "</div>"
      ],
      "text/plain": [
       "                                    median\n",
       "primary_cleaner.input.feed_size   7.250000\n",
       "rougher.input.feed_size          50.846843"
      ]
     },
     "metadata": {},
     "output_type": "display_data"
    }
   ],
   "source": [
    "display(data_train[['primary_cleaner.input.feed_size','rougher.input.feed_size']].median().to_frame(name='median'))\n",
    "display(data_test[['primary_cleaner.input.feed_size','rougher.input.feed_size']].median().to_frame(name='median'))"
   ]
  },
  {
   "cell_type": "markdown",
   "metadata": {},
   "source": [
    "Гранулы отличаются на 5 единиц, не понятно много это или мало. Поэтому проверим распределение на графике"
   ]
  },
  {
   "cell_type": "code",
   "execution_count": 12,
   "metadata": {},
   "outputs": [
    {
     "data": {
      "text/plain": [
       "<AxesSubplot:ylabel='Frequency'>"
      ]
     },
     "execution_count": 12,
     "metadata": {},
     "output_type": "execute_result"
    },
    {
     "data": {
      "image/png": "[encoded data removed]",
      "text/plain": [
       "<Figure size 1080x360 with 1 Axes>"
      ]
     },
     "metadata": {
      "needs_background": "light"
     },
     "output_type": "display_data"
    }
   ],
   "source": [
    "primary_train = data_train['primary_cleaner.input.feed_size']\n",
    "rougher_train = data_train['rougher.input.feed_size']\n",
    "primary_test = data_test['primary_cleaner.input.feed_size']\n",
    "rougher_test = data_test['rougher.input.feed_size']\n",
    "\n",
    "ax = primary_train.plot(\n",
    "    kind='hist',\n",
    "    y='last_price',\n",
    "    histtype='step',\n",
    "    xlim=(0, 150),\n",
    "    bins=150,\n",
    "    linewidth=1,\n",
    "    alpha=0.7,\n",
    "    label='Первичная тренировочная',\n",
    "    legend=True,\n",
    "    figsize=(15,5)\n",
    ")\n",
    "rougher_train.plot(\n",
    "    kind='hist',\n",
    "    y='last_price',\n",
    "    histtype='step',\n",
    "    xlim=(0, 150),\n",
    "    bins=150,\n",
    "    linewidth=1,\n",
    "    alpha=0.7,\n",
    "    label='Флотация тренировочная',\n",
    "    ax=ax,\n",
    "    legend=True,\n",
    "    figsize=(15,5)\n",
    ")\n",
    "\n",
    "primary_test.plot(\n",
    "    kind='hist',\n",
    "    y='last_price',\n",
    "    histtype='step',\n",
    "    xlim=(0, 150),\n",
    "    bins=150,\n",
    "    linewidth=1,\n",
    "    alpha=0.7,\n",
    "    label='Первичная тестовая',\n",
    "    ax=ax,\n",
    "    legend=True,\n",
    "    figsize=(15,5)\n",
    ")\n",
    "rougher_test.plot(\n",
    "    kind='hist',\n",
    "    y='last_price',\n",
    "    histtype='step',\n",
    "    xlim=(0, 150),\n",
    "    bins=150,\n",
    "    linewidth=1,\n",
    "    alpha=0.7,\n",
    "    label='Флотация тестовая',\n",
    "    ax=ax,\n",
    "    legend=True,figsize=(15,5)\n",
    ")"
   ]
  },
  {
   "cell_type": "markdown",
   "metadata": {},
   "source": [
    "Распределения идентичны. Гистограммы тестовой выборки ожидаемо ниже тренировочной. Следовательно оценка модели будет правильной."
   ]
  },
  {
   "cell_type": "markdown",
   "metadata": {},
   "source": [
    "### Исследуем суммарную концентрацию всех веществ на разных стадиях: в сырье, в черновом и финальном концентратах."
   ]
  },
  {
   "cell_type": "markdown",
   "metadata": {},
   "source": [
    "Исследуйте суммарную концентрацию всех веществ на разных стадиях: в сырье, в черновом и финальном концентратах.\n",
    "Заметили аномальные значения в суммарном распределении или нет?\n",
    "Если они есть, стоит ли их удалять из обеих выборок?\n",
    "Опишите выводы и удалите аномалии."
   ]
  },
  {
   "cell_type": "markdown",
   "metadata": {},
   "source": [
    "Объявим списки нужных имён"
   ]
  },
  {
   "cell_type": "code",
   "execution_count": 13,
   "metadata": {},
   "outputs": [],
   "source": [
    "rougher = [\n",
    "    'rougher.output.concentrate_ag',\n",
    "    'rougher.output.concentrate_pb',\n",
    "    'rougher.output.concentrate_sol',\n",
    "    'rougher.output.concentrate_au']\n",
    "\n",
    "\n",
    "primary = [\n",
    "    'primary_cleaner.output.concentrate_ag',\n",
    "    'primary_cleaner.output.concentrate_pb',\n",
    "    'primary_cleaner.output.concentrate_sol',\n",
    "    'primary_cleaner.output.concentrate_au']\n",
    "\n",
    "    \n",
    "final = [\n",
    "    'final.output.concentrate_ag',\n",
    "    'final.output.concentrate_pb',\n",
    "    'final.output.concentrate_sol',\n",
    "    'final.output.concentrate_au']\n"
   ]
  },
  {
   "cell_type": "markdown",
   "metadata": {},
   "source": [
    "Посмотрим на графики распределения"
   ]
  },
  {
   "cell_type": "code",
   "execution_count": 14,
   "metadata": {},
   "outputs": [
    {
     "data": {
      "image/png": "[encoded data removed]",
      "text/plain": [
       "<Figure size 1080x360 with 1 Axes>"
      ]
     },
     "metadata": {
      "needs_background": "light"
     },
     "output_type": "display_data"
    }
   ],
   "source": [
    "data_full[rougher].boxplot(rot=45,figsize=(15,5))\n",
    "plt.show()"
   ]
  },
  {
   "cell_type": "code",
   "execution_count": 15,
   "metadata": {},
   "outputs": [
    {
     "data": {
      "image/png": "[encoded data removed]",
      "text/plain": [
       "<Figure size 1080x360 with 1 Axes>"
      ]
     },
     "metadata": {
      "needs_background": "light"
     },
     "output_type": "display_data"
    }
   ],
   "source": [
    "data_full[primary].boxplot(rot=45,figsize=(15,5))\n",
    "plt.show()"
   ]
  },
  {
   "cell_type": "code",
   "execution_count": 16,
   "metadata": {},
   "outputs": [
    {
     "data": {
      "image/png": "[encoded data removed]",
      "text/plain": [
       "<Figure size 1080x360 with 1 Axes>"
      ]
     },
     "metadata": {
      "needs_background": "light"
     },
     "output_type": "display_data"
    }
   ],
   "source": [
    "data_full[final].boxplot(rot=45,figsize=(15,5))\n",
    "plt.show()"
   ]
  },
  {
   "cell_type": "markdown",
   "metadata": {},
   "source": [
    "Видны многочисленные выбросы в распределении концентрации золота. От них нужно избавится. Напишем функцию "
   ]
  },
  {
   "cell_type": "code",
   "execution_count": 17,
   "metadata": {},
   "outputs": [],
   "source": [
    "def emissions_data(df):\n",
    "    con=[\n",
    "    'rougher.output.concentrate_au',\n",
    "    'primary_cleaner.output.concentrate_au',\n",
    "    'final.output.concentrate_au']\n",
    "    data = pd.DataFrame()\n",
    "    for item in con:\n",
    "        Q1 =  df[item].quantile(0.25)\n",
    "        Q3 = df[item].quantile(0.75)\n",
    "        IQR = Q3 - Q1\n",
    "        ser = df[((df[item]>Q1-1.5*IQR)&(df[item] < Q1+1.5*IQR))][item]\n",
    "        #ser = df[((df[a] < Q1-1.5*IQR ) | (df[a] > Q3+1.5*IQR)).any()][a]\n",
    "        data[item] = ser\n",
    "    return data\n",
    "    \n",
    "clean = emissions_data(data_train).dropna(how='any')"
   ]
  },
  {
   "cell_type": "markdown",
   "metadata": {},
   "source": [
    "Я получил датасет с индексами нужных строк. Создадим срез с этими индексами. "
   ]
  },
  {
   "cell_type": "code",
   "execution_count": 18,
   "metadata": {},
   "outputs": [],
   "source": [
    "data_train_clean = data_train[data_train.index.isin(clean.index)]"
   ]
  },
  {
   "cell_type": "markdown",
   "metadata": {},
   "source": [
    "Теперь когда мы  имеем набор данных без выбросов, мы можем рассмотреть содержание веществ на каждом этапе."
   ]
  },
  {
   "cell_type": "code",
   "execution_count": 19,
   "metadata": {},
   "outputs": [
    {
     "data": {
      "image/png": "[encoded data removed]",
      "text/plain": [
       "<Figure size 504x504 with 1 Axes>"
      ]
     },
     "metadata": {},
     "output_type": "display_data"
    }
   ],
   "source": [
    "data_train_clean[rougher].median().plot(kind='pie',\n",
    "                                        autopct='%1.1f%%', \n",
    "                                        figsize=(7, 7),\n",
    "                                        title='Концентрация веществ после флотации')\n",
    "plt.show()"
   ]
  },
  {
   "cell_type": "code",
   "execution_count": 20,
   "metadata": {},
   "outputs": [
    {
     "data": {
      "image/png": "[encoded data removed]",
      "text/plain": [
       "<Figure size 504x504 with 1 Axes>"
      ]
     },
     "metadata": {},
     "output_type": "display_data"
    }
   ],
   "source": [
    "data_train_clean[primary].median().plot(kind='pie',\n",
    "                                        autopct='%1.1f%%', \n",
    "                                        figsize=(7, 7),\n",
    "                                        title='Концентрация веществ после первичной очистки')\n",
    "plt.show()"
   ]
  },
  {
   "cell_type": "code",
   "execution_count": 21,
   "metadata": {},
   "outputs": [
    {
     "data": {
      "image/png": "[encoded data removed]",
      "text/plain": [
       "<Figure size 504x504 with 1 Axes>"
      ]
     },
     "metadata": {},
     "output_type": "display_data"
    }
   ],
   "source": [
    "data_train_clean[final].median().plot(kind='pie',\n",
    "                                      autopct='%1.1f%%', \n",
    "                                      figsize=(7, 7),\n",
    "                                      title='Концентрация веществ после вторичной очистки / финальное содержание')\n",
    "plt.show()"
   ]
  },
  {
   "cell_type": "markdown",
   "metadata": {},
   "source": [
    "## Модель"
   ]
  },
  {
   "cell_type": "markdown",
   "metadata": {},
   "source": [
    "### Финальная подготовка данных"
   ]
  },
  {
   "cell_type": "markdown",
   "metadata": {},
   "source": [
    "Заказчик предоставил нам тренировочные и тестовые данные. Поэтому необходимо:\n",
    "1) Дополнить тестовые данные таргетом c помощью поля дата.\n",
    "2) Тренировочные данные \"урезать\" по количеству столбцов до теста."
   ]
  },
  {
   "cell_type": "markdown",
   "metadata": {},
   "source": [
    "Дополним тестовые данные целевыми признаками из полного набора данных data_full"
   ]
  },
  {
   "cell_type": "code",
   "execution_count": 22,
   "metadata": {},
   "outputs": [
    {
     "data": {
      "text/html": [
       "<div>\n",
       "<style scoped>\n",
       "    .dataframe tbody tr th:only-of-type {\n",
       "        vertical-align: middle;\n",
       "    }\n",
       "\n",
       "    .dataframe tbody tr th {\n",
       "        vertical-align: top;\n",
       "    }\n",
       "\n",
       "    .dataframe thead th {\n",
       "        text-align: right;\n",
       "    }\n",
       "</style>\n",
       "<table border=\"1\" class=\"dataframe\">\n",
       "  <thead>\n",
       "    <tr style=\"text-align: right;\">\n",
       "      <th></th>\n",
       "      <th>date</th>\n",
       "      <th>primary_cleaner.input.sulfate</th>\n",
       "      <th>primary_cleaner.input.depressant</th>\n",
       "      <th>primary_cleaner.input.feed_size</th>\n",
       "      <th>primary_cleaner.input.xanthate</th>\n",
       "      <th>primary_cleaner.state.floatbank8_a_air</th>\n",
       "      <th>primary_cleaner.state.floatbank8_a_level</th>\n",
       "      <th>primary_cleaner.state.floatbank8_b_air</th>\n",
       "      <th>primary_cleaner.state.floatbank8_b_level</th>\n",
       "      <th>primary_cleaner.state.floatbank8_c_air</th>\n",
       "      <th>primary_cleaner.state.floatbank8_c_level</th>\n",
       "      <th>primary_cleaner.state.floatbank8_d_air</th>\n",
       "      <th>primary_cleaner.state.floatbank8_d_level</th>\n",
       "      <th>rougher.input.feed_ag</th>\n",
       "      <th>rougher.input.feed_pb</th>\n",
       "      <th>rougher.input.feed_rate</th>\n",
       "      <th>rougher.input.feed_size</th>\n",
       "      <th>rougher.input.feed_sol</th>\n",
       "      <th>rougher.input.feed_au</th>\n",
       "      <th>rougher.input.floatbank10_sulfate</th>\n",
       "      <th>rougher.input.floatbank10_xanthate</th>\n",
       "      <th>rougher.input.floatbank11_sulfate</th>\n",
       "      <th>rougher.input.floatbank11_xanthate</th>\n",
       "      <th>rougher.state.floatbank10_a_air</th>\n",
       "      <th>rougher.state.floatbank10_a_level</th>\n",
       "      <th>rougher.state.floatbank10_b_air</th>\n",
       "      <th>rougher.state.floatbank10_b_level</th>\n",
       "      <th>rougher.state.floatbank10_c_air</th>\n",
       "      <th>rougher.state.floatbank10_c_level</th>\n",
       "      <th>rougher.state.floatbank10_d_air</th>\n",
       "      <th>rougher.state.floatbank10_d_level</th>\n",
       "      <th>rougher.state.floatbank10_e_air</th>\n",
       "      <th>rougher.state.floatbank10_e_level</th>\n",
       "      <th>rougher.state.floatbank10_f_air</th>\n",
       "      <th>rougher.state.floatbank10_f_level</th>\n",
       "      <th>secondary_cleaner.state.floatbank2_a_air</th>\n",
       "      <th>secondary_cleaner.state.floatbank2_a_level</th>\n",
       "      <th>secondary_cleaner.state.floatbank2_b_air</th>\n",
       "      <th>secondary_cleaner.state.floatbank2_b_level</th>\n",
       "      <th>secondary_cleaner.state.floatbank3_a_air</th>\n",
       "      <th>secondary_cleaner.state.floatbank3_a_level</th>\n",
       "      <th>secondary_cleaner.state.floatbank3_b_air</th>\n",
       "      <th>secondary_cleaner.state.floatbank3_b_level</th>\n",
       "      <th>secondary_cleaner.state.floatbank4_a_air</th>\n",
       "      <th>secondary_cleaner.state.floatbank4_a_level</th>\n",
       "      <th>secondary_cleaner.state.floatbank4_b_air</th>\n",
       "      <th>secondary_cleaner.state.floatbank4_b_level</th>\n",
       "      <th>secondary_cleaner.state.floatbank5_a_air</th>\n",
       "      <th>secondary_cleaner.state.floatbank5_a_level</th>\n",
       "      <th>secondary_cleaner.state.floatbank5_b_air</th>\n",
       "      <th>secondary_cleaner.state.floatbank5_b_level</th>\n",
       "      <th>secondary_cleaner.state.floatbank6_a_air</th>\n",
       "      <th>secondary_cleaner.state.floatbank6_a_level</th>\n",
       "      <th>final.output.recovery</th>\n",
       "      <th>rougher.output.recovery</th>\n",
       "    </tr>\n",
       "  </thead>\n",
       "  <tbody>\n",
       "    <tr>\n",
       "      <th>0</th>\n",
       "      <td>2016-09-01 00:59:59</td>\n",
       "      <td>210.800909</td>\n",
       "      <td>14.993118</td>\n",
       "      <td>8.080000</td>\n",
       "      <td>1.005021</td>\n",
       "      <td>1398.981301</td>\n",
       "      <td>-500.225577</td>\n",
       "      <td>1399.144926</td>\n",
       "      <td>-499.919735</td>\n",
       "      <td>1400.102998</td>\n",
       "      <td>-500.704369</td>\n",
       "      <td>1399.001695</td>\n",
       "      <td>-499.485144</td>\n",
       "      <td>13.128569</td>\n",
       "      <td>5.636710</td>\n",
       "      <td>489.793655</td>\n",
       "      <td>62.710452</td>\n",
       "      <td>42.022440</td>\n",
       "      <td>12.084103</td>\n",
       "      <td>16.922877</td>\n",
       "      <td>6.153479</td>\n",
       "      <td>16.867518</td>\n",
       "      <td>6.150709</td>\n",
       "      <td>1001.849317</td>\n",
       "      <td>-350.301265</td>\n",
       "      <td>1249.738612</td>\n",
       "      <td>-399.107531</td>\n",
       "      <td>1249.750520</td>\n",
       "      <td>-399.396730</td>\n",
       "      <td>1198.287855</td>\n",
       "      <td>-399.488594</td>\n",
       "      <td>999.472250</td>\n",
       "      <td>-399.530962</td>\n",
       "      <td>949.566189</td>\n",
       "      <td>-398.180807</td>\n",
       "      <td>24.938200</td>\n",
       "      <td>-500.490963</td>\n",
       "      <td>14.947607</td>\n",
       "      <td>-500.013837</td>\n",
       "      <td>20.018166</td>\n",
       "      <td>-450.395995</td>\n",
       "      <td>13.987058</td>\n",
       "      <td>-449.831513</td>\n",
       "      <td>12.023554</td>\n",
       "      <td>-497.795834</td>\n",
       "      <td>8.016656</td>\n",
       "      <td>-501.289139</td>\n",
       "      <td>7.946562</td>\n",
       "      <td>-432.317850</td>\n",
       "      <td>4.872511</td>\n",
       "      <td>-500.037437</td>\n",
       "      <td>26.705889</td>\n",
       "      <td>-499.709414</td>\n",
       "      <td>70.273583</td>\n",
       "      <td>89.993421</td>\n",
       "    </tr>\n",
       "    <tr>\n",
       "      <th>1</th>\n",
       "      <td>2016-09-01 01:59:59</td>\n",
       "      <td>215.392455</td>\n",
       "      <td>14.987471</td>\n",
       "      <td>8.080000</td>\n",
       "      <td>0.990469</td>\n",
       "      <td>1398.777912</td>\n",
       "      <td>-500.057435</td>\n",
       "      <td>1398.055362</td>\n",
       "      <td>-499.778182</td>\n",
       "      <td>1396.151033</td>\n",
       "      <td>-499.240168</td>\n",
       "      <td>1399.508091</td>\n",
       "      <td>-500.416324</td>\n",
       "      <td>13.036280</td>\n",
       "      <td>5.526065</td>\n",
       "      <td>490.104534</td>\n",
       "      <td>61.961163</td>\n",
       "      <td>41.187903</td>\n",
       "      <td>11.918977</td>\n",
       "      <td>17.002532</td>\n",
       "      <td>5.999043</td>\n",
       "      <td>16.996063</td>\n",
       "      <td>6.002315</td>\n",
       "      <td>998.690785</td>\n",
       "      <td>-350.425704</td>\n",
       "      <td>1248.395457</td>\n",
       "      <td>-399.946025</td>\n",
       "      <td>1249.514451</td>\n",
       "      <td>-399.630810</td>\n",
       "      <td>1200.506459</td>\n",
       "      <td>-399.942434</td>\n",
       "      <td>1000.002114</td>\n",
       "      <td>-399.491528</td>\n",
       "      <td>950.200009</td>\n",
       "      <td>-405.787514</td>\n",
       "      <td>24.923466</td>\n",
       "      <td>-499.813963</td>\n",
       "      <td>14.930873</td>\n",
       "      <td>-500.764452</td>\n",
       "      <td>19.988503</td>\n",
       "      <td>-450.114024</td>\n",
       "      <td>14.092981</td>\n",
       "      <td>-450.059163</td>\n",
       "      <td>12.058140</td>\n",
       "      <td>-498.695773</td>\n",
       "      <td>8.130979</td>\n",
       "      <td>-499.634209</td>\n",
       "      <td>7.958270</td>\n",
       "      <td>-525.839648</td>\n",
       "      <td>4.878850</td>\n",
       "      <td>-500.162375</td>\n",
       "      <td>25.019940</td>\n",
       "      <td>-499.819438</td>\n",
       "      <td>68.910432</td>\n",
       "      <td>88.089657</td>\n",
       "    </tr>\n",
       "    <tr>\n",
       "      <th>2</th>\n",
       "      <td>2016-09-01 02:59:59</td>\n",
       "      <td>215.259946</td>\n",
       "      <td>12.884934</td>\n",
       "      <td>7.786667</td>\n",
       "      <td>0.996043</td>\n",
       "      <td>1398.493666</td>\n",
       "      <td>-500.868360</td>\n",
       "      <td>1398.860436</td>\n",
       "      <td>-499.764529</td>\n",
       "      <td>1398.075709</td>\n",
       "      <td>-502.151509</td>\n",
       "      <td>1399.497088</td>\n",
       "      <td>-499.715479</td>\n",
       "      <td>13.138412</td>\n",
       "      <td>5.426561</td>\n",
       "      <td>489.617969</td>\n",
       "      <td>66.903807</td>\n",
       "      <td>42.546294</td>\n",
       "      <td>12.091332</td>\n",
       "      <td>16.992520</td>\n",
       "      <td>5.850632</td>\n",
       "      <td>16.982096</td>\n",
       "      <td>5.853594</td>\n",
       "      <td>998.516720</td>\n",
       "      <td>-349.783538</td>\n",
       "      <td>1247.440748</td>\n",
       "      <td>-400.264330</td>\n",
       "      <td>1248.207204</td>\n",
       "      <td>-401.074405</td>\n",
       "      <td>1199.770026</td>\n",
       "      <td>-400.790582</td>\n",
       "      <td>999.925519</td>\n",
       "      <td>-399.236999</td>\n",
       "      <td>950.320481</td>\n",
       "      <td>-400.864340</td>\n",
       "      <td>24.908732</td>\n",
       "      <td>-500.304035</td>\n",
       "      <td>14.996511</td>\n",
       "      <td>-500.993821</td>\n",
       "      <td>20.039689</td>\n",
       "      <td>-450.263164</td>\n",
       "      <td>14.077881</td>\n",
       "      <td>-449.660997</td>\n",
       "      <td>11.962366</td>\n",
       "      <td>-498.767484</td>\n",
       "      <td>8.096893</td>\n",
       "      <td>-500.827423</td>\n",
       "      <td>8.071056</td>\n",
       "      <td>-500.801673</td>\n",
       "      <td>4.905125</td>\n",
       "      <td>-499.828510</td>\n",
       "      <td>24.994862</td>\n",
       "      <td>-500.622559</td>\n",
       "      <td>68.143213</td>\n",
       "      <td>88.412756</td>\n",
       "    </tr>\n",
       "    <tr>\n",
       "      <th>3</th>\n",
       "      <td>2016-09-01 03:59:59</td>\n",
       "      <td>215.336236</td>\n",
       "      <td>12.006805</td>\n",
       "      <td>7.640000</td>\n",
       "      <td>0.863514</td>\n",
       "      <td>1399.618111</td>\n",
       "      <td>-498.863574</td>\n",
       "      <td>1397.440120</td>\n",
       "      <td>-499.211024</td>\n",
       "      <td>1400.129303</td>\n",
       "      <td>-498.355873</td>\n",
       "      <td>1401.065165</td>\n",
       "      <td>-501.038738</td>\n",
       "      <td>12.400507</td>\n",
       "      <td>5.114758</td>\n",
       "      <td>476.618130</td>\n",
       "      <td>59.865919</td>\n",
       "      <td>41.060195</td>\n",
       "      <td>12.181597</td>\n",
       "      <td>16.532144</td>\n",
       "      <td>5.801935</td>\n",
       "      <td>16.515277</td>\n",
       "      <td>5.803657</td>\n",
       "      <td>1000.276604</td>\n",
       "      <td>-350.172597</td>\n",
       "      <td>1251.322675</td>\n",
       "      <td>-398.655289</td>\n",
       "      <td>1250.493702</td>\n",
       "      <td>-399.746728</td>\n",
       "      <td>1199.398691</td>\n",
       "      <td>-397.503052</td>\n",
       "      <td>1001.930679</td>\n",
       "      <td>-400.437573</td>\n",
       "      <td>950.735324</td>\n",
       "      <td>-399.802986</td>\n",
       "      <td>24.893998</td>\n",
       "      <td>-499.382374</td>\n",
       "      <td>14.916674</td>\n",
       "      <td>-499.862299</td>\n",
       "      <td>20.031100</td>\n",
       "      <td>-449.372570</td>\n",
       "      <td>14.013968</td>\n",
       "      <td>-449.526900</td>\n",
       "      <td>12.033091</td>\n",
       "      <td>-498.350935</td>\n",
       "      <td>8.074946</td>\n",
       "      <td>-499.474407</td>\n",
       "      <td>7.897085</td>\n",
       "      <td>-500.868509</td>\n",
       "      <td>4.931400</td>\n",
       "      <td>-499.963623</td>\n",
       "      <td>24.948919</td>\n",
       "      <td>-498.709987</td>\n",
       "      <td>67.776393</td>\n",
       "      <td>87.360133</td>\n",
       "    </tr>\n",
       "    <tr>\n",
       "      <th>4</th>\n",
       "      <td>2016-09-01 04:59:59</td>\n",
       "      <td>199.099327</td>\n",
       "      <td>10.682530</td>\n",
       "      <td>7.530000</td>\n",
       "      <td>0.805575</td>\n",
       "      <td>1401.268123</td>\n",
       "      <td>-500.808305</td>\n",
       "      <td>1398.128818</td>\n",
       "      <td>-499.504543</td>\n",
       "      <td>1402.172226</td>\n",
       "      <td>-500.810606</td>\n",
       "      <td>1399.480508</td>\n",
       "      <td>-499.374053</td>\n",
       "      <td>11.327427</td>\n",
       "      <td>4.767383</td>\n",
       "      <td>488.248117</td>\n",
       "      <td>63.315324</td>\n",
       "      <td>41.269161</td>\n",
       "      <td>11.290425</td>\n",
       "      <td>13.607257</td>\n",
       "      <td>5.738081</td>\n",
       "      <td>13.650053</td>\n",
       "      <td>5.739634</td>\n",
       "      <td>996.541302</td>\n",
       "      <td>-350.562517</td>\n",
       "      <td>1304.658848</td>\n",
       "      <td>-399.511519</td>\n",
       "      <td>1306.455515</td>\n",
       "      <td>-399.050685</td>\n",
       "      <td>1248.699349</td>\n",
       "      <td>-400.876894</td>\n",
       "      <td>1058.839106</td>\n",
       "      <td>-398.988239</td>\n",
       "      <td>949.645313</td>\n",
       "      <td>-399.277632</td>\n",
       "      <td>24.886905</td>\n",
       "      <td>-499.357375</td>\n",
       "      <td>14.979233</td>\n",
       "      <td>-500.186804</td>\n",
       "      <td>19.962364</td>\n",
       "      <td>-450.638828</td>\n",
       "      <td>14.009245</td>\n",
       "      <td>-450.022259</td>\n",
       "      <td>12.025367</td>\n",
       "      <td>-500.786497</td>\n",
       "      <td>8.054678</td>\n",
       "      <td>-500.397500</td>\n",
       "      <td>8.107890</td>\n",
       "      <td>-509.526725</td>\n",
       "      <td>4.957674</td>\n",
       "      <td>-500.360026</td>\n",
       "      <td>25.003331</td>\n",
       "      <td>-500.856333</td>\n",
       "      <td>61.467078</td>\n",
       "      <td>83.236367</td>\n",
       "    </tr>\n",
       "  </tbody>\n",
       "</table>\n",
       "</div>"
      ],
      "text/plain": [
       "                  date  primary_cleaner.input.sulfate  \\\n",
       "0  2016-09-01 00:59:59                     210.800909   \n",
       "1  2016-09-01 01:59:59                     215.392455   \n",
       "2  2016-09-01 02:59:59                     215.259946   \n",
       "3  2016-09-01 03:59:59                     215.336236   \n",
       "4  2016-09-01 04:59:59                     199.099327   \n",
       "\n",
       "   primary_cleaner.input.depressant  primary_cleaner.input.feed_size  \\\n",
       "0                         14.993118                         8.080000   \n",
       "1                         14.987471                         8.080000   \n",
       "2                         12.884934                         7.786667   \n",
       "3                         12.006805                         7.640000   \n",
       "4                         10.682530                         7.530000   \n",
       "\n",
       "   primary_cleaner.input.xanthate  primary_cleaner.state.floatbank8_a_air  \\\n",
       "0                        1.005021                             1398.981301   \n",
       "1                        0.990469                             1398.777912   \n",
       "2                        0.996043                             1398.493666   \n",
       "3                        0.863514                             1399.618111   \n",
       "4                        0.805575                             1401.268123   \n",
       "\n",
       "   primary_cleaner.state.floatbank8_a_level  \\\n",
       "0                               -500.225577   \n",
       "1                               -500.057435   \n",
       "2                               -500.868360   \n",
       "3                               -498.863574   \n",
       "4                               -500.808305   \n",
       "\n",
       "   primary_cleaner.state.floatbank8_b_air  \\\n",
       "0                             1399.144926   \n",
       "1                             1398.055362   \n",
       "2                             1398.860436   \n",
       "3                             1397.440120   \n",
       "4                             1398.128818   \n",
       "\n",
       "   primary_cleaner.state.floatbank8_b_level  \\\n",
       "0                               -499.919735   \n",
       "1                               -499.778182   \n",
       "2                               -499.764529   \n",
       "3                               -499.211024   \n",
       "4                               -499.504543   \n",
       "\n",
       "   primary_cleaner.state.floatbank8_c_air  \\\n",
       "0                             1400.102998   \n",
       "1                             1396.151033   \n",
       "2                             1398.075709   \n",
       "3                             1400.129303   \n",
       "4                             1402.172226   \n",
       "\n",
       "   primary_cleaner.state.floatbank8_c_level  \\\n",
       "0                               -500.704369   \n",
       "1                               -499.240168   \n",
       "2                               -502.151509   \n",
       "3                               -498.355873   \n",
       "4                               -500.810606   \n",
       "\n",
       "   primary_cleaner.state.floatbank8_d_air  \\\n",
       "0                             1399.001695   \n",
       "1                             1399.508091   \n",
       "2                             1399.497088   \n",
       "3                             1401.065165   \n",
       "4                             1399.480508   \n",
       "\n",
       "   primary_cleaner.state.floatbank8_d_level  rougher.input.feed_ag  \\\n",
       "0                               -499.485144              13.128569   \n",
       "1                               -500.416324              13.036280   \n",
       "2                               -499.715479              13.138412   \n",
       "3                               -501.038738              12.400507   \n",
       "4                               -499.374053              11.327427   \n",
       "\n",
       "   rougher.input.feed_pb  rougher.input.feed_rate  rougher.input.feed_size  \\\n",
       "0               5.636710               489.793655                62.710452   \n",
       "1               5.526065               490.104534                61.961163   \n",
       "2               5.426561               489.617969                66.903807   \n",
       "3               5.114758               476.618130                59.865919   \n",
       "4               4.767383               488.248117                63.315324   \n",
       "\n",
       "   rougher.input.feed_sol  rougher.input.feed_au  \\\n",
       "0               42.022440              12.084103   \n",
       "1               41.187903              11.918977   \n",
       "2               42.546294              12.091332   \n",
       "3               41.060195              12.181597   \n",
       "4               41.269161              11.290425   \n",
       "\n",
       "   rougher.input.floatbank10_sulfate  rougher.input.floatbank10_xanthate  \\\n",
       "0                          16.922877                            6.153479   \n",
       "1                          17.002532                            5.999043   \n",
       "2                          16.992520                            5.850632   \n",
       "3                          16.532144                            5.801935   \n",
       "4                          13.607257                            5.738081   \n",
       "\n",
       "   rougher.input.floatbank11_sulfate  rougher.input.floatbank11_xanthate  \\\n",
       "0                          16.867518                            6.150709   \n",
       "1                          16.996063                            6.002315   \n",
       "2                          16.982096                            5.853594   \n",
       "3                          16.515277                            5.803657   \n",
       "4                          13.650053                            5.739634   \n",
       "\n",
       "   rougher.state.floatbank10_a_air  rougher.state.floatbank10_a_level  \\\n",
       "0                      1001.849317                        -350.301265   \n",
       "1                       998.690785                        -350.425704   \n",
       "2                       998.516720                        -349.783538   \n",
       "3                      1000.276604                        -350.172597   \n",
       "4                       996.541302                        -350.562517   \n",
       "\n",
       "   rougher.state.floatbank10_b_air  rougher.state.floatbank10_b_level  \\\n",
       "0                      1249.738612                        -399.107531   \n",
       "1                      1248.395457                        -399.946025   \n",
       "2                      1247.440748                        -400.264330   \n",
       "3                      1251.322675                        -398.655289   \n",
       "4                      1304.658848                        -399.511519   \n",
       "\n",
       "   rougher.state.floatbank10_c_air  rougher.state.floatbank10_c_level  \\\n",
       "0                      1249.750520                        -399.396730   \n",
       "1                      1249.514451                        -399.630810   \n",
       "2                      1248.207204                        -401.074405   \n",
       "3                      1250.493702                        -399.746728   \n",
       "4                      1306.455515                        -399.050685   \n",
       "\n",
       "   rougher.state.floatbank10_d_air  rougher.state.floatbank10_d_level  \\\n",
       "0                      1198.287855                        -399.488594   \n",
       "1                      1200.506459                        -399.942434   \n",
       "2                      1199.770026                        -400.790582   \n",
       "3                      1199.398691                        -397.503052   \n",
       "4                      1248.699349                        -400.876894   \n",
       "\n",
       "   rougher.state.floatbank10_e_air  rougher.state.floatbank10_e_level  \\\n",
       "0                       999.472250                        -399.530962   \n",
       "1                      1000.002114                        -399.491528   \n",
       "2                       999.925519                        -399.236999   \n",
       "3                      1001.930679                        -400.437573   \n",
       "4                      1058.839106                        -398.988239   \n",
       "\n",
       "   rougher.state.floatbank10_f_air  rougher.state.floatbank10_f_level  \\\n",
       "0                       949.566189                        -398.180807   \n",
       "1                       950.200009                        -405.787514   \n",
       "2                       950.320481                        -400.864340   \n",
       "3                       950.735324                        -399.802986   \n",
       "4                       949.645313                        -399.277632   \n",
       "\n",
       "   secondary_cleaner.state.floatbank2_a_air  \\\n",
       "0                                 24.938200   \n",
       "1                                 24.923466   \n",
       "2                                 24.908732   \n",
       "3                                 24.893998   \n",
       "4                                 24.886905   \n",
       "\n",
       "   secondary_cleaner.state.floatbank2_a_level  \\\n",
       "0                                 -500.490963   \n",
       "1                                 -499.813963   \n",
       "2                                 -500.304035   \n",
       "3                                 -499.382374   \n",
       "4                                 -499.357375   \n",
       "\n",
       "   secondary_cleaner.state.floatbank2_b_air  \\\n",
       "0                                 14.947607   \n",
       "1                                 14.930873   \n",
       "2                                 14.996511   \n",
       "3                                 14.916674   \n",
       "4                                 14.979233   \n",
       "\n",
       "   secondary_cleaner.state.floatbank2_b_level  \\\n",
       "0                                 -500.013837   \n",
       "1                                 -500.764452   \n",
       "2                                 -500.993821   \n",
       "3                                 -499.862299   \n",
       "4                                 -500.186804   \n",
       "\n",
       "   secondary_cleaner.state.floatbank3_a_air  \\\n",
       "0                                 20.018166   \n",
       "1                                 19.988503   \n",
       "2                                 20.039689   \n",
       "3                                 20.031100   \n",
       "4                                 19.962364   \n",
       "\n",
       "   secondary_cleaner.state.floatbank3_a_level  \\\n",
       "0                                 -450.395995   \n",
       "1                                 -450.114024   \n",
       "2                                 -450.263164   \n",
       "3                                 -449.372570   \n",
       "4                                 -450.638828   \n",
       "\n",
       "   secondary_cleaner.state.floatbank3_b_air  \\\n",
       "0                                 13.987058   \n",
       "1                                 14.092981   \n",
       "2                                 14.077881   \n",
       "3                                 14.013968   \n",
       "4                                 14.009245   \n",
       "\n",
       "   secondary_cleaner.state.floatbank3_b_level  \\\n",
       "0                                 -449.831513   \n",
       "1                                 -450.059163   \n",
       "2                                 -449.660997   \n",
       "3                                 -449.526900   \n",
       "4                                 -450.022259   \n",
       "\n",
       "   secondary_cleaner.state.floatbank4_a_air  \\\n",
       "0                                 12.023554   \n",
       "1                                 12.058140   \n",
       "2                                 11.962366   \n",
       "3                                 12.033091   \n",
       "4                                 12.025367   \n",
       "\n",
       "   secondary_cleaner.state.floatbank4_a_level  \\\n",
       "0                                 -497.795834   \n",
       "1                                 -498.695773   \n",
       "2                                 -498.767484   \n",
       "3                                 -498.350935   \n",
       "4                                 -500.786497   \n",
       "\n",
       "   secondary_cleaner.state.floatbank4_b_air  \\\n",
       "0                                  8.016656   \n",
       "1                                  8.130979   \n",
       "2                                  8.096893   \n",
       "3                                  8.074946   \n",
       "4                                  8.054678   \n",
       "\n",
       "   secondary_cleaner.state.floatbank4_b_level  \\\n",
       "0                                 -501.289139   \n",
       "1                                 -499.634209   \n",
       "2                                 -500.827423   \n",
       "3                                 -499.474407   \n",
       "4                                 -500.397500   \n",
       "\n",
       "   secondary_cleaner.state.floatbank5_a_air  \\\n",
       "0                                  7.946562   \n",
       "1                                  7.958270   \n",
       "2                                  8.071056   \n",
       "3                                  7.897085   \n",
       "4                                  8.107890   \n",
       "\n",
       "   secondary_cleaner.state.floatbank5_a_level  \\\n",
       "0                                 -432.317850   \n",
       "1                                 -525.839648   \n",
       "2                                 -500.801673   \n",
       "3                                 -500.868509   \n",
       "4                                 -509.526725   \n",
       "\n",
       "   secondary_cleaner.state.floatbank5_b_air  \\\n",
       "0                                  4.872511   \n",
       "1                                  4.878850   \n",
       "2                                  4.905125   \n",
       "3                                  4.931400   \n",
       "4                                  4.957674   \n",
       "\n",
       "   secondary_cleaner.state.floatbank5_b_level  \\\n",
       "0                                 -500.037437   \n",
       "1                                 -500.162375   \n",
       "2                                 -499.828510   \n",
       "3                                 -499.963623   \n",
       "4                                 -500.360026   \n",
       "\n",
       "   secondary_cleaner.state.floatbank6_a_air  \\\n",
       "0                                 26.705889   \n",
       "1                                 25.019940   \n",
       "2                                 24.994862   \n",
       "3                                 24.948919   \n",
       "4                                 25.003331   \n",
       "\n",
       "   secondary_cleaner.state.floatbank6_a_level  final.output.recovery  \\\n",
       "0                                 -499.709414              70.273583   \n",
       "1                                 -499.819438              68.910432   \n",
       "2                                 -500.622559              68.143213   \n",
       "3                                 -498.709987              67.776393   \n",
       "4                                 -500.856333              61.467078   \n",
       "\n",
       "   rougher.output.recovery  \n",
       "0                89.993421  \n",
       "1                88.089657  \n",
       "2                88.412756  \n",
       "3                87.360133  \n",
       "4                83.236367  "
      ]
     },
     "execution_count": 22,
     "metadata": {},
     "output_type": "execute_result"
    }
   ],
   "source": [
    "dl = data_test['date'].to_list()\n",
    "data_test_full = pd.concat([data_test,data_full.query('date in @dl')[['final.output.recovery','rougher.output.recovery']].reset_index(drop=True)],axis=1)\n",
    "data_test_full.head()"
   ]
  },
  {
   "cell_type": "markdown",
   "metadata": {},
   "source": [
    "Урезаем кол-во столбцов в тренировочном наборе до тестового"
   ]
  },
  {
   "cell_type": "code",
   "execution_count": 23,
   "metadata": {},
   "outputs": [
    {
     "data": {
      "text/html": [
       "<div>\n",
       "<style scoped>\n",
       "    .dataframe tbody tr th:only-of-type {\n",
       "        vertical-align: middle;\n",
       "    }\n",
       "\n",
       "    .dataframe tbody tr th {\n",
       "        vertical-align: top;\n",
       "    }\n",
       "\n",
       "    .dataframe thead th {\n",
       "        text-align: right;\n",
       "    }\n",
       "</style>\n",
       "<table border=\"1\" class=\"dataframe\">\n",
       "  <thead>\n",
       "    <tr style=\"text-align: right;\">\n",
       "      <th></th>\n",
       "      <th>date</th>\n",
       "      <th>primary_cleaner.input.sulfate</th>\n",
       "      <th>primary_cleaner.input.depressant</th>\n",
       "      <th>primary_cleaner.input.feed_size</th>\n",
       "      <th>primary_cleaner.input.xanthate</th>\n",
       "      <th>primary_cleaner.state.floatbank8_a_air</th>\n",
       "      <th>primary_cleaner.state.floatbank8_a_level</th>\n",
       "      <th>primary_cleaner.state.floatbank8_b_air</th>\n",
       "      <th>primary_cleaner.state.floatbank8_b_level</th>\n",
       "      <th>primary_cleaner.state.floatbank8_c_air</th>\n",
       "      <th>primary_cleaner.state.floatbank8_c_level</th>\n",
       "      <th>primary_cleaner.state.floatbank8_d_air</th>\n",
       "      <th>primary_cleaner.state.floatbank8_d_level</th>\n",
       "      <th>rougher.input.feed_ag</th>\n",
       "      <th>rougher.input.feed_pb</th>\n",
       "      <th>rougher.input.feed_rate</th>\n",
       "      <th>rougher.input.feed_size</th>\n",
       "      <th>rougher.input.feed_sol</th>\n",
       "      <th>rougher.input.feed_au</th>\n",
       "      <th>rougher.input.floatbank10_sulfate</th>\n",
       "      <th>rougher.input.floatbank10_xanthate</th>\n",
       "      <th>rougher.input.floatbank11_sulfate</th>\n",
       "      <th>rougher.input.floatbank11_xanthate</th>\n",
       "      <th>rougher.state.floatbank10_a_air</th>\n",
       "      <th>rougher.state.floatbank10_a_level</th>\n",
       "      <th>rougher.state.floatbank10_b_air</th>\n",
       "      <th>rougher.state.floatbank10_b_level</th>\n",
       "      <th>rougher.state.floatbank10_c_air</th>\n",
       "      <th>rougher.state.floatbank10_c_level</th>\n",
       "      <th>rougher.state.floatbank10_d_air</th>\n",
       "      <th>rougher.state.floatbank10_d_level</th>\n",
       "      <th>rougher.state.floatbank10_e_air</th>\n",
       "      <th>rougher.state.floatbank10_e_level</th>\n",
       "      <th>rougher.state.floatbank10_f_air</th>\n",
       "      <th>rougher.state.floatbank10_f_level</th>\n",
       "      <th>secondary_cleaner.state.floatbank2_a_air</th>\n",
       "      <th>secondary_cleaner.state.floatbank2_a_level</th>\n",
       "      <th>secondary_cleaner.state.floatbank2_b_air</th>\n",
       "      <th>secondary_cleaner.state.floatbank2_b_level</th>\n",
       "      <th>secondary_cleaner.state.floatbank3_a_air</th>\n",
       "      <th>secondary_cleaner.state.floatbank3_a_level</th>\n",
       "      <th>secondary_cleaner.state.floatbank3_b_air</th>\n",
       "      <th>secondary_cleaner.state.floatbank3_b_level</th>\n",
       "      <th>secondary_cleaner.state.floatbank4_a_air</th>\n",
       "      <th>secondary_cleaner.state.floatbank4_a_level</th>\n",
       "      <th>secondary_cleaner.state.floatbank4_b_air</th>\n",
       "      <th>secondary_cleaner.state.floatbank4_b_level</th>\n",
       "      <th>secondary_cleaner.state.floatbank5_a_air</th>\n",
       "      <th>secondary_cleaner.state.floatbank5_a_level</th>\n",
       "      <th>secondary_cleaner.state.floatbank5_b_air</th>\n",
       "      <th>secondary_cleaner.state.floatbank5_b_level</th>\n",
       "      <th>secondary_cleaner.state.floatbank6_a_air</th>\n",
       "      <th>secondary_cleaner.state.floatbank6_a_level</th>\n",
       "      <th>final.output.recovery</th>\n",
       "      <th>rougher.output.recovery</th>\n",
       "    </tr>\n",
       "  </thead>\n",
       "  <tbody>\n",
       "    <tr>\n",
       "      <th>0</th>\n",
       "      <td>2016-01-15 00:00:00</td>\n",
       "      <td>127.092003</td>\n",
       "      <td>10.128295</td>\n",
       "      <td>7.25</td>\n",
       "      <td>0.988759</td>\n",
       "      <td>1549.775757</td>\n",
       "      <td>-498.912140</td>\n",
       "      <td>1551.434204</td>\n",
       "      <td>-516.403442</td>\n",
       "      <td>1549.873901</td>\n",
       "      <td>-498.666595</td>\n",
       "      <td>1554.367432</td>\n",
       "      <td>-493.428131</td>\n",
       "      <td>6.100378</td>\n",
       "      <td>2.284912</td>\n",
       "      <td>523.546326</td>\n",
       "      <td>55.486599</td>\n",
       "      <td>36.808594</td>\n",
       "      <td>6.486150</td>\n",
       "      <td>11.986616</td>\n",
       "      <td>6.007990</td>\n",
       "      <td>11.836743</td>\n",
       "      <td>6.005818</td>\n",
       "      <td>999.706909</td>\n",
       "      <td>-404.066986</td>\n",
       "      <td>1603.011353</td>\n",
       "      <td>-434.715027</td>\n",
       "      <td>1602.375000</td>\n",
       "      <td>-442.204468</td>\n",
       "      <td>1598.937256</td>\n",
       "      <td>-451.294128</td>\n",
       "      <td>1404.472046</td>\n",
       "      <td>-455.462982</td>\n",
       "      <td>1416.354980</td>\n",
       "      <td>-451.939636</td>\n",
       "      <td>25.853109</td>\n",
       "      <td>-498.526489</td>\n",
       "      <td>23.893660</td>\n",
       "      <td>-501.406281</td>\n",
       "      <td>23.961798</td>\n",
       "      <td>-495.262817</td>\n",
       "      <td>21.940409</td>\n",
       "      <td>-499.340973</td>\n",
       "      <td>14.016835</td>\n",
       "      <td>-502.488007</td>\n",
       "      <td>12.099931</td>\n",
       "      <td>-504.715942</td>\n",
       "      <td>9.925633</td>\n",
       "      <td>-498.310211</td>\n",
       "      <td>8.079666</td>\n",
       "      <td>-500.470978</td>\n",
       "      <td>14.151341</td>\n",
       "      <td>-605.841980</td>\n",
       "      <td>70.541216</td>\n",
       "      <td>87.107763</td>\n",
       "    </tr>\n",
       "    <tr>\n",
       "      <th>1</th>\n",
       "      <td>2016-01-15 01:00:00</td>\n",
       "      <td>125.629232</td>\n",
       "      <td>10.296251</td>\n",
       "      <td>7.25</td>\n",
       "      <td>1.002663</td>\n",
       "      <td>1576.166671</td>\n",
       "      <td>-500.904965</td>\n",
       "      <td>1575.950626</td>\n",
       "      <td>-499.865889</td>\n",
       "      <td>1575.994189</td>\n",
       "      <td>-499.315107</td>\n",
       "      <td>1574.479259</td>\n",
       "      <td>-498.931665</td>\n",
       "      <td>6.161113</td>\n",
       "      <td>2.266033</td>\n",
       "      <td>525.290581</td>\n",
       "      <td>57.278666</td>\n",
       "      <td>35.753385</td>\n",
       "      <td>6.478583</td>\n",
       "      <td>11.971193</td>\n",
       "      <td>6.005766</td>\n",
       "      <td>11.996163</td>\n",
       "      <td>6.012594</td>\n",
       "      <td>1000.286398</td>\n",
       "      <td>-400.065196</td>\n",
       "      <td>1600.754587</td>\n",
       "      <td>-449.953435</td>\n",
       "      <td>1600.479580</td>\n",
       "      <td>-449.830646</td>\n",
       "      <td>1600.527589</td>\n",
       "      <td>-449.953649</td>\n",
       "      <td>1399.227084</td>\n",
       "      <td>-450.869848</td>\n",
       "      <td>1399.719514</td>\n",
       "      <td>-450.119001</td>\n",
       "      <td>25.880539</td>\n",
       "      <td>-499.989656</td>\n",
       "      <td>23.889530</td>\n",
       "      <td>-500.372428</td>\n",
       "      <td>23.970550</td>\n",
       "      <td>-500.085473</td>\n",
       "      <td>22.085714</td>\n",
       "      <td>-499.446897</td>\n",
       "      <td>13.992281</td>\n",
       "      <td>-505.503262</td>\n",
       "      <td>11.950531</td>\n",
       "      <td>-501.331529</td>\n",
       "      <td>10.039245</td>\n",
       "      <td>-500.169983</td>\n",
       "      <td>7.984757</td>\n",
       "      <td>-500.582168</td>\n",
       "      <td>13.998353</td>\n",
       "      <td>-599.787184</td>\n",
       "      <td>69.266198</td>\n",
       "      <td>86.843261</td>\n",
       "    </tr>\n",
       "    <tr>\n",
       "      <th>2</th>\n",
       "      <td>2016-01-15 02:00:00</td>\n",
       "      <td>123.819808</td>\n",
       "      <td>11.316280</td>\n",
       "      <td>7.25</td>\n",
       "      <td>0.991265</td>\n",
       "      <td>1601.556163</td>\n",
       "      <td>-499.997791</td>\n",
       "      <td>1600.386685</td>\n",
       "      <td>-500.607762</td>\n",
       "      <td>1602.003542</td>\n",
       "      <td>-500.870069</td>\n",
       "      <td>1599.541515</td>\n",
       "      <td>-499.827444</td>\n",
       "      <td>6.116455</td>\n",
       "      <td>2.159622</td>\n",
       "      <td>530.026610</td>\n",
       "      <td>57.510649</td>\n",
       "      <td>35.971630</td>\n",
       "      <td>6.362222</td>\n",
       "      <td>11.920603</td>\n",
       "      <td>6.197377</td>\n",
       "      <td>11.920305</td>\n",
       "      <td>6.204633</td>\n",
       "      <td>999.719565</td>\n",
       "      <td>-400.074028</td>\n",
       "      <td>1599.337330</td>\n",
       "      <td>-450.008530</td>\n",
       "      <td>1599.672797</td>\n",
       "      <td>-449.954491</td>\n",
       "      <td>1599.849325</td>\n",
       "      <td>-449.954185</td>\n",
       "      <td>1399.180945</td>\n",
       "      <td>-449.937588</td>\n",
       "      <td>1400.316682</td>\n",
       "      <td>-450.527147</td>\n",
       "      <td>26.005245</td>\n",
       "      <td>-499.929616</td>\n",
       "      <td>23.886657</td>\n",
       "      <td>-499.951928</td>\n",
       "      <td>23.913535</td>\n",
       "      <td>-499.442343</td>\n",
       "      <td>23.957717</td>\n",
       "      <td>-499.901982</td>\n",
       "      <td>14.015015</td>\n",
       "      <td>-502.520901</td>\n",
       "      <td>11.912783</td>\n",
       "      <td>-501.133383</td>\n",
       "      <td>10.070913</td>\n",
       "      <td>-500.129135</td>\n",
       "      <td>8.013877</td>\n",
       "      <td>-500.517572</td>\n",
       "      <td>14.028663</td>\n",
       "      <td>-601.427363</td>\n",
       "      <td>68.116445</td>\n",
       "      <td>86.842308</td>\n",
       "    </tr>\n",
       "    <tr>\n",
       "      <th>3</th>\n",
       "      <td>2016-01-15 03:00:00</td>\n",
       "      <td>122.270188</td>\n",
       "      <td>11.322140</td>\n",
       "      <td>7.25</td>\n",
       "      <td>0.996739</td>\n",
       "      <td>1599.968720</td>\n",
       "      <td>-500.951778</td>\n",
       "      <td>1600.659236</td>\n",
       "      <td>-499.677094</td>\n",
       "      <td>1600.304144</td>\n",
       "      <td>-500.727997</td>\n",
       "      <td>1600.449520</td>\n",
       "      <td>-500.052575</td>\n",
       "      <td>6.043309</td>\n",
       "      <td>2.037807</td>\n",
       "      <td>542.590390</td>\n",
       "      <td>57.792734</td>\n",
       "      <td>36.862241</td>\n",
       "      <td>6.118189</td>\n",
       "      <td>11.630094</td>\n",
       "      <td>6.203177</td>\n",
       "      <td>11.692450</td>\n",
       "      <td>6.196578</td>\n",
       "      <td>999.814770</td>\n",
       "      <td>-400.200179</td>\n",
       "      <td>1600.059442</td>\n",
       "      <td>-450.619948</td>\n",
       "      <td>1600.012842</td>\n",
       "      <td>-449.910497</td>\n",
       "      <td>1597.725177</td>\n",
       "      <td>-450.130127</td>\n",
       "      <td>1400.943157</td>\n",
       "      <td>-450.030142</td>\n",
       "      <td>1400.234743</td>\n",
       "      <td>-449.790835</td>\n",
       "      <td>25.942508</td>\n",
       "      <td>-499.176749</td>\n",
       "      <td>23.955516</td>\n",
       "      <td>-499.848796</td>\n",
       "      <td>23.966838</td>\n",
       "      <td>-500.008812</td>\n",
       "      <td>23.954443</td>\n",
       "      <td>-499.944710</td>\n",
       "      <td>14.036510</td>\n",
       "      <td>-500.857308</td>\n",
       "      <td>11.999550</td>\n",
       "      <td>-501.193686</td>\n",
       "      <td>9.970366</td>\n",
       "      <td>-499.201640</td>\n",
       "      <td>7.977324</td>\n",
       "      <td>-500.255908</td>\n",
       "      <td>14.005551</td>\n",
       "      <td>-599.996129</td>\n",
       "      <td>68.347543</td>\n",
       "      <td>87.226430</td>\n",
       "    </tr>\n",
       "    <tr>\n",
       "      <th>4</th>\n",
       "      <td>2016-01-15 04:00:00</td>\n",
       "      <td>117.988169</td>\n",
       "      <td>11.913613</td>\n",
       "      <td>7.25</td>\n",
       "      <td>1.009869</td>\n",
       "      <td>1601.339707</td>\n",
       "      <td>-498.975456</td>\n",
       "      <td>1601.437854</td>\n",
       "      <td>-500.323246</td>\n",
       "      <td>1599.581894</td>\n",
       "      <td>-500.888152</td>\n",
       "      <td>1602.649541</td>\n",
       "      <td>-500.593010</td>\n",
       "      <td>6.060915</td>\n",
       "      <td>1.786875</td>\n",
       "      <td>540.531893</td>\n",
       "      <td>56.047189</td>\n",
       "      <td>34.347666</td>\n",
       "      <td>5.663707</td>\n",
       "      <td>10.957755</td>\n",
       "      <td>6.198826</td>\n",
       "      <td>10.960521</td>\n",
       "      <td>6.194897</td>\n",
       "      <td>999.678690</td>\n",
       "      <td>-399.752729</td>\n",
       "      <td>1600.208824</td>\n",
       "      <td>-449.599614</td>\n",
       "      <td>1600.357732</td>\n",
       "      <td>-450.034364</td>\n",
       "      <td>1599.759049</td>\n",
       "      <td>-449.909799</td>\n",
       "      <td>1401.560902</td>\n",
       "      <td>-448.877187</td>\n",
       "      <td>1401.160227</td>\n",
       "      <td>-450.407128</td>\n",
       "      <td>26.024787</td>\n",
       "      <td>-500.279091</td>\n",
       "      <td>23.955345</td>\n",
       "      <td>-500.593614</td>\n",
       "      <td>23.985703</td>\n",
       "      <td>-500.083811</td>\n",
       "      <td>23.958945</td>\n",
       "      <td>-499.990309</td>\n",
       "      <td>14.027298</td>\n",
       "      <td>-499.838632</td>\n",
       "      <td>11.953070</td>\n",
       "      <td>-501.053894</td>\n",
       "      <td>9.925709</td>\n",
       "      <td>-501.686727</td>\n",
       "      <td>7.894242</td>\n",
       "      <td>-500.356035</td>\n",
       "      <td>13.996647</td>\n",
       "      <td>-601.496691</td>\n",
       "      <td>66.927016</td>\n",
       "      <td>86.688794</td>\n",
       "    </tr>\n",
       "  </tbody>\n",
       "</table>\n",
       "</div>"
      ],
      "text/plain": [
       "                  date  primary_cleaner.input.sulfate  \\\n",
       "0  2016-01-15 00:00:00                     127.092003   \n",
       "1  2016-01-15 01:00:00                     125.629232   \n",
       "2  2016-01-15 02:00:00                     123.819808   \n",
       "3  2016-01-15 03:00:00                     122.270188   \n",
       "4  2016-01-15 04:00:00                     117.988169   \n",
       "\n",
       "   primary_cleaner.input.depressant  primary_cleaner.input.feed_size  \\\n",
       "0                         10.128295                             7.25   \n",
       "1                         10.296251                             7.25   \n",
       "2                         11.316280                             7.25   \n",
       "3                         11.322140                             7.25   \n",
       "4                         11.913613                             7.25   \n",
       "\n",
       "   primary_cleaner.input.xanthate  primary_cleaner.state.floatbank8_a_air  \\\n",
       "0                        0.988759                             1549.775757   \n",
       "1                        1.002663                             1576.166671   \n",
       "2                        0.991265                             1601.556163   \n",
       "3                        0.996739                             1599.968720   \n",
       "4                        1.009869                             1601.339707   \n",
       "\n",
       "   primary_cleaner.state.floatbank8_a_level  \\\n",
       "0                               -498.912140   \n",
       "1                               -500.904965   \n",
       "2                               -499.997791   \n",
       "3                               -500.951778   \n",
       "4                               -498.975456   \n",
       "\n",
       "   primary_cleaner.state.floatbank8_b_air  \\\n",
       "0                             1551.434204   \n",
       "1                             1575.950626   \n",
       "2                             1600.386685   \n",
       "3                             1600.659236   \n",
       "4                             1601.437854   \n",
       "\n",
       "   primary_cleaner.state.floatbank8_b_level  \\\n",
       "0                               -516.403442   \n",
       "1                               -499.865889   \n",
       "2                               -500.607762   \n",
       "3                               -499.677094   \n",
       "4                               -500.323246   \n",
       "\n",
       "   primary_cleaner.state.floatbank8_c_air  \\\n",
       "0                             1549.873901   \n",
       "1                             1575.994189   \n",
       "2                             1602.003542   \n",
       "3                             1600.304144   \n",
       "4                             1599.581894   \n",
       "\n",
       "   primary_cleaner.state.floatbank8_c_level  \\\n",
       "0                               -498.666595   \n",
       "1                               -499.315107   \n",
       "2                               -500.870069   \n",
       "3                               -500.727997   \n",
       "4                               -500.888152   \n",
       "\n",
       "   primary_cleaner.state.floatbank8_d_air  \\\n",
       "0                             1554.367432   \n",
       "1                             1574.479259   \n",
       "2                             1599.541515   \n",
       "3                             1600.449520   \n",
       "4                             1602.649541   \n",
       "\n",
       "   primary_cleaner.state.floatbank8_d_level  rougher.input.feed_ag  \\\n",
       "0                               -493.428131               6.100378   \n",
       "1                               -498.931665               6.161113   \n",
       "2                               -499.827444               6.116455   \n",
       "3                               -500.052575               6.043309   \n",
       "4                               -500.593010               6.060915   \n",
       "\n",
       "   rougher.input.feed_pb  rougher.input.feed_rate  rougher.input.feed_size  \\\n",
       "0               2.284912               523.546326                55.486599   \n",
       "1               2.266033               525.290581                57.278666   \n",
       "2               2.159622               530.026610                57.510649   \n",
       "3               2.037807               542.590390                57.792734   \n",
       "4               1.786875               540.531893                56.047189   \n",
       "\n",
       "   rougher.input.feed_sol  rougher.input.feed_au  \\\n",
       "0               36.808594               6.486150   \n",
       "1               35.753385               6.478583   \n",
       "2               35.971630               6.362222   \n",
       "3               36.862241               6.118189   \n",
       "4               34.347666               5.663707   \n",
       "\n",
       "   rougher.input.floatbank10_sulfate  rougher.input.floatbank10_xanthate  \\\n",
       "0                          11.986616                            6.007990   \n",
       "1                          11.971193                            6.005766   \n",
       "2                          11.920603                            6.197377   \n",
       "3                          11.630094                            6.203177   \n",
       "4                          10.957755                            6.198826   \n",
       "\n",
       "   rougher.input.floatbank11_sulfate  rougher.input.floatbank11_xanthate  \\\n",
       "0                          11.836743                            6.005818   \n",
       "1                          11.996163                            6.012594   \n",
       "2                          11.920305                            6.204633   \n",
       "3                          11.692450                            6.196578   \n",
       "4                          10.960521                            6.194897   \n",
       "\n",
       "   rougher.state.floatbank10_a_air  rougher.state.floatbank10_a_level  \\\n",
       "0                       999.706909                        -404.066986   \n",
       "1                      1000.286398                        -400.065196   \n",
       "2                       999.719565                        -400.074028   \n",
       "3                       999.814770                        -400.200179   \n",
       "4                       999.678690                        -399.752729   \n",
       "\n",
       "   rougher.state.floatbank10_b_air  rougher.state.floatbank10_b_level  \\\n",
       "0                      1603.011353                        -434.715027   \n",
       "1                      1600.754587                        -449.953435   \n",
       "2                      1599.337330                        -450.008530   \n",
       "3                      1600.059442                        -450.619948   \n",
       "4                      1600.208824                        -449.599614   \n",
       "\n",
       "   rougher.state.floatbank10_c_air  rougher.state.floatbank10_c_level  \\\n",
       "0                      1602.375000                        -442.204468   \n",
       "1                      1600.479580                        -449.830646   \n",
       "2                      1599.672797                        -449.954491   \n",
       "3                      1600.012842                        -449.910497   \n",
       "4                      1600.357732                        -450.034364   \n",
       "\n",
       "   rougher.state.floatbank10_d_air  rougher.state.floatbank10_d_level  \\\n",
       "0                      1598.937256                        -451.294128   \n",
       "1                      1600.527589                        -449.953649   \n",
       "2                      1599.849325                        -449.954185   \n",
       "3                      1597.725177                        -450.130127   \n",
       "4                      1599.759049                        -449.909799   \n",
       "\n",
       "   rougher.state.floatbank10_e_air  rougher.state.floatbank10_e_level  \\\n",
       "0                      1404.472046                        -455.462982   \n",
       "1                      1399.227084                        -450.869848   \n",
       "2                      1399.180945                        -449.937588   \n",
       "3                      1400.943157                        -450.030142   \n",
       "4                      1401.560902                        -448.877187   \n",
       "\n",
       "   rougher.state.floatbank10_f_air  rougher.state.floatbank10_f_level  \\\n",
       "0                      1416.354980                        -451.939636   \n",
       "1                      1399.719514                        -450.119001   \n",
       "2                      1400.316682                        -450.527147   \n",
       "3                      1400.234743                        -449.790835   \n",
       "4                      1401.160227                        -450.407128   \n",
       "\n",
       "   secondary_cleaner.state.floatbank2_a_air  \\\n",
       "0                                 25.853109   \n",
       "1                                 25.880539   \n",
       "2                                 26.005245   \n",
       "3                                 25.942508   \n",
       "4                                 26.024787   \n",
       "\n",
       "   secondary_cleaner.state.floatbank2_a_level  \\\n",
       "0                                 -498.526489   \n",
       "1                                 -499.989656   \n",
       "2                                 -499.929616   \n",
       "3                                 -499.176749   \n",
       "4                                 -500.279091   \n",
       "\n",
       "   secondary_cleaner.state.floatbank2_b_air  \\\n",
       "0                                 23.893660   \n",
       "1                                 23.889530   \n",
       "2                                 23.886657   \n",
       "3                                 23.955516   \n",
       "4                                 23.955345   \n",
       "\n",
       "   secondary_cleaner.state.floatbank2_b_level  \\\n",
       "0                                 -501.406281   \n",
       "1                                 -500.372428   \n",
       "2                                 -499.951928   \n",
       "3                                 -499.848796   \n",
       "4                                 -500.593614   \n",
       "\n",
       "   secondary_cleaner.state.floatbank3_a_air  \\\n",
       "0                                 23.961798   \n",
       "1                                 23.970550   \n",
       "2                                 23.913535   \n",
       "3                                 23.966838   \n",
       "4                                 23.985703   \n",
       "\n",
       "   secondary_cleaner.state.floatbank3_a_level  \\\n",
       "0                                 -495.262817   \n",
       "1                                 -500.085473   \n",
       "2                                 -499.442343   \n",
       "3                                 -500.008812   \n",
       "4                                 -500.083811   \n",
       "\n",
       "   secondary_cleaner.state.floatbank3_b_air  \\\n",
       "0                                 21.940409   \n",
       "1                                 22.085714   \n",
       "2                                 23.957717   \n",
       "3                                 23.954443   \n",
       "4                                 23.958945   \n",
       "\n",
       "   secondary_cleaner.state.floatbank3_b_level  \\\n",
       "0                                 -499.340973   \n",
       "1                                 -499.446897   \n",
       "2                                 -499.901982   \n",
       "3                                 -499.944710   \n",
       "4                                 -499.990309   \n",
       "\n",
       "   secondary_cleaner.state.floatbank4_a_air  \\\n",
       "0                                 14.016835   \n",
       "1                                 13.992281   \n",
       "2                                 14.015015   \n",
       "3                                 14.036510   \n",
       "4                                 14.027298   \n",
       "\n",
       "   secondary_cleaner.state.floatbank4_a_level  \\\n",
       "0                                 -502.488007   \n",
       "1                                 -505.503262   \n",
       "2                                 -502.520901   \n",
       "3                                 -500.857308   \n",
       "4                                 -499.838632   \n",
       "\n",
       "   secondary_cleaner.state.floatbank4_b_air  \\\n",
       "0                                 12.099931   \n",
       "1                                 11.950531   \n",
       "2                                 11.912783   \n",
       "3                                 11.999550   \n",
       "4                                 11.953070   \n",
       "\n",
       "   secondary_cleaner.state.floatbank4_b_level  \\\n",
       "0                                 -504.715942   \n",
       "1                                 -501.331529   \n",
       "2                                 -501.133383   \n",
       "3                                 -501.193686   \n",
       "4                                 -501.053894   \n",
       "\n",
       "   secondary_cleaner.state.floatbank5_a_air  \\\n",
       "0                                  9.925633   \n",
       "1                                 10.039245   \n",
       "2                                 10.070913   \n",
       "3                                  9.970366   \n",
       "4                                  9.925709   \n",
       "\n",
       "   secondary_cleaner.state.floatbank5_a_level  \\\n",
       "0                                 -498.310211   \n",
       "1                                 -500.169983   \n",
       "2                                 -500.129135   \n",
       "3                                 -499.201640   \n",
       "4                                 -501.686727   \n",
       "\n",
       "   secondary_cleaner.state.floatbank5_b_air  \\\n",
       "0                                  8.079666   \n",
       "1                                  7.984757   \n",
       "2                                  8.013877   \n",
       "3                                  7.977324   \n",
       "4                                  7.894242   \n",
       "\n",
       "   secondary_cleaner.state.floatbank5_b_level  \\\n",
       "0                                 -500.470978   \n",
       "1                                 -500.582168   \n",
       "2                                 -500.517572   \n",
       "3                                 -500.255908   \n",
       "4                                 -500.356035   \n",
       "\n",
       "   secondary_cleaner.state.floatbank6_a_air  \\\n",
       "0                                 14.151341   \n",
       "1                                 13.998353   \n",
       "2                                 14.028663   \n",
       "3                                 14.005551   \n",
       "4                                 13.996647   \n",
       "\n",
       "   secondary_cleaner.state.floatbank6_a_level  final.output.recovery  \\\n",
       "0                                 -605.841980              70.541216   \n",
       "1                                 -599.787184              69.266198   \n",
       "2                                 -601.427363              68.116445   \n",
       "3                                 -599.996129              68.347543   \n",
       "4                                 -601.496691              66.927016   \n",
       "\n",
       "   rougher.output.recovery  \n",
       "0                87.107763  \n",
       "1                86.843261  \n",
       "2                86.842308  \n",
       "3                87.226430  \n",
       "4                86.688794  "
      ]
     },
     "execution_count": 23,
     "metadata": {},
     "output_type": "execute_result"
    }
   ],
   "source": [
    "data_train_full = data_train_clean[data_test_full.columns]\n",
    "data_train_full.head()"
   ]
  },
  {
   "cell_type": "markdown",
   "metadata": {},
   "source": [
    "### Разбивка на выборки"
   ]
  },
  {
   "cell_type": "code",
   "execution_count": 24,
   "metadata": {},
   "outputs": [],
   "source": [
    "features_train = data_train_full.drop(['rougher.output.recovery','final.output.recovery','date'], axis=1)\n",
    "target_train = data_train_full[['rougher.output.recovery','final.output.recovery']]\n",
    "\n",
    "features_test = data_test_full.drop(['rougher.output.recovery','final.output.recovery','date'], axis=1)\n",
    "target_test = data_test_full[['rougher.output.recovery','final.output.recovery']]"
   ]
  },
  {
   "cell_type": "code",
   "execution_count": 25,
   "metadata": {},
   "outputs": [
    {
     "data": {
      "text/plain": [
       "((9840, 52), (5290, 52))"
      ]
     },
     "execution_count": 25,
     "metadata": {},
     "output_type": "execute_result"
    }
   ],
   "source": [
    "features_train.shape, features_test.shape"
   ]
  },
  {
   "cell_type": "code",
   "execution_count": 26,
   "metadata": {},
   "outputs": [
    {
     "data": {
      "text/html": [
       "<div>\n",
       "<style scoped>\n",
       "    .dataframe tbody tr th:only-of-type {\n",
       "        vertical-align: middle;\n",
       "    }\n",
       "\n",
       "    .dataframe tbody tr th {\n",
       "        vertical-align: top;\n",
       "    }\n",
       "\n",
       "    .dataframe thead th {\n",
       "        text-align: right;\n",
       "    }\n",
       "</style>\n",
       "<table border=\"1\" class=\"dataframe\">\n",
       "  <thead>\n",
       "    <tr style=\"text-align: right;\">\n",
       "      <th></th>\n",
       "      <th>rougher.output.recovery</th>\n",
       "      <th>final.output.recovery</th>\n",
       "    </tr>\n",
       "  </thead>\n",
       "  <tbody>\n",
       "    <tr>\n",
       "      <th>0</th>\n",
       "      <td>89.993421</td>\n",
       "      <td>70.273583</td>\n",
       "    </tr>\n",
       "    <tr>\n",
       "      <th>1</th>\n",
       "      <td>88.089657</td>\n",
       "      <td>68.910432</td>\n",
       "    </tr>\n",
       "    <tr>\n",
       "      <th>2</th>\n",
       "      <td>88.412756</td>\n",
       "      <td>68.143213</td>\n",
       "    </tr>\n",
       "    <tr>\n",
       "      <th>3</th>\n",
       "      <td>87.360133</td>\n",
       "      <td>67.776393</td>\n",
       "    </tr>\n",
       "    <tr>\n",
       "      <th>4</th>\n",
       "      <td>83.236367</td>\n",
       "      <td>61.467078</td>\n",
       "    </tr>\n",
       "  </tbody>\n",
       "</table>\n",
       "</div>"
      ],
      "text/plain": [
       "   rougher.output.recovery  final.output.recovery\n",
       "0                89.993421              70.273583\n",
       "1                88.089657              68.910432\n",
       "2                88.412756              68.143213\n",
       "3                87.360133              67.776393\n",
       "4                83.236367              61.467078"
      ]
     },
     "execution_count": 26,
     "metadata": {},
     "output_type": "execute_result"
    }
   ],
   "source": [
    "target_test.head()"
   ]
  },
  {
   "cell_type": "markdown",
   "metadata": {},
   "source": [
    "### Вычисление sMAPE"
   ]
  },
  {
   "cell_type": "markdown",
   "metadata": {},
   "source": [
    "Напишем функцию для вычисления sMAPE"
   ]
  },
  {
   "cell_type": "code",
   "execution_count": 27,
   "metadata": {},
   "outputs": [],
   "source": [
    "def smape(target_1, predictions):    \n",
    "    a = abs(target_1 - predictions)\n",
    "    b = (abs(target_1) + abs(predictions)) / 2\n",
    "    errors = a / b\n",
    "    return errors.sum()/ errors.shape[0] * 100\n",
    "\n",
    "def smape_weighted(smape_rougher, smape_final):\n",
    "    result = 0.25*smape_rougher + 0.75*smape_final\n",
    "    return result\n",
    "\n",
    "def smape_final(a, b):\n",
    "    return 0.25 * a + 0.75 * b\n",
    "\n",
    "smape_score = make_scorer(smape_weighted, greater_is_better = False)"
   ]
  },
  {
   "cell_type": "markdown",
   "metadata": {},
   "source": [
    "### Выбор модели"
   ]
  },
  {
   "cell_type": "markdown",
   "metadata": {},
   "source": [
    "Выберем лучшую модель для нашей задачи"
   ]
  },
  {
   "cell_type": "code",
   "execution_count": 28,
   "metadata": {},
   "outputs": [
    {
     "data": {
      "text/html": [
       "<style  type=\"text/css\" >\n",
       "#T_d3b0e_row1_col2,#T_d3b0e_row2_col1{\n",
       "            background-color:  lightgreen;\n",
       "        }</style><table id=\"T_d3b0e_\" ><thead>    <tr>        <th class=\"blank level0\" ></th>        <th class=\"col_heading level0 col0\" >model name</th>        <th class=\"col_heading level0 col1\" >cross_val_score_rougher</th>        <th class=\"col_heading level0 col2\" >cross_val_score_final</th>    </tr></thead><tbody>\n",
       "                <tr>\n",
       "                        <th id=\"T_d3b0e_level0_row0\" class=\"row_heading level0 row0\" >0</th>\n",
       "                        <td id=\"T_d3b0e_row0_col0\" class=\"data row0 col0\" >DecisionTreeRegressor</td>\n",
       "                        <td id=\"T_d3b0e_row0_col1\" class=\"data row0 col1\" >-8.688339</td>\n",
       "                        <td id=\"T_d3b0e_row0_col2\" class=\"data row0 col2\" >-16.083786</td>\n",
       "            </tr>\n",
       "            <tr>\n",
       "                        <th id=\"T_d3b0e_level0_row1\" class=\"row_heading level0 row1\" >1</th>\n",
       "                        <td id=\"T_d3b0e_row1_col0\" class=\"data row1 col0\" >RandomForestRegressor</td>\n",
       "                        <td id=\"T_d3b0e_row1_col1\" class=\"data row1 col1\" >-7.034486</td>\n",
       "                        <td id=\"T_d3b0e_row1_col2\" class=\"data row1 col2\" >-8.947054</td>\n",
       "            </tr>\n",
       "            <tr>\n",
       "                        <th id=\"T_d3b0e_level0_row2\" class=\"row_heading level0 row2\" >2</th>\n",
       "                        <td id=\"T_d3b0e_row2_col0\" class=\"data row2 col0\" >LinearRegression</td>\n",
       "                        <td id=\"T_d3b0e_row2_col1\" class=\"data row2 col1\" >-6.944718</td>\n",
       "                        <td id=\"T_d3b0e_row2_col2\" class=\"data row2 col2\" >-9.510662</td>\n",
       "            </tr>\n",
       "    </tbody></table>"
      ],
      "text/plain": [
       "<pandas.io.formats.style.Styler at 0x19fc375f4c0>"
      ]
     },
     "execution_count": 28,
     "metadata": {},
     "output_type": "execute_result"
    }
   ],
   "source": [
    "target_rougher_train = target_train['rougher.output.recovery']\n",
    "target_final_train = target_train['final.output.recovery']\n",
    "\n",
    "random_state = 12345\n",
    "cv = 5\n",
    "models = [DecisionTreeRegressor(random_state = random_state), \n",
    "          RandomForestRegressor(random_state=random_state), \n",
    "          LinearRegression()]\n",
    "\n",
    "\n",
    "results_cross_val = []\n",
    "\n",
    "for model in models: \n",
    "    \n",
    "    scorer = make_scorer(smape, greater_is_better=False) \n",
    "    \n",
    "    cross_val_score_rougher = cross_val_score(model, \n",
    "                                              features_train, \n",
    "                                              target_rougher_train, \n",
    "                                              cv=cv, scoring=scorer).mean()\n",
    "    cross_val_score_final = cross_val_score(model, \n",
    "                                            features_train, \n",
    "                                            target_final_train, \n",
    "                                            cv=cv, scoring=scorer).mean()\n",
    "\n",
    "    results_cross_val.append({'model name': model.__class__.__name__, \n",
    "                              'cross_val_score_rougher': cross_val_score_rougher, \n",
    "                              'cross_val_score_final': cross_val_score_final}) \n",
    "              \n",
    "pd.DataFrame(results_cross_val).style.highlight_max(color = 'lightgreen', axis = 0)"
   ]
  },
  {
   "cell_type": "markdown",
   "metadata": {},
   "source": [
    "На этапе флотации лучше всего себя показывает Линейная регрессия, но финальное smape более точно у Случайного леса. Попробуем подобрать лучшие параметры для случайного леса"
   ]
  },
  {
   "cell_type": "code",
   "execution_count": 29,
   "metadata": {},
   "outputs": [
    {
     "name": "stdout",
     "output_type": "stream",
     "text": [
      "Wall time: 1min 21s\n"
     ]
    },
    {
     "data": {
      "text/html": [
       "<style  type=\"text/css\" >\n",
       "#T_91b95_row10_col2{\n",
       "            background-color:  lightgreen;\n",
       "        }</style><table id=\"T_91b95_\" ><thead>    <tr>        <th class=\"blank level0\" ></th>        <th class=\"col_heading level0 col0\" >model name</th>        <th class=\"col_heading level0 col1\" >Hyperparameters</th>        <th class=\"col_heading level0 col2\" >smape_final_result</th>    </tr></thead><tbody>\n",
       "                <tr>\n",
       "                        <th id=\"T_91b95_level0_row0\" class=\"row_heading level0 row0\" >0</th>\n",
       "                        <td id=\"T_91b95_row0_col0\" class=\"data row0 col0\" >RandomForestRegressor</td>\n",
       "                        <td id=\"T_91b95_row0_col1\" class=\"data row0 col1\" >{'random_state': 12345, 'n_estimators': 10, 'max_depth': 1}</td>\n",
       "                        <td id=\"T_91b95_row0_col2\" class=\"data row0 col2\" >-8.419282</td>\n",
       "            </tr>\n",
       "            <tr>\n",
       "                        <th id=\"T_91b95_level0_row1\" class=\"row_heading level0 row1\" >1</th>\n",
       "                        <td id=\"T_91b95_row1_col0\" class=\"data row1 col0\" >RandomForestRegressor</td>\n",
       "                        <td id=\"T_91b95_row1_col1\" class=\"data row1 col1\" >{'random_state': 12345, 'n_estimators': 15, 'max_depth': 1}</td>\n",
       "                        <td id=\"T_91b95_row1_col2\" class=\"data row1 col2\" >-8.445404</td>\n",
       "            </tr>\n",
       "            <tr>\n",
       "                        <th id=\"T_91b95_level0_row2\" class=\"row_heading level0 row2\" >2</th>\n",
       "                        <td id=\"T_91b95_row2_col0\" class=\"data row2 col0\" >RandomForestRegressor</td>\n",
       "                        <td id=\"T_91b95_row2_col1\" class=\"data row2 col1\" >{'random_state': 12345, 'n_estimators': 20, 'max_depth': 1}</td>\n",
       "                        <td id=\"T_91b95_row2_col2\" class=\"data row2 col2\" >-8.463371</td>\n",
       "            </tr>\n",
       "            <tr>\n",
       "                        <th id=\"T_91b95_level0_row3\" class=\"row_heading level0 row3\" >3</th>\n",
       "                        <td id=\"T_91b95_row3_col0\" class=\"data row3 col0\" >RandomForestRegressor</td>\n",
       "                        <td id=\"T_91b95_row3_col1\" class=\"data row3 col1\" >{'random_state': 12345, 'n_estimators': 10, 'max_depth': 2}</td>\n",
       "                        <td id=\"T_91b95_row3_col2\" class=\"data row3 col2\" >-8.601877</td>\n",
       "            </tr>\n",
       "            <tr>\n",
       "                        <th id=\"T_91b95_level0_row4\" class=\"row_heading level0 row4\" >4</th>\n",
       "                        <td id=\"T_91b95_row4_col0\" class=\"data row4 col0\" >RandomForestRegressor</td>\n",
       "                        <td id=\"T_91b95_row4_col1\" class=\"data row4 col1\" >{'random_state': 12345, 'n_estimators': 15, 'max_depth': 2}</td>\n",
       "                        <td id=\"T_91b95_row4_col2\" class=\"data row4 col2\" >-8.645579</td>\n",
       "            </tr>\n",
       "            <tr>\n",
       "                        <th id=\"T_91b95_level0_row5\" class=\"row_heading level0 row5\" >5</th>\n",
       "                        <td id=\"T_91b95_row5_col0\" class=\"data row5 col0\" >RandomForestRegressor</td>\n",
       "                        <td id=\"T_91b95_row5_col1\" class=\"data row5 col1\" >{'random_state': 12345, 'n_estimators': 20, 'max_depth': 2}</td>\n",
       "                        <td id=\"T_91b95_row5_col2\" class=\"data row5 col2\" >-8.635141</td>\n",
       "            </tr>\n",
       "            <tr>\n",
       "                        <th id=\"T_91b95_level0_row6\" class=\"row_heading level0 row6\" >6</th>\n",
       "                        <td id=\"T_91b95_row6_col0\" class=\"data row6 col0\" >RandomForestRegressor</td>\n",
       "                        <td id=\"T_91b95_row6_col1\" class=\"data row6 col1\" >{'random_state': 12345, 'n_estimators': 10, 'max_depth': 3}</td>\n",
       "                        <td id=\"T_91b95_row6_col2\" class=\"data row6 col2\" >-8.445894</td>\n",
       "            </tr>\n",
       "            <tr>\n",
       "                        <th id=\"T_91b95_level0_row7\" class=\"row_heading level0 row7\" >7</th>\n",
       "                        <td id=\"T_91b95_row7_col0\" class=\"data row7 col0\" >RandomForestRegressor</td>\n",
       "                        <td id=\"T_91b95_row7_col1\" class=\"data row7 col1\" >{'random_state': 12345, 'n_estimators': 15, 'max_depth': 3}</td>\n",
       "                        <td id=\"T_91b95_row7_col2\" class=\"data row7 col2\" >-8.479760</td>\n",
       "            </tr>\n",
       "            <tr>\n",
       "                        <th id=\"T_91b95_level0_row8\" class=\"row_heading level0 row8\" >8</th>\n",
       "                        <td id=\"T_91b95_row8_col0\" class=\"data row8 col0\" >RandomForestRegressor</td>\n",
       "                        <td id=\"T_91b95_row8_col1\" class=\"data row8 col1\" >{'random_state': 12345, 'n_estimators': 20, 'max_depth': 3}</td>\n",
       "                        <td id=\"T_91b95_row8_col2\" class=\"data row8 col2\" >-8.485163</td>\n",
       "            </tr>\n",
       "            <tr>\n",
       "                        <th id=\"T_91b95_level0_row9\" class=\"row_heading level0 row9\" >9</th>\n",
       "                        <td id=\"T_91b95_row9_col0\" class=\"data row9 col0\" >RandomForestRegressor</td>\n",
       "                        <td id=\"T_91b95_row9_col1\" class=\"data row9 col1\" >{'random_state': 12345, 'n_estimators': 10, 'max_depth': 4}</td>\n",
       "                        <td id=\"T_91b95_row9_col2\" class=\"data row9 col2\" >-8.255053</td>\n",
       "            </tr>\n",
       "            <tr>\n",
       "                        <th id=\"T_91b95_level0_row10\" class=\"row_heading level0 row10\" >10</th>\n",
       "                        <td id=\"T_91b95_row10_col0\" class=\"data row10 col0\" >RandomForestRegressor</td>\n",
       "                        <td id=\"T_91b95_row10_col1\" class=\"data row10 col1\" >{'random_state': 12345, 'n_estimators': 15, 'max_depth': 4}</td>\n",
       "                        <td id=\"T_91b95_row10_col2\" class=\"data row10 col2\" >-8.198355</td>\n",
       "            </tr>\n",
       "            <tr>\n",
       "                        <th id=\"T_91b95_level0_row11\" class=\"row_heading level0 row11\" >11</th>\n",
       "                        <td id=\"T_91b95_row11_col0\" class=\"data row11 col0\" >RandomForestRegressor</td>\n",
       "                        <td id=\"T_91b95_row11_col1\" class=\"data row11 col1\" >{'random_state': 12345, 'n_estimators': 20, 'max_depth': 4}</td>\n",
       "                        <td id=\"T_91b95_row11_col2\" class=\"data row11 col2\" >-8.221580</td>\n",
       "            </tr>\n",
       "    </tbody></table>"
      ],
      "text/plain": [
       "<pandas.io.formats.style.Styler at 0x19fc3c71550>"
      ]
     },
     "execution_count": 29,
     "metadata": {},
     "output_type": "execute_result"
    }
   ],
   "source": [
    "%%time \n",
    "results = []\n",
    "\n",
    "for depth in range(1,5):\n",
    "    \n",
    "    for estimator in range(10, 21, 5):\n",
    "        \n",
    "        model = RandomForestRegressor(random_state=random_state, \n",
    "                                       n_estimators=estimator, \n",
    "                                       max_depth=depth)\n",
    "        \n",
    "        scorer = make_scorer(smape, greater_is_better=False) \n",
    "    \n",
    "        cross_val_score_rougher = cross_val_score(model, features_train, target_rougher_train, cv=cv, scoring=scorer).mean()\n",
    "        cross_val_score_final = cross_val_score(model, features_train, target_final_train, cv=cv, scoring=scorer).mean()\n",
    "\n",
    "        smape_final_result = smape_final(cross_val_score_rougher, cross_val_score_final)\n",
    "\n",
    "        results.append({'model name': model.__class__.__name__, \n",
    "                        'Hyperparameters': {'random_state': random_state, \n",
    "                                            'n_estimators': estimator, \n",
    "                                            'max_depth':depth}, \n",
    "                        'smape_final_result': smape_final_result})\n",
    "\n",
    "pd.DataFrame(results).style.highlight_max(color = 'lightgreen', axis = 0)"
   ]
  },
  {
   "cell_type": "markdown",
   "metadata": {},
   "source": [
    "Как мы видим лучший результат показываем Случайный лес с 15 деревьями и глубиной 4. "
   ]
  },
  {
   "cell_type": "markdown",
   "metadata": {},
   "source": [
    "### Проверка модели на тестовых данных"
   ]
  },
  {
   "cell_type": "code",
   "execution_count": 30,
   "metadata": {},
   "outputs": [
    {
     "data": {
      "text/html": [
       "<style  type=\"text/css\" >\n",
       "#T_a7e0d_row0_col1{\n",
       "            background-color:  lightgreen;\n",
       "        }</style><table id=\"T_a7e0d_\" ><thead>    <tr>        <th class=\"blank level0\" ></th>        <th class=\"col_heading level0 col0\" >model name</th>        <th class=\"col_heading level0 col1\" >smape_final_result</th>    </tr></thead><tbody>\n",
       "                <tr>\n",
       "                        <th id=\"T_a7e0d_level0_row0\" class=\"row_heading level0 row0\" >0</th>\n",
       "                        <td id=\"T_a7e0d_row0_col0\" class=\"data row0 col0\" >RandomForestRegressor</td>\n",
       "                        <td id=\"T_a7e0d_row0_col1\" class=\"data row0 col1\" >-10.694288</td>\n",
       "            </tr>\n",
       "            <tr>\n",
       "                        <th id=\"T_a7e0d_level0_row1\" class=\"row_heading level0 row1\" >1</th>\n",
       "                        <td id=\"T_a7e0d_row1_col0\" class=\"data row1 col0\" >LinearRegression</td>\n",
       "                        <td id=\"T_a7e0d_row1_col1\" class=\"data row1 col1\" >-11.062478</td>\n",
       "            </tr>\n",
       "    </tbody></table>"
      ],
      "text/plain": [
       "<pandas.io.formats.style.Styler at 0x19fc3c713a0>"
      ]
     },
     "execution_count": 30,
     "metadata": {},
     "output_type": "execute_result"
    }
   ],
   "source": [
    "target_rougher_test = target_test['rougher.output.recovery']\n",
    "target_final_test = target_test['final.output.recovery']\n",
    "\n",
    "models = [RandomForestRegressor(random_state=random_state, \n",
    "                                       n_estimators=20, \n",
    "                                       max_depth=4), \n",
    "          LinearRegression()]\n",
    "\n",
    "\n",
    "results_cross_val2 = []\n",
    "\n",
    "for model in models: \n",
    "    \n",
    "    scorer = make_scorer(smape, greater_is_better=False) \n",
    "    \n",
    "    \n",
    "    cross_val_score_rougher = cross_val_score(model, \n",
    "                                              features_test, \n",
    "                                              target_rougher_test, \n",
    "                                              cv=cv, scoring=scorer).mean()\n",
    "    cross_val_score_final = cross_val_score(model, \n",
    "                                            features_test, \n",
    "                                            target_final_test, \n",
    "                                            cv=cv, scoring=scorer).mean()\n",
    "    smape_final_result = smape_final(cross_val_score_rougher, cross_val_score_final)\n",
    "    \n",
    "    results_cross_val2.append({'model name': model.__class__.__name__, \n",
    "                              'smape_final_result': smape_final_result}) \n",
    "              \n",
    "res_data = pd.DataFrame(results_cross_val2).style.highlight_max(color = 'lightgreen', axis = 0)\n",
    "res_data"
   ]
  },
  {
   "cell_type": "markdown",
   "metadata": {},
   "source": [
    "### Сравним результаты модели с константной"
   ]
  },
  {
   "cell_type": "code",
   "execution_count": 31,
   "metadata": {},
   "outputs": [
    {
     "name": "stdout",
     "output_type": "stream",
     "text": [
      "SMAPE костантной модели ФЛОТАЦИЯ 8.234217929161588\n"
     ]
    }
   ],
   "source": [
    "dummy_regressor_rougher = DummyRegressor(strategy=\"median\") \n",
    "dummy_regressor_rougher.fit(features_train, target_train['rougher.output.recovery']) \n",
    "dummy_rougher_pred = dummy_regressor_rougher.predict(features_test) \n",
    "smape_dummy_rougher = smape(target_test['rougher.output.recovery'], dummy_rougher_pred) \n",
    "print('SMAPE костантной модели ФЛОТАЦИЯ',smape_dummy_rougher)"
   ]
  },
  {
   "cell_type": "code",
   "execution_count": 32,
   "metadata": {},
   "outputs": [
    {
     "name": "stdout",
     "output_type": "stream",
     "text": [
      "SMAPE костантной модели ФИНАЛ 24.36037175766762\n"
     ]
    }
   ],
   "source": [
    "dummy_regressor_final = DummyRegressor(strategy=\"median\") \n",
    "dummy_regressor_final.fit(features_train, target_train['final.output.recovery']) \n",
    "dummy_rougher_pred = dummy_regressor_rougher.predict(features_test) \n",
    "smape_dummy_f = smape(target_test['final.output.recovery'], dummy_rougher_pred)\n",
    "print('SMAPE костантной модели ФИНАЛ',smape_dummy_f)"
   ]
  },
  {
   "cell_type": "code",
   "execution_count": 33,
   "metadata": {},
   "outputs": [
    {
     "name": "stdout",
     "output_type": "stream",
     "text": [
      "SMAPE костантной модели ИТОГ 20.328833300541113\n"
     ]
    }
   ],
   "source": [
    "smape_dummy_final = smape_final(smape_dummy_rougher, smape_dummy_f) \n",
    "print('SMAPE костантной модели ИТОГ',smape_dummy_final)"
   ]
  },
  {
   "cell_type": "markdown",
   "metadata": {},
   "source": [
    "Как видно, результаты значительно отличаются. Наша модель намного превосходит константную и проходит тест на адекватность."
   ]
  },
  {
   "cell_type": "markdown",
   "metadata": {},
   "source": [
    "## Вывод"
   ]
  },
  {
   "cell_type": "markdown",
   "metadata": {},
   "source": [
    "Мы подготовили прототип модели машинного обучения для компании.\n",
    "\n",
    "На каждом этапе я посторался написать наиболее содержательный вывод и анализ результатов.\n",
    "\n",
    "Были проверены 3 модели машинного обучения и выделена лучшая:\n",
    "    RandomForestRegressor\t{'random_state': 12345, 'n_estimators': 15, 'max_depth': 4}\t Показала результат:"
   ]
  },
  {
   "cell_type": "code",
   "execution_count": 34,
   "metadata": {},
   "outputs": [
    {
     "data": {
      "text/html": [
       "<style  type=\"text/css\" >\n",
       "#T_a7e0d_row0_col1{\n",
       "            background-color:  lightgreen;\n",
       "            background-color:  lightgreen;\n",
       "        }</style><table id=\"T_a7e0d_\" ><thead>    <tr>        <th class=\"blank level0\" ></th>        <th class=\"col_heading level0 col0\" >model name</th>        <th class=\"col_heading level0 col1\" >smape_final_result</th>    </tr></thead><tbody>\n",
       "                <tr>\n",
       "                        <th id=\"T_a7e0d_level0_row0\" class=\"row_heading level0 row0\" >0</th>\n",
       "                        <td id=\"T_a7e0d_row0_col0\" class=\"data row0 col0\" >RandomForestRegressor</td>\n",
       "                        <td id=\"T_a7e0d_row0_col1\" class=\"data row0 col1\" >-10.694288</td>\n",
       "            </tr>\n",
       "            <tr>\n",
       "                        <th id=\"T_a7e0d_level0_row1\" class=\"row_heading level0 row1\" >1</th>\n",
       "                        <td id=\"T_a7e0d_row1_col0\" class=\"data row1 col0\" >LinearRegression</td>\n",
       "                        <td id=\"T_a7e0d_row1_col1\" class=\"data row1 col1\" >-11.062478</td>\n",
       "            </tr>\n",
       "    </tbody></table>"
      ],
      "text/plain": [
       "<pandas.io.formats.style.Styler at 0x19fc3c713a0>"
      ]
     },
     "execution_count": 34,
     "metadata": {},
     "output_type": "execute_result"
    }
   ],
   "source": [
    "res_data"
   ]
  },
  {
   "cell_type": "markdown",
   "metadata": {},
   "source": [
    "## Чек-лист готовности проекта"
   ]
  },
  {
   "cell_type": "markdown",
   "metadata": {},
   "source": [
    "- [x]  Jupyter Notebook открыт\n",
    "- [x]  Весь код выполняется без ошибок\n",
    "- [x]  Ячейки с кодом расположены в порядке выполнения\n",
    "- [x]  Выполнен шаг 1: данные подготовлены\n",
    "    - [x]  Проверена формула вычисления эффективности обогащения\n",
    "    - [x]  Проанализированы признаки, недоступные в тестовой выборке\n",
    "    - [x]  Проведена предобработка данных\n",
    "- [x]  Выполнен шаг 2: данные проанализированы\n",
    "    - [x]  Исследовано изменение концентрации элементов на каждом этапе\n",
    "    - [x]  Проанализированы распределения размеров гранул на обучающей и тестовой выборках\n",
    "    - [x]  Исследованы суммарные концентрации\n",
    "- [x]  Выполнен шаг 3: построена модель прогнозирования\n",
    "    - [x]  Написана функция для вычисления итогового *sMAPE*\n",
    "    - [x]  Обучено и проверено несколько моделей\n",
    "    - [x]  Выбрана лучшая модель, её качество проверено на тестовой выборке"
   ]
  }
 ],
 "metadata": {
  "ExecuteTimeLog": [
   {
    "duration": 3145,
    "start_time": "2021-12-16T02:14:09.672Z"
   },
   {
    "duration": 1807,
    "start_time": "2021-12-16T02:14:24.935Z"
   },
   {
    "duration": 1847,
    "start_time": "2021-12-16T02:14:53.850Z"
   },
   {
    "duration": 1796,
    "start_time": "2021-12-16T02:16:33.766Z"
   },
   {
    "duration": 315,
    "start_time": "2021-12-16T02:20:41.998Z"
   },
   {
    "duration": 708,
    "start_time": "2021-12-16T02:23:01.359Z"
   },
   {
    "duration": 759,
    "start_time": "2021-12-16T02:23:20.012Z"
   },
   {
    "duration": 11,
    "start_time": "2021-12-16T02:24:16.756Z"
   },
   {
    "duration": 16,
    "start_time": "2021-12-16T02:24:54.280Z"
   },
   {
    "duration": 854,
    "start_time": "2021-12-16T06:30:31.272Z"
   },
   {
    "duration": 751,
    "start_time": "2021-12-16T06:30:53.305Z"
   },
   {
    "duration": 762,
    "start_time": "2021-12-16T06:34:27.313Z"
   },
   {
    "duration": 318,
    "start_time": "2021-12-17T02:44:08.391Z"
   },
   {
    "duration": 1888,
    "start_time": "2021-12-17T02:44:14.415Z"
   },
   {
    "duration": 125,
    "start_time": "2021-12-17T02:44:16.305Z"
   },
   {
    "duration": 216,
    "start_time": "2021-12-17T02:44:32.562Z"
   },
   {
    "duration": 11,
    "start_time": "2021-12-17T02:45:35.158Z"
   },
   {
    "duration": 10,
    "start_time": "2021-12-17T02:47:18.608Z"
   },
   {
    "duration": 330,
    "start_time": "2021-12-17T02:47:55.712Z"
   },
   {
    "duration": 8,
    "start_time": "2021-12-17T02:48:08.009Z"
   },
   {
    "duration": 8,
    "start_time": "2021-12-17T02:48:25.126Z"
   },
   {
    "duration": 9,
    "start_time": "2021-12-17T02:48:56.414Z"
   },
   {
    "duration": 9,
    "start_time": "2021-12-17T02:49:37.378Z"
   },
   {
    "duration": 107,
    "start_time": "2021-12-17T02:49:46.485Z"
   },
   {
    "duration": 1405,
    "start_time": "2021-12-17T04:08:34.256Z"
   },
   {
    "duration": 1213,
    "start_time": "2021-12-17T04:09:11.611Z"
   },
   {
    "duration": 1259,
    "start_time": "2021-12-17T04:09:54.845Z"
   },
   {
    "duration": 3,
    "start_time": "2021-12-17T04:20:57.542Z"
   },
   {
    "duration": 11,
    "start_time": "2021-12-17T04:20:58.631Z"
   },
   {
    "duration": 3,
    "start_time": "2021-12-17T04:21:04.381Z"
   },
   {
    "duration": 846,
    "start_time": "2021-12-17T04:21:44.839Z"
   },
   {
    "duration": 27,
    "start_time": "2021-12-17T04:25:36.149Z"
   },
   {
    "duration": 10,
    "start_time": "2021-12-17T04:32:44.324Z"
   },
   {
    "duration": 271,
    "start_time": "2021-12-17T04:37:15.064Z"
   },
   {
    "duration": 2350,
    "start_time": "2021-12-17T04:37:21.973Z"
   },
   {
    "duration": 2,
    "start_time": "2021-12-17T04:37:24.326Z"
   },
   {
    "duration": 14,
    "start_time": "2021-12-17T04:37:24.331Z"
   },
   {
    "duration": 3,
    "start_time": "2021-12-17T04:37:24.348Z"
   },
   {
    "duration": 25,
    "start_time": "2021-12-17T04:37:24.354Z"
   },
   {
    "duration": 43,
    "start_time": "2021-12-17T04:37:24.382Z"
   },
   {
    "duration": 5,
    "start_time": "2021-12-17T04:37:24.427Z"
   },
   {
    "duration": 4,
    "start_time": "2021-12-17T04:37:24.435Z"
   },
   {
    "duration": 9,
    "start_time": "2021-12-17T04:37:24.442Z"
   },
   {
    "duration": 136,
    "start_time": "2021-12-17T04:37:24.453Z"
   },
   {
    "duration": 7,
    "start_time": "2021-12-17T05:21:55.990Z"
   },
   {
    "duration": 7,
    "start_time": "2021-12-17T05:27:28.682Z"
   },
   {
    "duration": 5,
    "start_time": "2021-12-17T05:42:36.680Z"
   },
   {
    "duration": 417,
    "start_time": "2021-12-17T05:44:04.339Z"
   },
   {
    "duration": 104,
    "start_time": "2021-12-17T05:44:18.974Z"
   },
   {
    "duration": 9,
    "start_time": "2021-12-17T05:44:36.211Z"
   },
   {
    "duration": 57,
    "start_time": "2021-12-17T05:50:48.878Z"
   },
   {
    "duration": 16,
    "start_time": "2021-12-17T05:51:05.454Z"
   },
   {
    "duration": 35,
    "start_time": "2021-12-17T05:51:36.849Z"
   },
   {
    "duration": 6,
    "start_time": "2021-12-17T05:58:27.991Z"
   },
   {
    "duration": 4,
    "start_time": "2021-12-17T05:59:07.362Z"
   },
   {
    "duration": 7,
    "start_time": "2021-12-17T05:59:14.190Z"
   },
   {
    "duration": 5,
    "start_time": "2021-12-17T06:01:36.438Z"
   },
   {
    "duration": 5,
    "start_time": "2021-12-17T06:01:43.265Z"
   },
   {
    "duration": 7,
    "start_time": "2021-12-17T06:03:38.551Z"
   },
   {
    "duration": 19,
    "start_time": "2021-12-17T10:59:25.366Z"
   },
   {
    "duration": 13,
    "start_time": "2021-12-17T13:47:50.590Z"
   },
   {
    "duration": 231,
    "start_time": "2021-12-18T04:22:04.103Z"
   },
   {
    "duration": 1689,
    "start_time": "2021-12-18T04:22:18.299Z"
   },
   {
    "duration": 15,
    "start_time": "2021-12-18T04:22:19.990Z"
   },
   {
    "duration": 9,
    "start_time": "2021-12-18T04:22:20.593Z"
   },
   {
    "duration": 5,
    "start_time": "2021-12-18T04:22:21.187Z"
   },
   {
    "duration": 6,
    "start_time": "2021-12-18T04:22:23.521Z"
   },
   {
    "duration": 17,
    "start_time": "2021-12-18T04:40:06.961Z"
   },
   {
    "duration": 11,
    "start_time": "2021-12-18T04:40:31.297Z"
   },
   {
    "duration": 8,
    "start_time": "2021-12-18T04:41:22.615Z"
   },
   {
    "duration": 13,
    "start_time": "2021-12-18T04:41:30.536Z"
   },
   {
    "duration": 9,
    "start_time": "2021-12-18T04:42:24.837Z"
   },
   {
    "duration": 249,
    "start_time": "2021-12-18T04:42:44.491Z"
   },
   {
    "duration": 10,
    "start_time": "2021-12-18T04:42:56.248Z"
   },
   {
    "duration": 7,
    "start_time": "2021-12-18T04:43:44.149Z"
   },
   {
    "duration": 13,
    "start_time": "2021-12-18T04:43:54.309Z"
   },
   {
    "duration": 4915,
    "start_time": "2021-12-18T04:45:41.829Z"
   },
   {
    "duration": 10,
    "start_time": "2021-12-18T04:46:02.075Z"
   },
   {
    "duration": 7,
    "start_time": "2021-12-18T04:52:01.982Z"
   },
   {
    "duration": 9,
    "start_time": "2021-12-18T04:52:51.544Z"
   },
   {
    "duration": 463,
    "start_time": "2021-12-18T04:53:21.185Z"
   },
   {
    "duration": 200,
    "start_time": "2021-12-18T04:53:37.535Z"
   },
   {
    "duration": 8,
    "start_time": "2021-12-18T04:59:11.835Z"
   },
   {
    "duration": 10,
    "start_time": "2021-12-18T04:59:37.061Z"
   },
   {
    "duration": 4083,
    "start_time": "2021-12-18T05:02:33.365Z"
   },
   {
    "duration": 9,
    "start_time": "2021-12-18T05:02:52.912Z"
   },
   {
    "duration": 4898,
    "start_time": "2021-12-18T05:04:41.280Z"
   },
   {
    "duration": 4173,
    "start_time": "2021-12-18T05:04:56.778Z"
   },
   {
    "duration": 3976,
    "start_time": "2021-12-18T05:08:49.076Z"
   },
   {
    "duration": 4114,
    "start_time": "2021-12-18T05:09:01.724Z"
   },
   {
    "duration": 7,
    "start_time": "2021-12-18T05:09:28.670Z"
   },
   {
    "duration": 12,
    "start_time": "2021-12-18T05:12:46.572Z"
   },
   {
    "duration": 223,
    "start_time": "2021-12-18T05:13:26.207Z"
   },
   {
    "duration": 215,
    "start_time": "2021-12-18T05:13:33.324Z"
   },
   {
    "duration": 210,
    "start_time": "2021-12-18T05:13:54.059Z"
   },
   {
    "duration": 233,
    "start_time": "2021-12-18T05:14:01.573Z"
   },
   {
    "duration": 6,
    "start_time": "2021-12-18T05:14:26.694Z"
   },
   {
    "duration": 7,
    "start_time": "2021-12-18T05:14:51.379Z"
   },
   {
    "duration": 4961,
    "start_time": "2021-12-18T05:15:17.583Z"
   },
   {
    "duration": 5211,
    "start_time": "2021-12-18T05:15:45.721Z"
   },
   {
    "duration": 11,
    "start_time": "2021-12-18T05:16:01.654Z"
   },
   {
    "duration": 8,
    "start_time": "2021-12-18T05:16:10.424Z"
   },
   {
    "duration": 13,
    "start_time": "2021-12-18T05:16:39.661Z"
   },
   {
    "duration": 1351,
    "start_time": "2021-12-18T05:17:09.931Z"
   },
   {
    "duration": 8,
    "start_time": "2021-12-18T05:17:49.419Z"
   },
   {
    "duration": 11,
    "start_time": "2021-12-18T05:18:21.112Z"
   },
   {
    "duration": 9,
    "start_time": "2021-12-18T05:18:36.331Z"
   },
   {
    "duration": 73,
    "start_time": "2021-12-18T06:36:00.073Z"
   },
   {
    "duration": 215,
    "start_time": "2021-12-18T06:36:29.431Z"
   },
   {
    "duration": 210,
    "start_time": "2021-12-18T06:37:09.077Z"
   },
   {
    "duration": 70,
    "start_time": "2021-12-18T06:37:18.809Z"
   },
   {
    "duration": 28,
    "start_time": "2021-12-18T06:37:26.194Z"
   },
   {
    "duration": 51,
    "start_time": "2021-12-18T06:38:51.122Z"
   },
   {
    "duration": 55,
    "start_time": "2021-12-18T06:39:02.449Z"
   },
   {
    "duration": 92,
    "start_time": "2021-12-18T06:39:13.324Z"
   },
   {
    "duration": 37,
    "start_time": "2021-12-18T06:40:34.822Z"
   },
   {
    "duration": 6,
    "start_time": "2021-12-18T06:46:30.494Z"
   },
   {
    "duration": 258,
    "start_time": "2021-12-18T07:28:37.893Z"
   },
   {
    "duration": 254,
    "start_time": "2021-12-18T07:29:33.155Z"
   },
   {
    "duration": 191,
    "start_time": "2021-12-18T07:30:48.192Z"
   },
   {
    "duration": 108,
    "start_time": "2021-12-18T07:31:40.365Z"
   },
   {
    "duration": 181,
    "start_time": "2021-12-18T07:31:47.962Z"
   },
   {
    "duration": 208,
    "start_time": "2021-12-18T07:32:44.700Z"
   },
   {
    "duration": 249,
    "start_time": "2021-12-18T07:33:05.833Z"
   },
   {
    "duration": 216,
    "start_time": "2021-12-18T07:37:22.404Z"
   },
   {
    "duration": 203,
    "start_time": "2021-12-18T07:39:27.356Z"
   },
   {
    "duration": 203,
    "start_time": "2021-12-18T07:44:15.874Z"
   },
   {
    "duration": 176,
    "start_time": "2021-12-18T07:44:25.123Z"
   },
   {
    "duration": 190,
    "start_time": "2021-12-18T07:44:52.798Z"
   },
   {
    "duration": 14,
    "start_time": "2021-12-18T07:45:33.631Z"
   },
   {
    "duration": 12,
    "start_time": "2021-12-18T07:45:42.632Z"
   },
   {
    "duration": 13,
    "start_time": "2021-12-18T07:46:05.413Z"
   },
   {
    "duration": 215,
    "start_time": "2021-12-18T07:53:03.400Z"
   },
   {
    "duration": 244,
    "start_time": "2021-12-18T07:53:34.414Z"
   },
   {
    "duration": 21,
    "start_time": "2021-12-18T07:53:45.020Z"
   },
   {
    "duration": 219,
    "start_time": "2021-12-18T07:57:21.758Z"
   },
   {
    "duration": 1718,
    "start_time": "2021-12-18T07:59:27.050Z"
   },
   {
    "duration": 23,
    "start_time": "2021-12-18T07:59:28.770Z"
   },
   {
    "duration": 10,
    "start_time": "2021-12-18T07:59:28.795Z"
   },
   {
    "duration": 5,
    "start_time": "2021-12-18T07:59:28.807Z"
   },
   {
    "duration": 9,
    "start_time": "2021-12-18T07:59:28.814Z"
   },
   {
    "duration": 86,
    "start_time": "2021-12-18T07:59:28.825Z"
   },
   {
    "duration": 11,
    "start_time": "2021-12-18T07:59:28.912Z"
   },
   {
    "duration": 198,
    "start_time": "2021-12-18T07:59:28.925Z"
   },
   {
    "duration": 372,
    "start_time": "2021-12-18T08:01:44.017Z"
   },
   {
    "duration": 9,
    "start_time": "2021-12-18T08:08:35.388Z"
   },
   {
    "duration": 83,
    "start_time": "2021-12-18T08:08:36.365Z"
   },
   {
    "duration": 281,
    "start_time": "2021-12-18T08:08:49.540Z"
   },
   {
    "duration": 729,
    "start_time": "2021-12-18T08:09:37.119Z"
   },
   {
    "duration": 544,
    "start_time": "2021-12-18T08:10:26.964Z"
   },
   {
    "duration": 380,
    "start_time": "2021-12-18T08:10:39.961Z"
   },
   {
    "duration": 302,
    "start_time": "2021-12-18T08:10:56.004Z"
   },
   {
    "duration": 495,
    "start_time": "2021-12-18T08:16:01.148Z"
   },
   {
    "duration": 529,
    "start_time": "2021-12-18T08:19:18.999Z"
   },
   {
    "duration": 232,
    "start_time": "2021-12-18T08:22:44.353Z"
   },
   {
    "duration": 551,
    "start_time": "2021-12-18T08:23:28.931Z"
   },
   {
    "duration": 308,
    "start_time": "2021-12-18T08:23:37.438Z"
   },
   {
    "duration": 325,
    "start_time": "2021-12-18T08:25:23.391Z"
   },
   {
    "duration": 317,
    "start_time": "2021-12-18T08:28:57.564Z"
   },
   {
    "duration": 16,
    "start_time": "2021-12-18T08:39:13.049Z"
   },
   {
    "duration": 5154,
    "start_time": "2021-12-18T08:50:42.130Z"
   },
   {
    "duration": 8,
    "start_time": "2021-12-18T08:51:14.557Z"
   },
   {
    "duration": 9,
    "start_time": "2021-12-18T08:51:54.427Z"
   },
   {
    "duration": 8,
    "start_time": "2021-12-18T08:52:16.299Z"
   },
   {
    "duration": 9,
    "start_time": "2021-12-18T08:56:19.337Z"
   },
   {
    "duration": 13,
    "start_time": "2021-12-18T08:57:19.204Z"
   },
   {
    "duration": 242,
    "start_time": "2021-12-18T08:58:44.771Z"
   },
   {
    "duration": 6,
    "start_time": "2021-12-18T08:59:25.311Z"
   },
   {
    "duration": 7,
    "start_time": "2021-12-18T08:59:52.264Z"
   },
   {
    "duration": 10,
    "start_time": "2021-12-18T09:00:28.733Z"
   },
   {
    "duration": 15,
    "start_time": "2021-12-18T09:01:15.277Z"
   },
   {
    "duration": 15,
    "start_time": "2021-12-18T09:02:04.009Z"
   },
   {
    "duration": 11,
    "start_time": "2021-12-18T09:03:14.640Z"
   },
   {
    "duration": 13,
    "start_time": "2021-12-18T09:03:33.220Z"
   },
   {
    "duration": 21,
    "start_time": "2021-12-18T09:05:18.778Z"
   },
   {
    "duration": 22,
    "start_time": "2021-12-18T09:05:50.115Z"
   },
   {
    "duration": 197,
    "start_time": "2021-12-18T10:34:49.239Z"
   },
   {
    "duration": 2584,
    "start_time": "2021-12-18T10:34:54.884Z"
   },
   {
    "duration": 30,
    "start_time": "2021-12-18T10:34:57.471Z"
   },
   {
    "duration": 9,
    "start_time": "2021-12-18T10:34:57.506Z"
   },
   {
    "duration": 3,
    "start_time": "2021-12-18T10:34:57.517Z"
   },
   {
    "duration": 10,
    "start_time": "2021-12-18T10:34:57.522Z"
   },
   {
    "duration": 87,
    "start_time": "2021-12-18T10:34:57.533Z"
   },
   {
    "duration": 335,
    "start_time": "2021-12-18T10:34:57.623Z"
   },
   {
    "duration": 28,
    "start_time": "2021-12-18T10:34:57.960Z"
   },
   {
    "duration": 14,
    "start_time": "2021-12-18T10:34:57.990Z"
   },
   {
    "duration": 14,
    "start_time": "2021-12-18T10:34:58.006Z"
   },
   {
    "duration": 433,
    "start_time": "2021-12-18T10:34:58.022Z"
   },
   {
    "duration": 459,
    "start_time": "2021-12-18T10:35:50.810Z"
   },
   {
    "duration": 305,
    "start_time": "2021-12-18T10:36:18.018Z"
   },
   {
    "duration": 397,
    "start_time": "2021-12-18T10:39:09.343Z"
   },
   {
    "duration": 233,
    "start_time": "2021-12-18T10:40:09.220Z"
   },
   {
    "duration": 266,
    "start_time": "2021-12-18T10:40:23.980Z"
   },
   {
    "duration": 199,
    "start_time": "2021-12-18T10:45:11.614Z"
   },
   {
    "duration": 516,
    "start_time": "2021-12-18T10:46:24.100Z"
   },
   {
    "duration": 727,
    "start_time": "2021-12-18T10:46:51.304Z"
   },
   {
    "duration": 178,
    "start_time": "2021-12-18T10:47:16.387Z"
   },
   {
    "duration": 296,
    "start_time": "2021-12-18T10:59:07.103Z"
   },
   {
    "duration": 214,
    "start_time": "2021-12-18T11:07:49.332Z"
   },
   {
    "duration": 10,
    "start_time": "2021-12-18T11:10:39.370Z"
   },
   {
    "duration": 5438,
    "start_time": "2021-12-18T11:12:59.294Z"
   },
   {
    "duration": 12,
    "start_time": "2021-12-18T11:16:47.393Z"
   },
   {
    "duration": 13,
    "start_time": "2021-12-18T11:17:14.928Z"
   },
   {
    "duration": 13,
    "start_time": "2021-12-18T11:17:38.649Z"
   },
   {
    "duration": 669,
    "start_time": "2021-12-18T11:23:34.464Z"
   },
   {
    "duration": 471,
    "start_time": "2021-12-18T11:23:43.347Z"
   },
   {
    "duration": 1794,
    "start_time": "2021-12-18T11:23:50.211Z"
   },
   {
    "duration": 14,
    "start_time": "2021-12-18T11:23:52.007Z"
   },
   {
    "duration": 5,
    "start_time": "2021-12-18T11:23:52.023Z"
   },
   {
    "duration": 4,
    "start_time": "2021-12-18T11:23:52.031Z"
   },
   {
    "duration": 9,
    "start_time": "2021-12-18T11:23:52.036Z"
   },
   {
    "duration": 95,
    "start_time": "2021-12-18T11:23:52.046Z"
   },
   {
    "duration": 385,
    "start_time": "2021-12-18T11:23:52.143Z"
   },
   {
    "duration": 14,
    "start_time": "2021-12-18T11:23:52.530Z"
   },
   {
    "duration": 12,
    "start_time": "2021-12-18T11:23:52.546Z"
   },
   {
    "duration": 760,
    "start_time": "2021-12-18T11:23:52.588Z"
   },
   {
    "duration": 304,
    "start_time": "2021-12-18T11:23:53.046Z"
   },
   {
    "duration": 304,
    "start_time": "2021-12-18T11:23:53.047Z"
   },
   {
    "duration": 300,
    "start_time": "2021-12-18T11:23:53.052Z"
   },
   {
    "duration": 300,
    "start_time": "2021-12-18T11:23:53.053Z"
   },
   {
    "duration": 296,
    "start_time": "2021-12-18T11:23:53.058Z"
   },
   {
    "duration": 295,
    "start_time": "2021-12-18T11:23:53.060Z"
   },
   {
    "duration": 211,
    "start_time": "2021-12-18T11:30:53.220Z"
   },
   {
    "duration": 190,
    "start_time": "2021-12-18T11:31:13.852Z"
   },
   {
    "duration": 243,
    "start_time": "2021-12-18T11:31:34.631Z"
   },
   {
    "duration": 175,
    "start_time": "2021-12-18T11:32:20.119Z"
   },
   {
    "duration": 178,
    "start_time": "2021-12-18T11:32:43.078Z"
   },
   {
    "duration": 351,
    "start_time": "2021-12-18T11:32:59.556Z"
   },
   {
    "duration": 172,
    "start_time": "2021-12-18T11:33:25.460Z"
   },
   {
    "duration": 197,
    "start_time": "2021-12-18T11:33:49.491Z"
   },
   {
    "duration": 186,
    "start_time": "2021-12-18T11:35:55.091Z"
   },
   {
    "duration": 195,
    "start_time": "2021-12-18T11:36:38.672Z"
   },
   {
    "duration": 210,
    "start_time": "2021-12-18T11:38:44.786Z"
   },
   {
    "duration": 290,
    "start_time": "2021-12-18T11:39:06.824Z"
   },
   {
    "duration": 332,
    "start_time": "2021-12-18T11:40:17.642Z"
   },
   {
    "duration": 292,
    "start_time": "2021-12-18T11:42:34.629Z"
   },
   {
    "duration": 250,
    "start_time": "2021-12-18T11:43:02.439Z"
   },
   {
    "duration": 12,
    "start_time": "2021-12-18T11:44:03.893Z"
   },
   {
    "duration": 12,
    "start_time": "2021-12-18T11:44:28.380Z"
   },
   {
    "duration": 283,
    "start_time": "2021-12-18T11:45:34.796Z"
   },
   {
    "duration": 258,
    "start_time": "2021-12-18T11:46:31.046Z"
   },
   {
    "duration": 85,
    "start_time": "2021-12-18T11:52:04.707Z"
   },
   {
    "duration": 89,
    "start_time": "2021-12-18T11:57:30.525Z"
   },
   {
    "duration": 349,
    "start_time": "2021-12-18T13:47:25.961Z"
   },
   {
    "duration": 323,
    "start_time": "2021-12-18T13:47:28.485Z"
   },
   {
    "duration": 356,
    "start_time": "2021-12-18T13:47:29.839Z"
   },
   {
    "duration": 359,
    "start_time": "2021-12-18T13:47:51.686Z"
   },
   {
    "duration": 356,
    "start_time": "2021-12-18T13:48:47.525Z"
   },
   {
    "duration": 318,
    "start_time": "2021-12-18T14:27:37.274Z"
   },
   {
    "duration": 211,
    "start_time": "2021-12-18T14:31:03.928Z"
   },
   {
    "duration": 239,
    "start_time": "2021-12-18T14:31:35.657Z"
   },
   {
    "duration": 245,
    "start_time": "2021-12-18T14:37:49.901Z"
   },
   {
    "duration": 302,
    "start_time": "2021-12-18T14:38:11.715Z"
   },
   {
    "duration": 311,
    "start_time": "2021-12-18T14:39:57.685Z"
   },
   {
    "duration": 395,
    "start_time": "2021-12-18T14:40:10.451Z"
   },
   {
    "duration": 7,
    "start_time": "2021-12-18T15:16:06.800Z"
   },
   {
    "duration": 227,
    "start_time": "2021-12-18T15:18:59.026Z"
   },
   {
    "duration": 359,
    "start_time": "2021-12-19T00:14:48.690Z"
   },
   {
    "duration": 2819,
    "start_time": "2021-12-19T00:14:56.315Z"
   },
   {
    "duration": 24,
    "start_time": "2021-12-19T00:14:59.137Z"
   },
   {
    "duration": 12,
    "start_time": "2021-12-19T00:14:59.164Z"
   },
   {
    "duration": 7,
    "start_time": "2021-12-19T00:14:59.179Z"
   },
   {
    "duration": 38,
    "start_time": "2021-12-19T00:14:59.189Z"
   },
   {
    "duration": 75,
    "start_time": "2021-12-19T00:14:59.230Z"
   },
   {
    "duration": 559,
    "start_time": "2021-12-19T00:14:59.307Z"
   },
   {
    "duration": 19,
    "start_time": "2021-12-19T00:14:59.870Z"
   },
   {
    "duration": 483,
    "start_time": "2021-12-19T00:14:59.892Z"
   },
   {
    "duration": 24,
    "start_time": "2021-12-19T00:15:00.377Z"
   },
   {
    "duration": 705,
    "start_time": "2021-12-19T00:15:00.424Z"
   },
   {
    "duration": 564,
    "start_time": "2021-12-19T00:15:00.568Z"
   },
   {
    "duration": 562,
    "start_time": "2021-12-19T00:15:00.571Z"
   },
   {
    "duration": 313,
    "start_time": "2021-12-19T00:15:31.299Z"
   },
   {
    "duration": 24,
    "start_time": "2021-12-19T00:15:47.273Z"
   },
   {
    "duration": 321,
    "start_time": "2021-12-19T00:29:23.839Z"
   },
   {
    "duration": 515,
    "start_time": "2021-12-19T00:38:21.420Z"
   },
   {
    "duration": 2336,
    "start_time": "2021-12-19T00:38:27.188Z"
   },
   {
    "duration": 24,
    "start_time": "2021-12-19T00:38:29.527Z"
   },
   {
    "duration": 12,
    "start_time": "2021-12-19T00:38:29.554Z"
   },
   {
    "duration": 6,
    "start_time": "2021-12-19T00:38:29.569Z"
   },
   {
    "duration": 10,
    "start_time": "2021-12-19T00:38:29.577Z"
   },
   {
    "duration": 72,
    "start_time": "2021-12-19T00:38:29.623Z"
   },
   {
    "duration": 567,
    "start_time": "2021-12-19T00:38:29.698Z"
   },
   {
    "duration": 21,
    "start_time": "2021-12-19T00:38:30.268Z"
   },
   {
    "duration": 470,
    "start_time": "2021-12-19T00:38:30.293Z"
   },
   {
    "duration": 24,
    "start_time": "2021-12-19T00:38:30.765Z"
   },
   {
    "duration": 352,
    "start_time": "2021-12-19T00:53:45.236Z"
   },
   {
    "duration": 2222,
    "start_time": "2021-12-19T00:53:52.776Z"
   },
   {
    "duration": 37,
    "start_time": "2021-12-19T00:53:55.001Z"
   },
   {
    "duration": 14,
    "start_time": "2021-12-19T00:53:55.042Z"
   },
   {
    "duration": 6,
    "start_time": "2021-12-19T00:53:55.059Z"
   },
   {
    "duration": 11,
    "start_time": "2021-12-19T00:53:55.069Z"
   },
   {
    "duration": 107,
    "start_time": "2021-12-19T00:53:55.083Z"
   },
   {
    "duration": 544,
    "start_time": "2021-12-19T00:53:55.193Z"
   },
   {
    "duration": 20,
    "start_time": "2021-12-19T00:53:55.741Z"
   },
   {
    "duration": 463,
    "start_time": "2021-12-19T00:53:55.763Z"
   },
   {
    "duration": 25,
    "start_time": "2021-12-19T00:53:56.228Z"
   },
   {
    "duration": 180,
    "start_time": "2021-12-19T00:53:56.256Z"
   },
   {
    "duration": 432,
    "start_time": "2021-12-19T00:53:56.438Z"
   },
   {
    "duration": 532,
    "start_time": "2021-12-19T00:53:56.340Z"
   },
   {
    "duration": 532,
    "start_time": "2021-12-19T00:53:56.342Z"
   },
   {
    "duration": 314,
    "start_time": "2021-12-19T00:55:49.572Z"
   },
   {
    "duration": 317,
    "start_time": "2021-12-19T00:56:08.885Z"
   },
   {
    "duration": 170,
    "start_time": "2021-12-19T00:56:42.102Z"
   },
   {
    "duration": 290,
    "start_time": "2021-12-19T00:57:02.036Z"
   },
   {
    "duration": 155,
    "start_time": "2021-12-19T00:57:11.085Z"
   },
   {
    "duration": 132,
    "start_time": "2021-12-19T01:13:25.952Z"
   },
   {
    "duration": 156,
    "start_time": "2021-12-19T01:13:27.511Z"
   },
   {
    "duration": 142,
    "start_time": "2021-12-19T01:13:28.305Z"
   },
   {
    "duration": 150,
    "start_time": "2021-12-19T01:23:40.743Z"
   },
   {
    "duration": 227,
    "start_time": "2021-12-19T01:25:04.536Z"
   },
   {
    "duration": 253,
    "start_time": "2021-12-19T01:25:24.868Z"
   },
   {
    "duration": 192,
    "start_time": "2021-12-19T01:26:03.239Z"
   },
   {
    "duration": 199,
    "start_time": "2021-12-19T01:28:24.163Z"
   },
   {
    "duration": 196,
    "start_time": "2021-12-19T01:29:19.658Z"
   },
   {
    "duration": 179,
    "start_time": "2021-12-19T01:29:20.569Z"
   },
   {
    "duration": 181,
    "start_time": "2021-12-19T01:29:38.467Z"
   },
   {
    "duration": 219,
    "start_time": "2021-12-19T01:32:33.621Z"
   },
   {
    "duration": 216,
    "start_time": "2021-12-19T01:32:35.798Z"
   },
   {
    "duration": 196,
    "start_time": "2021-12-19T01:32:36.465Z"
   },
   {
    "duration": 213,
    "start_time": "2021-12-19T01:34:27.303Z"
   },
   {
    "duration": 344,
    "start_time": "2021-12-19T01:34:29.300Z"
   },
   {
    "duration": 397,
    "start_time": "2021-12-19T01:35:06.042Z"
   },
   {
    "duration": 638,
    "start_time": "2021-12-19T01:35:20.900Z"
   },
   {
    "duration": 645,
    "start_time": "2021-12-19T01:36:53.880Z"
   },
   {
    "duration": 231,
    "start_time": "2021-12-19T01:37:07.271Z"
   },
   {
    "duration": 661,
    "start_time": "2021-12-19T01:39:57.948Z"
   },
   {
    "duration": 227,
    "start_time": "2021-12-19T01:39:59.752Z"
   },
   {
    "duration": 615,
    "start_time": "2021-12-19T01:41:41.217Z"
   },
   {
    "duration": 657,
    "start_time": "2021-12-19T01:41:41.834Z"
   },
   {
    "duration": 628,
    "start_time": "2021-12-19T01:41:42.495Z"
   },
   {
    "duration": 357,
    "start_time": "2021-12-19T01:43:14.159Z"
   },
   {
    "duration": 239,
    "start_time": "2021-12-19T01:43:14.624Z"
   },
   {
    "duration": 11,
    "start_time": "2021-12-19T02:01:42.741Z"
   },
   {
    "duration": 904,
    "start_time": "2021-12-19T03:12:13.949Z"
   },
   {
    "duration": 196,
    "start_time": "2021-12-19T03:12:14.660Z"
   },
   {
    "duration": 330,
    "start_time": "2021-12-19T03:12:30.233Z"
   },
   {
    "duration": 301,
    "start_time": "2021-12-19T03:13:57.621Z"
   },
   {
    "duration": 311,
    "start_time": "2021-12-19T03:14:06.433Z"
   },
   {
    "duration": 405,
    "start_time": "2021-12-19T03:24:21.316Z"
   },
   {
    "duration": 308,
    "start_time": "2021-12-19T03:24:55.950Z"
   },
   {
    "duration": 12,
    "start_time": "2021-12-19T03:25:11.533Z"
   },
   {
    "duration": 14841,
    "start_time": "2021-12-19T05:35:17.588Z"
   },
   {
    "duration": 18,
    "start_time": "2021-12-19T05:36:00.254Z"
   },
   {
    "duration": 605,
    "start_time": "2021-12-19T05:37:53.423Z"
   },
   {
    "duration": 626,
    "start_time": "2021-12-19T05:38:07.287Z"
   },
   {
    "duration": 10,
    "start_time": "2021-12-19T05:44:13.518Z"
   },
   {
    "duration": 15,
    "start_time": "2021-12-19T05:44:13.839Z"
   },
   {
    "duration": 535,
    "start_time": "2021-12-19T05:44:14.607Z"
   },
   {
    "duration": 553,
    "start_time": "2021-12-19T05:44:15.144Z"
   },
   {
    "duration": 556,
    "start_time": "2021-12-19T05:44:15.700Z"
   },
   {
    "duration": 209,
    "start_time": "2021-12-19T05:44:19.551Z"
   },
   {
    "duration": 211,
    "start_time": "2021-12-19T05:44:20.407Z"
   },
   {
    "duration": 196,
    "start_time": "2021-12-19T05:44:20.870Z"
   },
   {
    "duration": 8,
    "start_time": "2021-12-19T06:35:23.089Z"
   },
   {
    "duration": 46,
    "start_time": "2021-12-19T06:48:59.995Z"
   },
   {
    "duration": 62,
    "start_time": "2021-12-19T06:49:19.120Z"
   },
   {
    "duration": 35,
    "start_time": "2021-12-19T06:50:26.863Z"
   },
   {
    "duration": 36,
    "start_time": "2021-12-19T06:52:00.669Z"
   },
   {
    "duration": 584,
    "start_time": "2021-12-19T07:26:30.793Z"
   },
   {
    "duration": 264,
    "start_time": "2021-12-19T07:31:10.647Z"
   },
   {
    "duration": 106,
    "start_time": "2021-12-19T07:31:18.197Z"
   },
   {
    "duration": 8052,
    "start_time": "2021-12-19T07:59:10.520Z"
   },
   {
    "duration": 74,
    "start_time": "2021-12-19T08:05:47.887Z"
   },
   {
    "duration": 63,
    "start_time": "2021-12-19T08:08:03.424Z"
   },
   {
    "duration": 603,
    "start_time": "2021-12-19T08:12:11.243Z"
   },
   {
    "duration": 591,
    "start_time": "2021-12-19T08:13:08.941Z"
   },
   {
    "duration": 587,
    "start_time": "2021-12-19T08:14:35.600Z"
   },
   {
    "duration": 596,
    "start_time": "2021-12-19T08:22:01.833Z"
   },
   {
    "duration": 566,
    "start_time": "2021-12-19T08:23:02.978Z"
   },
   {
    "duration": 16,
    "start_time": "2021-12-19T08:24:15.112Z"
   },
   {
    "duration": 2374,
    "start_time": "2021-12-19T08:30:52.177Z"
   },
   {
    "duration": 34,
    "start_time": "2021-12-19T08:30:54.553Z"
   },
   {
    "duration": 12,
    "start_time": "2021-12-19T08:30:54.589Z"
   },
   {
    "duration": 19,
    "start_time": "2021-12-19T08:30:54.604Z"
   },
   {
    "duration": 28,
    "start_time": "2021-12-19T08:30:54.626Z"
   },
   {
    "duration": 83,
    "start_time": "2021-12-19T08:30:54.656Z"
   },
   {
    "duration": 566,
    "start_time": "2021-12-19T08:30:54.742Z"
   },
   {
    "duration": 26,
    "start_time": "2021-12-19T08:30:55.311Z"
   },
   {
    "duration": 460,
    "start_time": "2021-12-19T08:30:55.341Z"
   },
   {
    "duration": 33,
    "start_time": "2021-12-19T08:30:55.803Z"
   },
   {
    "duration": 8,
    "start_time": "2021-12-19T08:30:55.839Z"
   },
   {
    "duration": 8,
    "start_time": "2021-12-19T08:30:55.849Z"
   },
   {
    "duration": 452,
    "start_time": "2021-12-19T08:30:55.859Z"
   },
   {
    "duration": -90,
    "start_time": "2021-12-19T08:30:56.403Z"
   },
   {
    "duration": -102,
    "start_time": "2021-12-19T08:30:56.417Z"
   },
   {
    "duration": -116,
    "start_time": "2021-12-19T08:30:56.432Z"
   },
   {
    "duration": -158,
    "start_time": "2021-12-19T08:30:56.475Z"
   },
   {
    "duration": -157,
    "start_time": "2021-12-19T08:30:56.476Z"
   },
   {
    "duration": -157,
    "start_time": "2021-12-19T08:30:56.477Z"
   },
   {
    "duration": -161,
    "start_time": "2021-12-19T08:30:56.483Z"
   },
   {
    "duration": -167,
    "start_time": "2021-12-19T08:30:56.490Z"
   },
   {
    "duration": -174,
    "start_time": "2021-12-19T08:30:56.499Z"
   },
   {
    "duration": -180,
    "start_time": "2021-12-19T08:30:56.506Z"
   },
   {
    "duration": -192,
    "start_time": "2021-12-19T08:30:56.520Z"
   },
   {
    "duration": 8677,
    "start_time": "2021-12-19T08:32:07.845Z"
   },
   {
    "duration": 2312,
    "start_time": "2021-12-19T08:32:45.690Z"
   },
   {
    "duration": 55,
    "start_time": "2021-12-19T08:32:48.011Z"
   },
   {
    "duration": 16,
    "start_time": "2021-12-19T08:32:48.074Z"
   },
   {
    "duration": -122,
    "start_time": "2021-12-19T08:32:56.864Z"
   },
   {
    "duration": -124,
    "start_time": "2021-12-19T08:32:56.867Z"
   },
   {
    "duration": -145,
    "start_time": "2021-12-19T08:32:56.890Z"
   },
   {
    "duration": -146,
    "start_time": "2021-12-19T08:32:56.892Z"
   },
   {
    "duration": -146,
    "start_time": "2021-12-19T08:32:56.893Z"
   },
   {
    "duration": -149,
    "start_time": "2021-12-19T08:32:56.898Z"
   },
   {
    "duration": -152,
    "start_time": "2021-12-19T08:32:56.902Z"
   },
   {
    "duration": -157,
    "start_time": "2021-12-19T08:32:56.908Z"
   },
   {
    "duration": -162,
    "start_time": "2021-12-19T08:32:56.915Z"
   },
   {
    "duration": -169,
    "start_time": "2021-12-19T08:32:56.923Z"
   },
   {
    "duration": -175,
    "start_time": "2021-12-19T08:32:56.930Z"
   },
   {
    "duration": -181,
    "start_time": "2021-12-19T08:32:56.937Z"
   },
   {
    "duration": -186,
    "start_time": "2021-12-19T08:32:56.944Z"
   },
   {
    "duration": -196,
    "start_time": "2021-12-19T08:32:56.956Z"
   },
   {
    "duration": -200,
    "start_time": "2021-12-19T08:32:56.961Z"
   },
   {
    "duration": -206,
    "start_time": "2021-12-19T08:32:56.968Z"
   },
   {
    "duration": -148,
    "start_time": "2021-12-19T08:32:56.971Z"
   },
   {
    "duration": -152,
    "start_time": "2021-12-19T08:32:56.976Z"
   },
   {
    "duration": -159,
    "start_time": "2021-12-19T08:32:56.985Z"
   },
   {
    "duration": -162,
    "start_time": "2021-12-19T08:32:56.989Z"
   },
   {
    "duration": -167,
    "start_time": "2021-12-19T08:32:56.995Z"
   },
   {
    "duration": -167,
    "start_time": "2021-12-19T08:32:56.996Z"
   },
   {
    "duration": -167,
    "start_time": "2021-12-19T08:32:56.998Z"
   },
   {
    "duration": -170,
    "start_time": "2021-12-19T08:32:57.002Z"
   },
   {
    "duration": 821,
    "start_time": "2021-12-19T08:33:02.109Z"
   },
   {
    "duration": 38,
    "start_time": "2021-12-19T08:33:02.975Z"
   },
   {
    "duration": 9,
    "start_time": "2021-12-19T08:33:03.492Z"
   },
   {
    "duration": 7,
    "start_time": "2021-12-19T08:33:03.654Z"
   },
   {
    "duration": 8,
    "start_time": "2021-12-19T08:33:04.315Z"
   },
   {
    "duration": 2399,
    "start_time": "2021-12-19T08:33:14.813Z"
   },
   {
    "duration": 40,
    "start_time": "2021-12-19T08:33:17.215Z"
   },
   {
    "duration": 13,
    "start_time": "2021-12-19T08:33:17.259Z"
   },
   {
    "duration": 6,
    "start_time": "2021-12-19T08:33:17.275Z"
   },
   {
    "duration": 42,
    "start_time": "2021-12-19T08:33:17.283Z"
   },
   {
    "duration": 75,
    "start_time": "2021-12-19T08:33:17.327Z"
   },
   {
    "duration": 704,
    "start_time": "2021-12-19T08:33:17.404Z"
   },
   {
    "duration": 27,
    "start_time": "2021-12-19T08:33:18.114Z"
   },
   {
    "duration": 482,
    "start_time": "2021-12-19T08:33:18.144Z"
   },
   {
    "duration": 24,
    "start_time": "2021-12-19T08:33:18.629Z"
   },
   {
    "duration": 8,
    "start_time": "2021-12-19T08:33:18.656Z"
   },
   {
    "duration": 11,
    "start_time": "2021-12-19T08:33:18.666Z"
   },
   {
    "duration": 472,
    "start_time": "2021-12-19T08:33:18.680Z"
   },
   {
    "duration": -33,
    "start_time": "2021-12-19T08:33:19.188Z"
   },
   {
    "duration": -39,
    "start_time": "2021-12-19T08:33:19.195Z"
   },
   {
    "duration": -40,
    "start_time": "2021-12-19T08:33:19.198Z"
   },
   {
    "duration": -43,
    "start_time": "2021-12-19T08:33:19.202Z"
   },
   {
    "duration": -48,
    "start_time": "2021-12-19T08:33:19.209Z"
   },
   {
    "duration": -50,
    "start_time": "2021-12-19T08:33:19.212Z"
   },
   {
    "duration": -57,
    "start_time": "2021-12-19T08:33:19.220Z"
   },
   {
    "duration": -61,
    "start_time": "2021-12-19T08:33:19.226Z"
   },
   {
    "duration": -67,
    "start_time": "2021-12-19T08:33:19.233Z"
   },
   {
    "duration": -69,
    "start_time": "2021-12-19T08:33:19.237Z"
   },
   {
    "duration": -74,
    "start_time": "2021-12-19T08:33:19.244Z"
   },
   {
    "duration": 317,
    "start_time": "2021-12-19T08:39:44.214Z"
   },
   {
    "duration": 338,
    "start_time": "2021-12-19T08:39:46.145Z"
   },
   {
    "duration": 6,
    "start_time": "2021-12-19T08:39:46.777Z"
   },
   {
    "duration": 335,
    "start_time": "2021-12-19T08:39:47.265Z"
   },
   {
    "duration": 323,
    "start_time": "2021-12-19T08:40:45.032Z"
   },
   {
    "duration": 5240,
    "start_time": "2021-12-19T08:42:14.765Z"
   },
   {
    "duration": 5525,
    "start_time": "2021-12-19T08:42:41.501Z"
   },
   {
    "duration": 5287,
    "start_time": "2021-12-19T08:43:57.702Z"
   },
   {
    "duration": 4,
    "start_time": "2021-12-19T08:52:50.968Z"
   },
   {
    "duration": 566,
    "start_time": "2021-12-19T08:53:47.662Z"
   },
   {
    "duration": 592,
    "start_time": "2021-12-19T08:53:48.502Z"
   },
   {
    "duration": 657,
    "start_time": "2021-12-19T08:53:49.471Z"
   },
   {
    "duration": 422,
    "start_time": "2021-12-19T08:56:07.693Z"
   },
   {
    "duration": 401,
    "start_time": "2021-12-19T08:56:21.541Z"
   },
   {
    "duration": 408,
    "start_time": "2021-12-19T08:56:29.467Z"
   },
   {
    "duration": 570,
    "start_time": "2021-12-19T09:52:46.039Z"
   },
   {
    "duration": 584,
    "start_time": "2021-12-19T09:53:08.130Z"
   },
   {
    "duration": 375,
    "start_time": "2021-12-19T09:56:37.402Z"
   },
   {
    "duration": 540,
    "start_time": "2021-12-19T10:00:54.470Z"
   },
   {
    "duration": 136,
    "start_time": "2021-12-19T10:01:17.959Z"
   },
   {
    "duration": 114,
    "start_time": "2021-12-19T10:02:06.301Z"
   },
   {
    "duration": 140,
    "start_time": "2021-12-19T10:03:31.374Z"
   },
   {
    "duration": 52,
    "start_time": "2021-12-19T10:05:07.747Z"
   },
   {
    "duration": 485,
    "start_time": "2021-12-19T10:05:55.817Z"
   },
   {
    "duration": 66,
    "start_time": "2021-12-19T10:12:05.718Z"
   },
   {
    "duration": 14,
    "start_time": "2021-12-19T10:23:04.870Z"
   },
   {
    "duration": 123,
    "start_time": "2021-12-19T10:23:15.565Z"
   },
   {
    "duration": 5137,
    "start_time": "2021-12-19T10:24:57.525Z"
   },
   {
    "duration": 613,
    "start_time": "2021-12-19T10:26:07.628Z"
   },
   {
    "duration": 44,
    "start_time": "2021-12-19T10:26:14.960Z"
   },
   {
    "duration": 10,
    "start_time": "2021-12-19T10:26:15.545Z"
   },
   {
    "duration": 277,
    "start_time": "2021-12-19T10:29:14.187Z"
   },
   {
    "duration": 232,
    "start_time": "2021-12-19T10:29:14.617Z"
   },
   {
    "duration": 209,
    "start_time": "2021-12-19T10:29:15.102Z"
   },
   {
    "duration": 4924,
    "start_time": "2021-12-19T12:21:09.748Z"
   },
   {
    "duration": 94,
    "start_time": "2021-12-19T12:21:14.674Z"
   },
   {
    "duration": 13,
    "start_time": "2021-12-19T12:22:24.430Z"
   },
   {
    "duration": 8,
    "start_time": "2021-12-19T12:22:25.175Z"
   },
   {
    "duration": 104,
    "start_time": "2021-12-19T12:24:56.268Z"
   },
   {
    "duration": 703,
    "start_time": "2021-12-19T12:25:31.269Z"
   },
   {
    "duration": 3699,
    "start_time": "2021-12-19T12:25:53.467Z"
   },
   {
    "duration": 203,
    "start_time": "2021-12-19T12:26:38.768Z"
   },
   {
    "duration": 3212,
    "start_time": "2021-12-19T12:26:45.068Z"
   },
   {
    "duration": 85,
    "start_time": "2021-12-19T12:27:16.283Z"
   },
   {
    "duration": 3298,
    "start_time": "2021-12-19T12:27:17.468Z"
   },
   {
    "duration": 3502,
    "start_time": "2021-12-19T12:27:20.770Z"
   },
   {
    "duration": 3794,
    "start_time": "2021-12-19T12:27:24.282Z"
   },
   {
    "duration": 499,
    "start_time": "2021-12-19T12:27:28.082Z"
   },
   {
    "duration": 99,
    "start_time": "2021-12-19T12:27:29.468Z"
   },
   {
    "duration": 1891,
    "start_time": "2021-12-19T12:27:30.080Z"
   },
   {
    "duration": 2292,
    "start_time": "2021-12-19T12:27:31.979Z"
   },
   {
    "duration": 1797,
    "start_time": "2021-12-19T12:27:34.274Z"
   },
   {
    "duration": 396,
    "start_time": "2021-12-20T08:40:11.765Z"
   },
   {
    "duration": 2522,
    "start_time": "2021-12-20T08:40:19.139Z"
   },
   {
    "duration": 37,
    "start_time": "2021-12-20T08:40:21.663Z"
   },
   {
    "duration": 62,
    "start_time": "2021-12-20T08:40:21.703Z"
   },
   {
    "duration": 6,
    "start_time": "2021-12-20T08:40:21.768Z"
   },
   {
    "duration": 790,
    "start_time": "2021-12-20T08:40:21.776Z"
   },
   {
    "duration": -358,
    "start_time": "2021-12-20T08:40:22.927Z"
   },
   {
    "duration": -362,
    "start_time": "2021-12-20T08:40:22.932Z"
   },
   {
    "duration": -364,
    "start_time": "2021-12-20T08:40:22.936Z"
   },
   {
    "duration": -369,
    "start_time": "2021-12-20T08:40:22.943Z"
   },
   {
    "duration": -369,
    "start_time": "2021-12-20T08:40:22.944Z"
   },
   {
    "duration": -369,
    "start_time": "2021-12-20T08:40:22.946Z"
   },
   {
    "duration": -371,
    "start_time": "2021-12-20T08:40:22.949Z"
   },
   {
    "duration": -371,
    "start_time": "2021-12-20T08:40:22.950Z"
   },
   {
    "duration": -370,
    "start_time": "2021-12-20T08:40:22.951Z"
   },
   {
    "duration": -374,
    "start_time": "2021-12-20T08:40:22.956Z"
   },
   {
    "duration": -374,
    "start_time": "2021-12-20T08:40:22.958Z"
   },
   {
    "duration": -374,
    "start_time": "2021-12-20T08:40:22.959Z"
   },
   {
    "duration": -375,
    "start_time": "2021-12-20T08:40:22.961Z"
   },
   {
    "duration": -375,
    "start_time": "2021-12-20T08:40:22.963Z"
   },
   {
    "duration": 7,
    "start_time": "2021-12-20T08:40:44.290Z"
   },
   {
    "duration": 10,
    "start_time": "2021-12-20T08:40:51.410Z"
   },
   {
    "duration": 11,
    "start_time": "2021-12-20T08:43:07.732Z"
   },
   {
    "duration": 2206,
    "start_time": "2021-12-20T08:43:44.775Z"
   },
   {
    "duration": 42,
    "start_time": "2021-12-20T08:43:46.983Z"
   },
   {
    "duration": 4,
    "start_time": "2021-12-20T08:43:47.030Z"
   },
   {
    "duration": 12,
    "start_time": "2021-12-20T08:43:47.036Z"
   },
   {
    "duration": 20,
    "start_time": "2021-12-20T08:43:47.050Z"
   },
   {
    "duration": 8,
    "start_time": "2021-12-20T08:43:47.073Z"
   },
   {
    "duration": 39,
    "start_time": "2021-12-20T08:43:47.085Z"
   },
   {
    "duration": 75,
    "start_time": "2021-12-20T08:43:47.127Z"
   },
   {
    "duration": 568,
    "start_time": "2021-12-20T08:43:47.204Z"
   },
   {
    "duration": 18,
    "start_time": "2021-12-20T08:43:47.774Z"
   },
   {
    "duration": 563,
    "start_time": "2021-12-20T08:43:47.794Z"
   },
   {
    "duration": 4,
    "start_time": "2021-12-20T08:43:48.359Z"
   },
   {
    "duration": 437,
    "start_time": "2021-12-20T08:43:48.365Z"
   },
   {
    "duration": 427,
    "start_time": "2021-12-20T08:43:48.805Z"
   },
   {
    "duration": 419,
    "start_time": "2021-12-20T08:43:49.235Z"
   },
   {
    "duration": 42,
    "start_time": "2021-12-20T08:43:49.656Z"
   },
   {
    "duration": 23,
    "start_time": "2021-12-20T08:43:49.700Z"
   },
   {
    "duration": 225,
    "start_time": "2021-12-20T08:43:49.725Z"
   },
   {
    "duration": 284,
    "start_time": "2021-12-20T08:43:49.952Z"
   },
   {
    "duration": 213,
    "start_time": "2021-12-20T08:43:50.239Z"
   },
   {
    "duration": 198,
    "start_time": "2021-12-20T09:00:09.908Z"
   },
   {
    "duration": 15,
    "start_time": "2021-12-20T09:00:23.235Z"
   },
   {
    "duration": 254,
    "start_time": "2021-12-20T09:15:33.653Z"
   },
   {
    "duration": 12,
    "start_time": "2021-12-20T09:15:42.164Z"
   },
   {
    "duration": 105,
    "start_time": "2021-12-20T09:19:04.633Z"
   },
   {
    "duration": 12,
    "start_time": "2021-12-20T09:19:13.504Z"
   },
   {
    "duration": 7,
    "start_time": "2021-12-20T09:22:57.354Z"
   },
   {
    "duration": 6,
    "start_time": "2021-12-20T09:22:57.682Z"
   },
   {
    "duration": 78,
    "start_time": "2021-12-20T09:31:39.023Z"
   },
   {
    "duration": 16,
    "start_time": "2021-12-20T09:38:00.455Z"
   },
   {
    "duration": 31,
    "start_time": "2021-12-20T09:38:24.485Z"
   },
   {
    "duration": 601,
    "start_time": "2021-12-20T09:48:05.159Z"
   },
   {
    "duration": 41,
    "start_time": "2021-12-20T09:48:30.952Z"
   },
   {
    "duration": 61,
    "start_time": "2021-12-20T09:49:03.320Z"
   },
   {
    "duration": 93,
    "start_time": "2021-12-20T09:49:21.456Z"
   },
   {
    "duration": 8884,
    "start_time": "2021-12-20T09:55:28.725Z"
   },
   {
    "duration": 4,
    "start_time": "2021-12-20T09:55:46.375Z"
   },
   {
    "duration": 22,
    "start_time": "2021-12-20T09:55:52.694Z"
   },
   {
    "duration": 8491,
    "start_time": "2021-12-20T09:56:53.725Z"
   },
   {
    "duration": 43,
    "start_time": "2021-12-20T09:58:06.892Z"
   },
   {
    "duration": 135,
    "start_time": "2021-12-20T09:58:36.123Z"
   },
   {
    "duration": 112,
    "start_time": "2021-12-20T09:58:49.247Z"
   },
   {
    "duration": 8016,
    "start_time": "2021-12-20T10:01:00.673Z"
   },
   {
    "duration": 22,
    "start_time": "2021-12-20T10:01:13.267Z"
   },
   {
    "duration": 25,
    "start_time": "2021-12-20T10:50:04.111Z"
   },
   {
    "duration": 326,
    "start_time": "2021-12-20T10:51:11.576Z"
   },
   {
    "duration": 22,
    "start_time": "2021-12-20T10:53:24.405Z"
   },
   {
    "duration": 97,
    "start_time": "2021-12-20T10:54:36.948Z"
   },
   {
    "duration": 108,
    "start_time": "2021-12-20T10:56:00.788Z"
   },
   {
    "duration": 92,
    "start_time": "2021-12-20T10:57:36.804Z"
   },
   {
    "duration": 74,
    "start_time": "2021-12-20T10:58:00.348Z"
   },
   {
    "duration": 455,
    "start_time": "2021-12-20T11:09:03.991Z"
   },
   {
    "duration": 9,
    "start_time": "2021-12-20T11:09:14.411Z"
   },
   {
    "duration": 84,
    "start_time": "2021-12-20T11:09:25.054Z"
   },
   {
    "duration": 74,
    "start_time": "2021-12-20T11:21:12.560Z"
   },
   {
    "duration": 64,
    "start_time": "2021-12-20T11:26:02.089Z"
   },
   {
    "duration": 6491,
    "start_time": "2021-12-21T01:37:12.087Z"
   },
   {
    "duration": 382,
    "start_time": "2021-12-21T02:02:14.656Z"
   },
   {
    "duration": 2386,
    "start_time": "2021-12-21T02:02:25.346Z"
   },
   {
    "duration": 55,
    "start_time": "2021-12-21T02:02:27.735Z"
   },
   {
    "duration": 14,
    "start_time": "2021-12-21T02:02:27.794Z"
   },
   {
    "duration": 32,
    "start_time": "2021-12-21T02:02:27.811Z"
   },
   {
    "duration": 21,
    "start_time": "2021-12-21T02:02:27.845Z"
   },
   {
    "duration": 96,
    "start_time": "2021-12-21T02:02:27.869Z"
   },
   {
    "duration": 684,
    "start_time": "2021-12-21T02:02:27.968Z"
   },
   {
    "duration": 20,
    "start_time": "2021-12-21T02:02:28.664Z"
   },
   {
    "duration": 486,
    "start_time": "2021-12-21T02:02:28.687Z"
   },
   {
    "duration": 5,
    "start_time": "2021-12-21T02:02:29.175Z"
   },
   {
    "duration": 564,
    "start_time": "2021-12-21T02:02:29.182Z"
   },
   {
    "duration": 456,
    "start_time": "2021-12-21T02:02:29.748Z"
   },
   {
    "duration": 447,
    "start_time": "2021-12-21T02:02:30.206Z"
   },
   {
    "duration": 43,
    "start_time": "2021-12-21T02:02:30.662Z"
   },
   {
    "duration": 10,
    "start_time": "2021-12-21T02:02:30.707Z"
   },
   {
    "duration": 245,
    "start_time": "2021-12-21T02:02:30.720Z"
   },
   {
    "duration": 303,
    "start_time": "2021-12-21T02:02:30.968Z"
   },
   {
    "duration": 238,
    "start_time": "2021-12-21T02:02:31.274Z"
   },
   {
    "duration": 140,
    "start_time": "2021-12-21T02:02:31.515Z"
   },
   {
    "duration": 112,
    "start_time": "2021-12-21T02:02:31.658Z"
   },
   {
    "duration": 22,
    "start_time": "2021-12-21T02:02:31.773Z"
   },
   {
    "duration": 521,
    "start_time": "2021-12-21T02:02:31.799Z"
   },
   {
    "duration": 1640,
    "start_time": "2021-12-21T02:02:30.684Z"
   },
   {
    "duration": 13,
    "start_time": "2021-12-21T02:03:29.853Z"
   },
   {
    "duration": 4,
    "start_time": "2021-12-21T02:07:45.375Z"
   },
   {
    "duration": 11,
    "start_time": "2021-12-21T02:08:49.130Z"
   },
   {
    "duration": 5,
    "start_time": "2021-12-21T02:09:02.510Z"
   },
   {
    "duration": 24,
    "start_time": "2021-12-21T02:09:04.233Z"
   },
   {
    "duration": 9,
    "start_time": "2021-12-21T02:24:09.016Z"
   },
   {
    "duration": 6,
    "start_time": "2021-12-21T02:29:10.049Z"
   },
   {
    "duration": 491,
    "start_time": "2021-12-21T02:29:10.553Z"
   },
   {
    "duration": 5,
    "start_time": "2021-12-21T02:29:18.149Z"
   },
   {
    "duration": 488,
    "start_time": "2021-12-21T02:29:19.877Z"
   },
   {
    "duration": 6,
    "start_time": "2021-12-21T02:29:36.557Z"
   },
   {
    "duration": 654,
    "start_time": "2021-12-21T02:29:37.043Z"
   },
   {
    "duration": 7,
    "start_time": "2021-12-21T02:31:11.507Z"
   },
   {
    "duration": 486,
    "start_time": "2021-12-21T02:31:11.858Z"
   },
   {
    "duration": 7,
    "start_time": "2021-12-21T02:31:59.041Z"
   },
   {
    "duration": 740,
    "start_time": "2021-12-21T02:32:00.248Z"
   },
   {
    "duration": 7,
    "start_time": "2021-12-21T02:34:00.904Z"
   },
   {
    "duration": 506,
    "start_time": "2021-12-21T02:34:01.414Z"
   },
   {
    "duration": 5,
    "start_time": "2021-12-21T02:34:32.463Z"
   },
   {
    "duration": 7,
    "start_time": "2021-12-21T02:34:44.342Z"
   },
   {
    "duration": 512,
    "start_time": "2021-12-21T02:34:45.590Z"
   },
   {
    "duration": 296,
    "start_time": "2021-12-21T03:33:56.374Z"
   },
   {
    "duration": 975,
    "start_time": "2021-12-21T03:35:03.669Z"
   },
   {
    "duration": 244,
    "start_time": "2021-12-21T03:35:11.069Z"
   },
   {
    "duration": 889,
    "start_time": "2021-12-21T03:35:48.786Z"
   },
   {
    "duration": 313,
    "start_time": "2021-12-21T03:35:55.939Z"
   },
   {
    "duration": 12,
    "start_time": "2021-12-21T03:37:17.633Z"
   },
   {
    "duration": 251,
    "start_time": "2021-12-21T03:37:17.873Z"
   },
   {
    "duration": 2454,
    "start_time": "2021-12-21T03:38:27.680Z"
   },
   {
    "duration": 49,
    "start_time": "2021-12-21T03:38:30.136Z"
   },
   {
    "duration": 13,
    "start_time": "2021-12-21T03:38:30.188Z"
   },
   {
    "duration": 6,
    "start_time": "2021-12-21T03:38:30.204Z"
   },
   {
    "duration": 11,
    "start_time": "2021-12-21T03:38:30.212Z"
   },
   {
    "duration": 115,
    "start_time": "2021-12-21T03:38:30.226Z"
   },
   {
    "duration": 607,
    "start_time": "2021-12-21T03:38:30.344Z"
   },
   {
    "duration": 23,
    "start_time": "2021-12-21T03:38:30.955Z"
   },
   {
    "duration": 488,
    "start_time": "2021-12-21T03:38:30.981Z"
   },
   {
    "duration": 4,
    "start_time": "2021-12-21T03:38:31.471Z"
   },
   {
    "duration": 454,
    "start_time": "2021-12-21T03:38:31.478Z"
   },
   {
    "duration": 438,
    "start_time": "2021-12-21T03:38:31.935Z"
   },
   {
    "duration": 439,
    "start_time": "2021-12-21T03:38:32.376Z"
   },
   {
    "duration": 123,
    "start_time": "2021-12-21T03:38:32.818Z"
   },
   {
    "duration": 18,
    "start_time": "2021-12-21T03:38:32.944Z"
   },
   {
    "duration": 241,
    "start_time": "2021-12-21T03:38:32.965Z"
   },
   {
    "duration": 235,
    "start_time": "2021-12-21T03:38:33.208Z"
   },
   {
    "duration": 229,
    "start_time": "2021-12-21T03:38:33.445Z"
   },
   {
    "duration": 93,
    "start_time": "2021-12-21T03:38:33.677Z"
   },
   {
    "duration": 65,
    "start_time": "2021-12-21T03:38:33.772Z"
   },
   {
    "duration": 38,
    "start_time": "2021-12-21T03:38:33.840Z"
   },
   {
    "duration": 399,
    "start_time": "2021-12-21T03:38:33.880Z"
   },
   {
    "duration": 163,
    "start_time": "2021-12-21T03:38:34.120Z"
   },
   {
    "duration": 161,
    "start_time": "2021-12-21T03:38:34.124Z"
   },
   {
    "duration": 157,
    "start_time": "2021-12-21T03:38:34.130Z"
   },
   {
    "duration": 17,
    "start_time": "2021-12-21T03:38:51.474Z"
   },
   {
    "duration": 25,
    "start_time": "2021-12-21T03:38:52.594Z"
   },
   {
    "duration": 22911,
    "start_time": "2021-12-21T03:38:59.615Z"
   },
   {
    "duration": 6,
    "start_time": "2021-12-21T03:40:14.608Z"
   },
   {
    "duration": 19180,
    "start_time": "2021-12-21T03:44:04.349Z"
   },
   {
    "duration": 5,
    "start_time": "2021-12-21T03:44:23.532Z"
   },
   {
    "duration": 6227,
    "start_time": "2021-12-21T04:10:10.162Z"
   },
   {
    "duration": 6450,
    "start_time": "2021-12-21T04:11:16.463Z"
   },
   {
    "duration": 18539,
    "start_time": "2021-12-21T04:12:05.214Z"
   },
   {
    "duration": 66,
    "start_time": "2021-12-21T08:50:23.424Z"
   },
   {
    "duration": 11,
    "start_time": "2021-12-21T08:50:29.210Z"
   },
   {
    "duration": 14,
    "start_time": "2021-12-21T08:50:30.003Z"
   },
   {
    "duration": 7195,
    "start_time": "2021-12-21T08:50:31.547Z"
   },
   {
    "duration": 13,
    "start_time": "2021-12-21T08:51:12.317Z"
   },
   {
    "duration": 8260,
    "start_time": "2021-12-21T08:53:07.362Z"
   },
   {
    "duration": 16,
    "start_time": "2021-12-21T08:53:30.891Z"
   },
   {
    "duration": 9319,
    "start_time": "2021-12-21T08:53:38.826Z"
   },
   {
    "duration": 2530,
    "start_time": "2021-12-21T08:55:57.874Z"
   },
   {
    "duration": 56,
    "start_time": "2021-12-21T08:56:00.407Z"
   },
   {
    "duration": 15,
    "start_time": "2021-12-21T08:56:00.466Z"
   },
   {
    "duration": 7,
    "start_time": "2021-12-21T08:56:00.485Z"
   },
   {
    "duration": 14,
    "start_time": "2021-12-21T08:56:00.495Z"
   },
   {
    "duration": 124,
    "start_time": "2021-12-21T08:56:00.512Z"
   },
   {
    "duration": 639,
    "start_time": "2021-12-21T08:56:00.639Z"
   },
   {
    "duration": 21,
    "start_time": "2021-12-21T08:56:01.283Z"
   },
   {
    "duration": 566,
    "start_time": "2021-12-21T08:56:01.307Z"
   },
   {
    "duration": 6,
    "start_time": "2021-12-21T08:56:01.877Z"
   },
   {
    "duration": 476,
    "start_time": "2021-12-21T08:56:01.886Z"
   },
   {
    "duration": 450,
    "start_time": "2021-12-21T08:56:02.365Z"
   },
   {
    "duration": 440,
    "start_time": "2021-12-21T08:56:02.818Z"
   },
   {
    "duration": 46,
    "start_time": "2021-12-21T08:56:03.263Z"
   },
   {
    "duration": 9,
    "start_time": "2021-12-21T08:56:03.311Z"
   },
   {
    "duration": 330,
    "start_time": "2021-12-21T08:56:03.323Z"
   },
   {
    "duration": 251,
    "start_time": "2021-12-21T08:56:03.657Z"
   },
   {
    "duration": 235,
    "start_time": "2021-12-21T08:56:03.910Z"
   },
   {
    "duration": 86,
    "start_time": "2021-12-21T08:56:04.148Z"
   },
   {
    "duration": 97,
    "start_time": "2021-12-21T08:56:04.236Z"
   },
   {
    "duration": 40,
    "start_time": "2021-12-21T08:56:04.336Z"
   },
   {
    "duration": 43,
    "start_time": "2021-12-21T08:56:04.379Z"
   },
   {
    "duration": 39,
    "start_time": "2021-12-21T08:56:04.428Z"
   },
   {
    "duration": 19,
    "start_time": "2021-12-21T08:56:04.470Z"
   },
   {
    "duration": 11165,
    "start_time": "2021-12-21T08:56:04.492Z"
   },
   {
    "duration": 5,
    "start_time": "2021-12-21T08:57:00.530Z"
   },
   {
    "duration": 288,
    "start_time": "2021-12-21T09:00:47.006Z"
   },
   {
    "duration": 690,
    "start_time": "2021-12-21T09:00:56.116Z"
   },
   {
    "duration": 245,
    "start_time": "2021-12-21T09:00:56.912Z"
   },
   {
    "duration": 5449,
    "start_time": "2021-12-21T09:02:03.811Z"
   },
   {
    "duration": 113,
    "start_time": "2021-12-21T09:02:31.055Z"
   },
   {
    "duration": 6,
    "start_time": "2021-12-21T09:02:54.101Z"
   },
   {
    "duration": 47,
    "start_time": "2021-12-21T09:02:55.429Z"
   },
   {
    "duration": 173,
    "start_time": "2021-12-21T09:03:00.693Z"
   },
   {
    "duration": 7,
    "start_time": "2021-12-21T09:03:40.380Z"
   },
   {
    "duration": 116,
    "start_time": "2021-12-21T09:03:41.354Z"
   },
   {
    "duration": 84,
    "start_time": "2021-12-21T09:04:11.217Z"
   },
   {
    "duration": 7,
    "start_time": "2021-12-21T09:11:35.440Z"
   },
   {
    "duration": 7874,
    "start_time": "2021-12-21T09:11:39.649Z"
   },
   {
    "duration": 457,
    "start_time": "2021-12-21T09:12:35.569Z"
   },
   {
    "duration": 5468,
    "start_time": "2021-12-21T09:12:49.519Z"
   },
   {
    "duration": 313,
    "start_time": "2021-12-21T09:13:00.255Z"
   },
   {
    "duration": 8,
    "start_time": "2021-12-21T09:13:55.046Z"
   },
   {
    "duration": 160,
    "start_time": "2021-12-21T09:13:55.207Z"
   },
   {
    "duration": 195,
    "start_time": "2021-12-21T09:13:58.171Z"
   },
   {
    "duration": 5877,
    "start_time": "2021-12-21T09:14:10.214Z"
   },
   {
    "duration": 8,
    "start_time": "2021-12-21T09:15:12.500Z"
   },
   {
    "duration": 85,
    "start_time": "2021-12-21T09:15:12.987Z"
   },
   {
    "duration": 4787,
    "start_time": "2021-12-21T09:15:14.309Z"
   },
   {
    "duration": 84,
    "start_time": "2021-12-21T09:17:45.760Z"
   },
   {
    "duration": 5,
    "start_time": "2021-12-21T09:18:03.513Z"
   },
   {
    "duration": 186,
    "start_time": "2021-12-21T09:26:08.221Z"
   },
   {
    "duration": 7,
    "start_time": "2021-12-21T09:26:25.853Z"
   },
   {
    "duration": 1061,
    "start_time": "2021-12-21T09:26:34.230Z"
   },
   {
    "duration": 9,
    "start_time": "2021-12-21T09:28:24.218Z"
   },
   {
    "duration": 5455,
    "start_time": "2021-12-21T09:28:26.393Z"
   },
   {
    "duration": 12,
    "start_time": "2021-12-21T09:31:39.130Z"
   },
   {
    "duration": 8147,
    "start_time": "2021-12-21T09:33:56.327Z"
   },
   {
    "duration": 1774,
    "start_time": "2021-12-21T09:34:18.835Z"
   },
   {
    "duration": 7548,
    "start_time": "2021-12-21T09:34:43.719Z"
   },
   {
    "duration": 18,
    "start_time": "2021-12-21T09:35:10.201Z"
   },
   {
    "duration": 211,
    "start_time": "2021-12-21T09:35:31.153Z"
   },
   {
    "duration": 7,
    "start_time": "2021-12-21T09:36:55.964Z"
   },
   {
    "duration": 157,
    "start_time": "2021-12-21T09:37:05.109Z"
   },
   {
    "duration": 7,
    "start_time": "2021-12-21T09:37:55.629Z"
   },
   {
    "duration": 279,
    "start_time": "2021-12-21T09:37:58.989Z"
   },
   {
    "duration": 300,
    "start_time": "2021-12-21T09:38:05.365Z"
   },
   {
    "duration": 7,
    "start_time": "2021-12-21T09:39:07.338Z"
   },
   {
    "duration": 5223,
    "start_time": "2021-12-21T09:39:15.282Z"
   },
   {
    "duration": 7,
    "start_time": "2021-12-21T09:41:11.081Z"
   },
   {
    "duration": 7587,
    "start_time": "2021-12-21T09:41:13.136Z"
   },
   {
    "duration": 13208,
    "start_time": "2021-12-21T09:57:05.378Z"
   },
   {
    "duration": 193,
    "start_time": "2021-12-21T09:57:18.588Z"
   },
   {
    "duration": 83,
    "start_time": "2021-12-21T09:57:18.784Z"
   },
   {
    "duration": 94,
    "start_time": "2021-12-21T09:57:18.872Z"
   },
   {
    "duration": 21,
    "start_time": "2021-12-21T09:57:18.969Z"
   },
   {
    "duration": 514,
    "start_time": "2021-12-21T09:57:19.072Z"
   },
   {
    "duration": 3379,
    "start_time": "2021-12-21T09:57:19.594Z"
   },
   {
    "duration": 290,
    "start_time": "2021-12-21T09:57:22.985Z"
   },
   {
    "duration": 2999,
    "start_time": "2021-12-21T09:57:23.278Z"
   },
   {
    "duration": 8,
    "start_time": "2021-12-21T09:57:26.287Z"
   },
   {
    "duration": 2303,
    "start_time": "2021-12-21T09:57:26.370Z"
   },
   {
    "duration": 2611,
    "start_time": "2021-12-21T09:57:28.678Z"
   },
   {
    "duration": 2779,
    "start_time": "2021-12-21T09:57:31.294Z"
   },
   {
    "duration": 200,
    "start_time": "2021-12-21T09:57:34.078Z"
   },
   {
    "duration": 94,
    "start_time": "2021-12-21T09:57:34.287Z"
   },
   {
    "duration": 1813,
    "start_time": "2021-12-21T09:57:34.470Z"
   },
   {
    "duration": 1283,
    "start_time": "2021-12-21T09:57:36.292Z"
   },
   {
    "duration": 1207,
    "start_time": "2021-12-21T09:57:37.584Z"
   },
   {
    "duration": 317,
    "start_time": "2021-12-21T09:57:38.868Z"
   },
   {
    "duration": 398,
    "start_time": "2021-12-21T09:57:39.188Z"
   },
   {
    "duration": 1309,
    "start_time": "2021-12-21T09:58:22.869Z"
   },
   {
    "duration": 24,
    "start_time": "2021-12-21T09:58:30.668Z"
   },
   {
    "duration": 11,
    "start_time": "2021-12-21T09:58:31.570Z"
   },
   {
    "duration": 112,
    "start_time": "2021-12-21T10:02:35.468Z"
   },
   {
    "duration": 83,
    "start_time": "2021-12-21T10:03:06.000Z"
   },
   {
    "duration": 1602,
    "start_time": "2021-12-21T10:03:09.570Z"
   },
   {
    "duration": 118,
    "start_time": "2021-12-21T10:03:25.873Z"
   },
   {
    "duration": 1003,
    "start_time": "2021-12-21T10:03:29.768Z"
   },
   {
    "duration": 7,
    "start_time": "2021-12-21T10:40:11.696Z"
   },
   {
    "duration": 802,
    "start_time": "2021-12-21T10:40:40.567Z"
   },
   {
    "duration": 324,
    "start_time": "2021-12-21T10:41:04.319Z"
   },
   {
    "duration": 2443,
    "start_time": "2021-12-21T10:41:14.761Z"
   },
   {
    "duration": 37,
    "start_time": "2021-12-21T10:41:17.207Z"
   },
   {
    "duration": 26,
    "start_time": "2021-12-21T10:41:17.248Z"
   },
   {
    "duration": 6,
    "start_time": "2021-12-21T10:41:17.278Z"
   },
   {
    "duration": 12,
    "start_time": "2021-12-21T10:41:17.287Z"
   },
   {
    "duration": 111,
    "start_time": "2021-12-21T10:41:17.301Z"
   },
   {
    "duration": 700,
    "start_time": "2021-12-21T10:41:17.415Z"
   },
   {
    "duration": 20,
    "start_time": "2021-12-21T10:41:18.119Z"
   },
   {
    "duration": 488,
    "start_time": "2021-12-21T10:41:18.163Z"
   },
   {
    "duration": 9,
    "start_time": "2021-12-21T10:41:18.654Z"
   },
   {
    "duration": 477,
    "start_time": "2021-12-21T10:41:18.667Z"
   },
   {
    "duration": 439,
    "start_time": "2021-12-21T10:41:19.147Z"
   },
   {
    "duration": 426,
    "start_time": "2021-12-21T10:41:19.589Z"
   },
   {
    "duration": 55,
    "start_time": "2021-12-21T10:41:20.017Z"
   },
   {
    "duration": 9,
    "start_time": "2021-12-21T10:41:20.074Z"
   },
   {
    "duration": 307,
    "start_time": "2021-12-21T10:41:20.085Z"
   },
   {
    "duration": 293,
    "start_time": "2021-12-21T10:41:20.395Z"
   },
   {
    "duration": 229,
    "start_time": "2021-12-21T10:41:20.691Z"
   },
   {
    "duration": 93,
    "start_time": "2021-12-21T10:41:20.922Z"
   },
   {
    "duration": 77,
    "start_time": "2021-12-21T10:41:21.017Z"
   },
   {
    "duration": 14,
    "start_time": "2021-12-21T10:41:21.097Z"
   },
   {
    "duration": 5,
    "start_time": "2021-12-21T10:41:21.113Z"
   },
   {
    "duration": 44,
    "start_time": "2021-12-21T10:41:21.122Z"
   },
   {
    "duration": 8,
    "start_time": "2021-12-21T10:41:21.169Z"
   },
   {
    "duration": 8,
    "start_time": "2021-12-21T10:41:21.179Z"
   },
   {
    "duration": 7,
    "start_time": "2021-12-21T10:41:21.189Z"
   },
   {
    "duration": 702,
    "start_time": "2021-12-21T10:41:21.198Z"
   },
   {
    "duration": -850,
    "start_time": "2021-12-21T10:41:22.752Z"
   },
   {
    "duration": -854,
    "start_time": "2021-12-21T10:41:22.758Z"
   },
   {
    "duration": -861,
    "start_time": "2021-12-21T10:41:22.766Z"
   },
   {
    "duration": 2603,
    "start_time": "2021-12-21T11:48:03.761Z"
   },
   {
    "duration": 36,
    "start_time": "2021-12-21T11:48:06.366Z"
   },
   {
    "duration": 25,
    "start_time": "2021-12-21T11:48:06.405Z"
   },
   {
    "duration": 6,
    "start_time": "2021-12-21T11:48:06.433Z"
   },
   {
    "duration": 37,
    "start_time": "2021-12-21T11:48:06.442Z"
   },
   {
    "duration": 130,
    "start_time": "2021-12-21T11:48:06.482Z"
   },
   {
    "duration": 776,
    "start_time": "2021-12-21T11:48:06.615Z"
   },
   {
    "duration": 18,
    "start_time": "2021-12-21T11:48:07.395Z"
   },
   {
    "duration": 549,
    "start_time": "2021-12-21T11:48:07.416Z"
   },
   {
    "duration": 4,
    "start_time": "2021-12-21T11:48:07.967Z"
   },
   {
    "duration": 457,
    "start_time": "2021-12-21T11:48:07.973Z"
   },
   {
    "duration": 437,
    "start_time": "2021-12-21T11:48:08.432Z"
   },
   {
    "duration": 462,
    "start_time": "2021-12-21T11:48:08.871Z"
   },
   {
    "duration": 57,
    "start_time": "2021-12-21T11:48:09.336Z"
   },
   {
    "duration": 10,
    "start_time": "2021-12-21T11:48:09.395Z"
   },
   {
    "duration": 305,
    "start_time": "2021-12-21T11:48:09.408Z"
   },
   {
    "duration": 240,
    "start_time": "2021-12-21T11:48:09.716Z"
   },
   {
    "duration": 227,
    "start_time": "2021-12-21T11:48:09.959Z"
   },
   {
    "duration": 86,
    "start_time": "2021-12-21T11:48:10.188Z"
   },
   {
    "duration": 66,
    "start_time": "2021-12-21T11:48:10.277Z"
   },
   {
    "duration": 28,
    "start_time": "2021-12-21T11:48:10.345Z"
   },
   {
    "duration": 6,
    "start_time": "2021-12-21T11:48:10.375Z"
   },
   {
    "duration": 33,
    "start_time": "2021-12-21T11:48:10.388Z"
   },
   {
    "duration": 39,
    "start_time": "2021-12-21T11:48:10.424Z"
   },
   {
    "duration": 14,
    "start_time": "2021-12-21T11:48:10.465Z"
   },
   {
    "duration": 5,
    "start_time": "2021-12-21T11:48:10.484Z"
   },
   {
    "duration": 811,
    "start_time": "2021-12-21T11:48:10.491Z"
   },
   {
    "duration": -967,
    "start_time": "2021-12-21T11:48:12.272Z"
   },
   {
    "duration": -991,
    "start_time": "2021-12-21T11:48:12.298Z"
   },
   {
    "duration": -1004,
    "start_time": "2021-12-21T11:48:12.313Z"
   },
   {
    "duration": 388,
    "start_time": "2021-12-21T11:48:51.268Z"
   },
   {
    "duration": 351,
    "start_time": "2021-12-21T11:49:00.898Z"
   },
   {
    "duration": 430,
    "start_time": "2021-12-21T12:21:39.595Z"
   },
   {
    "duration": 722,
    "start_time": "2021-12-21T12:25:54.957Z"
   },
   {
    "duration": 1153,
    "start_time": "2021-12-21T12:26:07.606Z"
   },
   {
    "duration": 633,
    "start_time": "2021-12-21T12:27:07.916Z"
   },
   {
    "duration": 7,
    "start_time": "2021-12-21T12:32:23.841Z"
   },
   {
    "duration": 875,
    "start_time": "2021-12-21T12:32:31.296Z"
   },
   {
    "duration": 7,
    "start_time": "2021-12-21T12:33:00.899Z"
   },
   {
    "duration": 444,
    "start_time": "2021-12-21T12:48:45.343Z"
   },
   {
    "duration": 1367,
    "start_time": "2021-12-21T12:49:10.495Z"
   },
   {
    "duration": 2793,
    "start_time": "2021-12-21T12:49:19.851Z"
   },
   {
    "duration": 44,
    "start_time": "2021-12-21T12:49:22.647Z"
   },
   {
    "duration": 25,
    "start_time": "2021-12-21T12:49:22.698Z"
   },
   {
    "duration": 7,
    "start_time": "2021-12-21T12:49:22.725Z"
   },
   {
    "duration": 27,
    "start_time": "2021-12-21T12:49:22.737Z"
   },
   {
    "duration": 99,
    "start_time": "2021-12-21T12:49:22.767Z"
   },
   {
    "duration": 618,
    "start_time": "2021-12-21T12:49:22.870Z"
   },
   {
    "duration": 22,
    "start_time": "2021-12-21T12:49:23.492Z"
   },
   {
    "duration": 506,
    "start_time": "2021-12-21T12:49:23.517Z"
   },
   {
    "duration": 4,
    "start_time": "2021-12-21T12:49:24.025Z"
   },
   {
    "duration": 499,
    "start_time": "2021-12-21T12:49:24.032Z"
   },
   {
    "duration": 465,
    "start_time": "2021-12-21T12:49:24.533Z"
   },
   {
    "duration": 465,
    "start_time": "2021-12-21T12:49:25.001Z"
   },
   {
    "duration": 47,
    "start_time": "2021-12-21T12:49:25.469Z"
   },
   {
    "duration": 11,
    "start_time": "2021-12-21T12:49:25.519Z"
   },
   {
    "duration": 406,
    "start_time": "2021-12-21T12:49:25.532Z"
   },
   {
    "duration": 342,
    "start_time": "2021-12-21T12:49:25.940Z"
   },
   {
    "duration": 328,
    "start_time": "2021-12-21T12:49:26.285Z"
   },
   {
    "duration": 135,
    "start_time": "2021-12-21T12:49:26.616Z"
   },
   {
    "duration": 115,
    "start_time": "2021-12-21T12:49:26.755Z"
   },
   {
    "duration": 20,
    "start_time": "2021-12-21T12:49:26.873Z"
   },
   {
    "duration": 7,
    "start_time": "2021-12-21T12:49:26.900Z"
   },
   {
    "duration": 48,
    "start_time": "2021-12-21T12:49:26.910Z"
   },
   {
    "duration": 51,
    "start_time": "2021-12-21T12:49:26.960Z"
   },
   {
    "duration": 32,
    "start_time": "2021-12-21T12:49:27.013Z"
   },
   {
    "duration": 1732,
    "start_time": "2021-12-21T12:49:27.048Z"
   },
   {
    "duration": 85,
    "start_time": "2021-12-21T12:49:28.784Z"
   },
   {
    "duration": 1601,
    "start_time": "2021-12-21T12:49:28.873Z"
   },
   {
    "duration": 2155,
    "start_time": "2021-12-21T12:49:52.112Z"
   },
   {
    "duration": 2175,
    "start_time": "2021-12-21T12:50:06.862Z"
   },
   {
    "duration": 418,
    "start_time": "2021-12-21T12:51:38.743Z"
   },
   {
    "duration": 2620,
    "start_time": "2021-12-21T12:52:07.802Z"
   },
   {
    "duration": 1917,
    "start_time": "2021-12-21T13:00:02.004Z"
   },
   {
    "duration": 4535,
    "start_time": "2021-12-21T13:03:26.087Z"
   },
   {
    "duration": 4810,
    "start_time": "2021-12-21T13:03:56.371Z"
   },
   {
    "duration": 50134,
    "start_time": "2021-12-21T13:05:06.232Z"
   },
   {
    "duration": 8,
    "start_time": "2021-12-21T13:06:39.333Z"
   },
   {
    "duration": 7,
    "start_time": "2021-12-21T13:09:00.289Z"
   },
   {
    "duration": 15,
    "start_time": "2021-12-21T13:09:01.362Z"
   },
   {
    "duration": 52059,
    "start_time": "2021-12-21T13:13:15.698Z"
   },
   {
    "duration": 329,
    "start_time": "2021-12-21T13:15:14.383Z"
   },
   {
    "duration": 2399,
    "start_time": "2021-12-21T13:15:22.886Z"
   },
   {
    "duration": 18,
    "start_time": "2021-12-21T13:15:25.366Z"
   },
   {
    "duration": 80,
    "start_time": "2021-12-21T13:15:25.387Z"
   },
   {
    "duration": 15,
    "start_time": "2021-12-21T13:15:29.430Z"
   },
   {
    "duration": 485,
    "start_time": "2021-12-21T16:18:37.570Z"
   },
   {
    "duration": 2431,
    "start_time": "2021-12-21T16:18:43.898Z"
   },
   {
    "duration": 41,
    "start_time": "2021-12-21T16:18:46.331Z"
   },
   {
    "duration": 13,
    "start_time": "2021-12-21T16:18:46.376Z"
   },
   {
    "duration": 34,
    "start_time": "2021-12-21T16:18:46.392Z"
   },
   {
    "duration": 20,
    "start_time": "2021-12-21T16:18:46.429Z"
   },
   {
    "duration": 87,
    "start_time": "2021-12-21T16:18:46.451Z"
   },
   {
    "duration": 587,
    "start_time": "2021-12-21T16:18:46.540Z"
   },
   {
    "duration": 23,
    "start_time": "2021-12-21T16:18:47.133Z"
   },
   {
    "duration": 485,
    "start_time": "2021-12-21T16:18:47.160Z"
   },
   {
    "duration": 5,
    "start_time": "2021-12-21T16:18:47.647Z"
   },
   {
    "duration": 458,
    "start_time": "2021-12-21T16:18:47.654Z"
   },
   {
    "duration": 433,
    "start_time": "2021-12-21T16:18:48.115Z"
   },
   {
    "duration": 430,
    "start_time": "2021-12-21T16:18:48.550Z"
   },
   {
    "duration": 60,
    "start_time": "2021-12-21T16:18:48.982Z"
   },
   {
    "duration": 10,
    "start_time": "2021-12-21T16:18:49.045Z"
   },
   {
    "duration": 303,
    "start_time": "2021-12-21T16:18:49.058Z"
   },
   {
    "duration": 246,
    "start_time": "2021-12-21T16:18:49.364Z"
   },
   {
    "duration": 231,
    "start_time": "2021-12-21T16:18:49.613Z"
   },
   {
    "duration": 94,
    "start_time": "2021-12-21T16:18:49.848Z"
   },
   {
    "duration": 78,
    "start_time": "2021-12-21T16:18:49.945Z"
   },
   {
    "duration": 15,
    "start_time": "2021-12-21T16:18:50.026Z"
   },
   {
    "duration": 6,
    "start_time": "2021-12-21T16:18:50.044Z"
   },
   {
    "duration": 19,
    "start_time": "2021-12-21T16:18:50.054Z"
   },
   {
    "duration": 5,
    "start_time": "2021-12-21T16:18:50.076Z"
   },
   {
    "duration": 45,
    "start_time": "2021-12-21T16:18:50.084Z"
   },
   {
    "duration": 1400,
    "start_time": "2021-12-21T16:18:50.132Z"
   },
   {
    "duration": 8,
    "start_time": "2021-12-21T16:18:51.626Z"
   },
   {
    "duration": 93,
    "start_time": "2021-12-21T16:18:51.636Z"
   },
   {
    "duration": 29,
    "start_time": "2021-12-21T16:18:51.732Z"
   },
   {
    "duration": 50245,
    "start_time": "2021-12-21T16:18:51.763Z"
   },
   {
    "duration": 14,
    "start_time": "2021-12-21T16:19:42.011Z"
   },
   {
    "duration": 17,
    "start_time": "2021-12-21T16:19:42.029Z"
   },
   {
    "duration": 552,
    "start_time": "2021-12-21T16:19:42.049Z"
   },
   {
    "duration": -1322,
    "start_time": "2021-12-21T16:19:43.927Z"
   },
   {
    "duration": 1922,
    "start_time": "2021-12-22T09:39:57.388Z"
   },
   {
    "duration": 23,
    "start_time": "2021-12-22T09:39:59.312Z"
   },
   {
    "duration": 22,
    "start_time": "2021-12-22T09:39:59.340Z"
   },
   {
    "duration": 5,
    "start_time": "2021-12-22T09:39:59.364Z"
   },
   {
    "duration": 21,
    "start_time": "2021-12-22T09:39:59.372Z"
   },
   {
    "duration": 74,
    "start_time": "2021-12-22T09:39:59.395Z"
   },
   {
    "duration": 368,
    "start_time": "2021-12-22T09:39:59.471Z"
   },
   {
    "duration": 26,
    "start_time": "2021-12-22T09:39:59.842Z"
   },
   {
    "duration": 299,
    "start_time": "2021-12-22T09:39:59.871Z"
   },
   {
    "duration": 4,
    "start_time": "2021-12-22T09:40:00.172Z"
   },
   {
    "duration": 334,
    "start_time": "2021-12-22T09:40:00.178Z"
   },
   {
    "duration": 303,
    "start_time": "2021-12-22T09:40:00.514Z"
   },
   {
    "duration": 284,
    "start_time": "2021-12-22T09:40:00.819Z"
   },
   {
    "duration": 37,
    "start_time": "2021-12-22T09:40:01.105Z"
   },
   {
    "duration": 21,
    "start_time": "2021-12-22T09:40:01.144Z"
   },
   {
    "duration": 239,
    "start_time": "2021-12-22T09:40:01.167Z"
   },
   {
    "duration": 163,
    "start_time": "2021-12-22T09:40:01.408Z"
   },
   {
    "duration": 168,
    "start_time": "2021-12-22T09:40:01.573Z"
   },
   {
    "duration": 59,
    "start_time": "2021-12-22T09:40:01.743Z"
   },
   {
    "duration": 43,
    "start_time": "2021-12-22T09:40:01.804Z"
   },
   {
    "duration": 45,
    "start_time": "2021-12-22T09:40:01.862Z"
   },
   {
    "duration": 55,
    "start_time": "2021-12-22T09:40:01.910Z"
   },
   {
    "duration": 62,
    "start_time": "2021-12-22T09:40:01.967Z"
   },
   {
    "duration": 71,
    "start_time": "2021-12-22T09:40:02.031Z"
   },
   {
    "duration": 37,
    "start_time": "2021-12-22T09:40:02.105Z"
   },
   {
    "duration": 1118,
    "start_time": "2021-12-22T09:40:02.146Z"
   },
   {
    "duration": 6,
    "start_time": "2021-12-22T09:40:03.267Z"
   },
   {
    "duration": 6,
    "start_time": "2021-12-22T09:40:03.363Z"
   },
   {
    "duration": 8,
    "start_time": "2021-12-22T09:40:03.461Z"
   },
   {
    "duration": 37990,
    "start_time": "2021-12-22T09:40:03.471Z"
   },
   {
    "duration": 4,
    "start_time": "2021-12-22T09:40:41.463Z"
   },
   {
    "duration": 12,
    "start_time": "2021-12-22T09:40:41.468Z"
   },
   {
    "duration": 320,
    "start_time": "2021-12-22T09:40:41.482Z"
   },
   {
    "duration": 2895,
    "start_time": "2021-12-22T09:40:38.909Z"
   },
   {
    "duration": 216,
    "start_time": "2021-12-22T09:42:10.357Z"
   },
   {
    "duration": 42114,
    "start_time": "2021-12-22T09:42:24.848Z"
   },
   {
    "duration": 2955,
    "start_time": "2021-12-22T09:46:04.544Z"
   },
   {
    "duration": 3,
    "start_time": "2021-12-22T09:48:47.883Z"
   },
   {
    "duration": 113351,
    "start_time": "2021-12-22T09:48:50.454Z"
   },
   {
    "duration": 20019,
    "start_time": "2021-12-22T10:07:37.167Z"
   },
   {
    "duration": 447,
    "start_time": "2021-12-22T10:09:46.539Z"
   },
   {
    "duration": 5886,
    "start_time": "2021-12-22T10:10:02.072Z"
   },
   {
    "duration": 10789,
    "start_time": "2021-12-22T10:10:43.725Z"
   },
   {
    "duration": 10246,
    "start_time": "2021-12-22T10:12:09.301Z"
   },
   {
    "duration": 2553,
    "start_time": "2021-12-22T10:21:41.824Z"
   },
   {
    "duration": 2002,
    "start_time": "2021-12-22T10:22:26.813Z"
   },
   {
    "duration": 23,
    "start_time": "2021-12-22T10:22:28.816Z"
   },
   {
    "duration": 19,
    "start_time": "2021-12-22T10:22:28.841Z"
   },
   {
    "duration": 5,
    "start_time": "2021-12-22T10:22:28.862Z"
   },
   {
    "duration": 9,
    "start_time": "2021-12-22T10:22:28.869Z"
   },
   {
    "duration": 70,
    "start_time": "2021-12-22T10:22:28.880Z"
   },
   {
    "duration": 381,
    "start_time": "2021-12-22T10:22:28.960Z"
   },
   {
    "duration": 24,
    "start_time": "2021-12-22T10:22:29.343Z"
   },
   {
    "duration": 298,
    "start_time": "2021-12-22T10:22:29.370Z"
   },
   {
    "duration": 3,
    "start_time": "2021-12-22T10:22:29.669Z"
   },
   {
    "duration": 286,
    "start_time": "2021-12-22T10:22:29.674Z"
   },
   {
    "duration": 288,
    "start_time": "2021-12-22T10:22:29.962Z"
   },
   {
    "duration": 274,
    "start_time": "2021-12-22T10:22:30.251Z"
   },
   {
    "duration": 42,
    "start_time": "2021-12-22T10:22:30.527Z"
   },
   {
    "duration": 8,
    "start_time": "2021-12-22T10:22:30.571Z"
   },
   {
    "duration": 229,
    "start_time": "2021-12-22T10:22:30.580Z"
   },
   {
    "duration": 168,
    "start_time": "2021-12-22T10:22:30.811Z"
   },
   {
    "duration": 162,
    "start_time": "2021-12-22T10:22:30.981Z"
   },
   {
    "duration": 52,
    "start_time": "2021-12-22T10:22:31.148Z"
   },
   {
    "duration": 40,
    "start_time": "2021-12-22T10:22:31.202Z"
   },
   {
    "duration": 27,
    "start_time": "2021-12-22T10:22:31.244Z"
   },
   {
    "duration": 4,
    "start_time": "2021-12-22T10:22:31.272Z"
   },
   {
    "duration": 14,
    "start_time": "2021-12-22T10:22:31.279Z"
   },
   {
    "duration": 12,
    "start_time": "2021-12-22T10:22:31.295Z"
   },
   {
    "duration": 11,
    "start_time": "2021-12-22T10:22:31.308Z"
   },
   {
    "duration": 41540,
    "start_time": "2021-12-22T10:22:31.321Z"
   },
   {
    "duration": 8,
    "start_time": "2021-12-22T10:23:12.863Z"
   },
   {
    "duration": 2869,
    "start_time": "2021-12-22T10:23:10.005Z"
   },
   {
    "duration": 2868,
    "start_time": "2021-12-22T10:23:10.007Z"
   },
   {
    "duration": 139,
    "start_time": "2021-12-22T10:25:10.827Z"
   },
   {
    "duration": 2263,
    "start_time": "2021-12-22T10:25:58.347Z"
   },
   {
    "duration": 26,
    "start_time": "2021-12-22T10:26:00.612Z"
   },
   {
    "duration": 27,
    "start_time": "2021-12-22T10:26:00.641Z"
   },
   {
    "duration": 17,
    "start_time": "2021-12-22T10:26:00.671Z"
   },
   {
    "duration": 22,
    "start_time": "2021-12-22T10:26:00.691Z"
   },
   {
    "duration": 165,
    "start_time": "2021-12-22T10:26:00.715Z"
   },
   {
    "duration": 382,
    "start_time": "2021-12-22T10:26:00.882Z"
   },
   {
    "duration": 15,
    "start_time": "2021-12-22T10:26:01.267Z"
   },
   {
    "duration": 404,
    "start_time": "2021-12-22T10:26:01.285Z"
   },
   {
    "duration": 4,
    "start_time": "2021-12-22T10:26:01.692Z"
   },
   {
    "duration": 330,
    "start_time": "2021-12-22T10:26:01.698Z"
   },
   {
    "duration": 291,
    "start_time": "2021-12-22T10:26:02.030Z"
   },
   {
    "duration": 285,
    "start_time": "2021-12-22T10:26:02.323Z"
   },
   {
    "duration": 118,
    "start_time": "2021-12-22T10:26:02.610Z"
   },
   {
    "duration": 7,
    "start_time": "2021-12-22T10:26:02.730Z"
   },
   {
    "duration": 179,
    "start_time": "2021-12-22T10:26:02.738Z"
   },
   {
    "duration": 149,
    "start_time": "2021-12-22T10:26:02.918Z"
   },
   {
    "duration": 147,
    "start_time": "2021-12-22T10:26:03.068Z"
   },
   {
    "duration": 54,
    "start_time": "2021-12-22T10:26:03.217Z"
   },
   {
    "duration": 38,
    "start_time": "2021-12-22T10:26:03.273Z"
   },
   {
    "duration": 45,
    "start_time": "2021-12-22T10:26:03.312Z"
   },
   {
    "duration": 26,
    "start_time": "2021-12-22T10:26:03.360Z"
   },
   {
    "duration": 28,
    "start_time": "2021-12-22T10:26:03.390Z"
   },
   {
    "duration": 39,
    "start_time": "2021-12-22T10:26:03.420Z"
   },
   {
    "duration": 30,
    "start_time": "2021-12-22T10:26:03.461Z"
   },
   {
    "duration": 41777,
    "start_time": "2021-12-22T10:26:03.493Z"
   },
   {
    "duration": 88,
    "start_time": "2021-12-22T10:26:45.272Z"
   },
   {
    "duration": 113517,
    "start_time": "2021-12-22T10:26:45.363Z"
   },
   {
    "duration": 10239,
    "start_time": "2021-12-22T10:28:38.882Z"
   },
   {
    "duration": 2938,
    "start_time": "2021-12-22T10:28:49.123Z"
   },
   {
    "duration": 2203,
    "start_time": "2021-12-22T10:29:06.558Z"
   },
   {
    "duration": 273,
    "start_time": "2021-12-22T11:43:44.176Z"
   },
   {
    "duration": 2076,
    "start_time": "2021-12-22T11:43:51.774Z"
   },
   {
    "duration": 29,
    "start_time": "2021-12-22T11:43:53.852Z"
   },
   {
    "duration": 7,
    "start_time": "2021-12-22T11:43:53.883Z"
   },
   {
    "duration": 6,
    "start_time": "2021-12-22T11:43:53.892Z"
   },
   {
    "duration": 12,
    "start_time": "2021-12-22T11:43:53.900Z"
   },
   {
    "duration": 90,
    "start_time": "2021-12-22T11:43:53.913Z"
   },
   {
    "duration": 386,
    "start_time": "2021-12-22T11:43:54.005Z"
   },
   {
    "duration": 20,
    "start_time": "2021-12-22T11:43:54.394Z"
   },
   {
    "duration": 475,
    "start_time": "2021-12-22T11:43:54.417Z"
   },
   {
    "duration": 4,
    "start_time": "2021-12-22T11:43:54.895Z"
   },
   {
    "duration": 292,
    "start_time": "2021-12-22T11:43:54.901Z"
   },
   {
    "duration": 415,
    "start_time": "2021-12-22T11:43:55.196Z"
   },
   {
    "duration": 277,
    "start_time": "2021-12-22T11:43:55.614Z"
   },
   {
    "duration": 124,
    "start_time": "2021-12-22T11:43:55.893Z"
   },
   {
    "duration": 9,
    "start_time": "2021-12-22T11:43:56.019Z"
   },
   {
    "duration": 161,
    "start_time": "2021-12-22T11:43:56.030Z"
   },
   {
    "duration": 161,
    "start_time": "2021-12-22T11:43:56.193Z"
   },
   {
    "duration": 149,
    "start_time": "2021-12-22T11:43:56.356Z"
   },
   {
    "duration": 56,
    "start_time": "2021-12-22T11:43:56.507Z"
   },
   {
    "duration": 41,
    "start_time": "2021-12-22T11:43:56.564Z"
   },
   {
    "duration": 12,
    "start_time": "2021-12-22T11:43:56.606Z"
   },
   {
    "duration": 13,
    "start_time": "2021-12-22T11:43:56.620Z"
   },
   {
    "duration": 10,
    "start_time": "2021-12-22T11:43:56.661Z"
   },
   {
    "duration": 13,
    "start_time": "2021-12-22T11:43:56.674Z"
   },
   {
    "duration": 10,
    "start_time": "2021-12-22T11:43:56.689Z"
   },
   {
    "duration": 43364,
    "start_time": "2021-12-22T11:43:56.701Z"
   },
   {
    "duration": 4,
    "start_time": "2021-12-22T11:44:40.067Z"
   },
   {
    "duration": 1982,
    "start_time": "2021-12-22T11:44:48.002Z"
   },
   {
    "duration": 35,
    "start_time": "2021-12-22T11:44:49.987Z"
   },
   {
    "duration": 8,
    "start_time": "2021-12-22T11:44:50.024Z"
   },
   {
    "duration": 28,
    "start_time": "2021-12-22T11:44:50.035Z"
   },
   {
    "duration": 8,
    "start_time": "2021-12-22T11:44:50.065Z"
   },
   {
    "duration": 65,
    "start_time": "2021-12-22T11:44:50.075Z"
   },
   {
    "duration": 550,
    "start_time": "2021-12-22T11:44:50.162Z"
   },
   {
    "duration": 19,
    "start_time": "2021-12-22T11:44:50.716Z"
   },
   {
    "duration": 396,
    "start_time": "2021-12-22T11:44:50.738Z"
   },
   {
    "duration": 3,
    "start_time": "2021-12-22T11:44:51.136Z"
   },
   {
    "duration": 288,
    "start_time": "2021-12-22T11:44:51.141Z"
   },
   {
    "duration": 279,
    "start_time": "2021-12-22T11:44:51.431Z"
   },
   {
    "duration": 282,
    "start_time": "2021-12-22T11:44:51.712Z"
   },
   {
    "duration": 36,
    "start_time": "2021-12-22T11:44:51.995Z"
   },
   {
    "duration": 29,
    "start_time": "2021-12-22T11:44:52.032Z"
   },
   {
    "duration": 224,
    "start_time": "2021-12-22T11:44:52.063Z"
   },
   {
    "duration": 164,
    "start_time": "2021-12-22T11:44:52.289Z"
   },
   {
    "duration": 153,
    "start_time": "2021-12-22T11:44:52.455Z"
   },
   {
    "duration": 62,
    "start_time": "2021-12-22T11:44:52.610Z"
   },
   {
    "duration": 60,
    "start_time": "2021-12-22T11:44:52.674Z"
   },
   {
    "duration": 33,
    "start_time": "2021-12-22T11:44:52.736Z"
   },
   {
    "duration": 5,
    "start_time": "2021-12-22T11:44:52.771Z"
   },
   {
    "duration": 17,
    "start_time": "2021-12-22T11:44:52.780Z"
   },
   {
    "duration": 8,
    "start_time": "2021-12-22T11:44:52.800Z"
   },
   {
    "duration": 12,
    "start_time": "2021-12-22T11:44:52.810Z"
   },
   {
    "duration": 43438,
    "start_time": "2021-12-22T11:44:52.824Z"
   },
   {
    "duration": 3,
    "start_time": "2021-12-22T11:45:36.264Z"
   },
   {
    "duration": 117921,
    "start_time": "2021-12-22T11:45:36.268Z"
   },
   {
    "duration": 11014,
    "start_time": "2021-12-22T11:47:34.191Z"
   },
   {
    "duration": 2961,
    "start_time": "2021-12-22T11:47:45.207Z"
   },
   {
    "duration": 423,
    "start_time": "2021-12-22T11:47:48.171Z"
   },
   {
    "duration": 211,
    "start_time": "2021-12-22T11:49:00.020Z"
   },
   {
    "duration": 212,
    "start_time": "2021-12-22T11:49:09.264Z"
   },
   {
    "duration": 205,
    "start_time": "2021-12-22T11:51:52.597Z"
   },
   {
    "duration": 401,
    "start_time": "2021-12-22T11:53:05.274Z"
   },
   {
    "duration": 7,
    "start_time": "2021-12-22T11:53:18.533Z"
   },
   {
    "duration": 200,
    "start_time": "2021-12-22T12:00:46.731Z"
   },
   {
    "duration": 7,
    "start_time": "2021-12-22T12:01:00.186Z"
   },
   {
    "duration": 7,
    "start_time": "2021-12-22T12:01:15.415Z"
   },
   {
    "duration": 200,
    "start_time": "2021-12-22T12:04:12.266Z"
   },
   {
    "duration": 6,
    "start_time": "2021-12-22T12:04:15.466Z"
   },
   {
    "duration": 4,
    "start_time": "2021-12-22T12:04:15.634Z"
   },
   {
    "duration": 16,
    "start_time": "2021-12-22T12:06:25.657Z"
   },
   {
    "duration": 1846,
    "start_time": "2021-12-22T13:01:34.168Z"
   },
   {
    "duration": 31,
    "start_time": "2021-12-22T13:01:36.016Z"
   },
   {
    "duration": 5,
    "start_time": "2021-12-22T13:01:36.049Z"
   },
   {
    "duration": 13,
    "start_time": "2021-12-22T13:01:36.056Z"
   },
   {
    "duration": 7,
    "start_time": "2021-12-22T13:01:37.735Z"
   },
   {
    "duration": 56,
    "start_time": "2021-12-22T13:01:38.720Z"
   },
   {
    "duration": 351,
    "start_time": "2021-12-22T13:01:39.481Z"
   },
   {
    "duration": 14,
    "start_time": "2021-12-22T13:01:40.424Z"
   },
   {
    "duration": 265,
    "start_time": "2021-12-22T13:01:40.774Z"
   },
   {
    "duration": 3,
    "start_time": "2021-12-22T13:01:42.608Z"
   },
   {
    "duration": 258,
    "start_time": "2021-12-22T13:01:42.613Z"
   },
   {
    "duration": 254,
    "start_time": "2021-12-22T13:01:43.141Z"
   },
   {
    "duration": 254,
    "start_time": "2021-12-22T13:01:43.397Z"
   },
   {
    "duration": 31,
    "start_time": "2021-12-22T13:01:43.652Z"
   },
   {
    "duration": 7,
    "start_time": "2021-12-22T13:01:43.964Z"
   },
   {
    "duration": 190,
    "start_time": "2021-12-22T13:01:44.311Z"
   },
   {
    "duration": 132,
    "start_time": "2021-12-22T13:01:44.530Z"
   },
   {
    "duration": 122,
    "start_time": "2021-12-22T13:01:44.693Z"
   },
   {
    "duration": 46,
    "start_time": "2021-12-22T13:01:47.081Z"
   },
   {
    "duration": 40,
    "start_time": "2021-12-22T13:01:47.590Z"
   },
   {
    "duration": 12,
    "start_time": "2021-12-22T13:01:48.282Z"
   },
   {
    "duration": 4,
    "start_time": "2021-12-22T13:01:48.962Z"
   },
   {
    "duration": 9,
    "start_time": "2021-12-22T13:01:49.990Z"
   },
   {
    "duration": 3,
    "start_time": "2021-12-22T13:01:54.684Z"
   },
   {
    "duration": 7,
    "start_time": "2021-12-22T13:02:04.514Z"
   },
   {
    "duration": 6,
    "start_time": "2021-12-22T13:02:05.658Z"
   },
   {
    "duration": 447,
    "start_time": "2021-12-22T13:02:07.000Z"
   }
  ],
  "kernelspec": {
   "display_name": "Python 3",
   "language": "python",
   "name": "python3"
  },
  "language_info": {
   "codemirror_mode": {
    "name": "ipython",
    "version": 3
   },
   "file_extension": ".py",
   "mimetype": "text/x-python",
   "name": "python",
   "nbconvert_exporter": "python",
   "pygments_lexer": "ipython3",
   "version": "3.8.8"
  },
  "toc": {
   "base_numbering": 1,
   "nav_menu": {},
   "number_sections": true,
   "sideBar": true,
   "skip_h1_title": true,
   "title_cell": "Содержание",
   "title_sidebar": "Contents",
   "toc_cell": true,
   "toc_position": {},
   "toc_section_display": true,
   "toc_window_display": true
  }
 },
 "nbformat": 4,
 "nbformat_minor": 2
}
